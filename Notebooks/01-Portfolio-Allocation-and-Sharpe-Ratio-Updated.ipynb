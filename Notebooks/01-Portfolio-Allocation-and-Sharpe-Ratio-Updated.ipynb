{
 "cells": [
  {
   "cell_type": "markdown",
   "metadata": {},
   "source": [
    "# Sharpe Ratio and Portfolio Values"
   ]
  },
  {
   "cell_type": "code",
   "execution_count": 8,
   "metadata": {},
   "outputs": [],
   "source": [
    "import numpy as np\n",
    "import pandas as pd\n",
    "import matplotlib.pyplot as plt\n",
    "%matplotlib inline\n",
    "from datetime import datetime\n"
   ]
  },
  {
   "cell_type": "code",
   "execution_count": 11,
   "metadata": {},
   "outputs": [],
   "source": [
    "from pandas_datareader import data as pdr"
   ]
  },
  {
   "cell_type": "code",
   "execution_count": 64,
   "metadata": {},
   "outputs": [
    {
     "name": "stdout",
     "output_type": "stream",
     "text": [
      "[*********************100%***********************]  1 of 1 completed\n",
      "[*********************100%***********************]  1 of 1 completed\n",
      "[*********************100%***********************]  1 of 1 completed\n",
      "[*********************100%***********************]  1 of 1 completed\n",
      "[*********************100%***********************]  1 of 1 completed\n",
      "[*********************100%***********************]  1 of 1 completed\n",
      "[*********************100%***********************]  1 of 1 completed\n",
      "[*********************100%***********************]  1 of 1 completed\n",
      "[*********************100%***********************]  1 of 1 completed\n",
      "[*********************100%***********************]  1 of 1 completed\n",
      "[*********************100%***********************]  1 of 1 completed\n",
      "[*********************100%***********************]  1 of 1 completed\n",
      "[*********************100%***********************]  1 of 1 completed\n",
      "[*********************100%***********************]  1 of 1 completed\n",
      "[*********************100%***********************]  1 of 1 completed\n",
      "[*********************100%***********************]  1 of 1 completed\n"
     ]
    }
   ],
   "source": [
    "import yfinance as yf\n",
    "yf.pdr_override()\n",
    "#voo,aapl,znga,dis,tsla,brkb,dal,jll,qqq,su,gm,vgt,bio,rya,btc,eth\n",
    "voo = pdr.get_data_yahoo(\"VOO\", start=\"2019-01-01\", end=\"2020-10-22\")\n",
    "aapl = pdr.get_data_yahoo(\"AAPL\", start=\"2019-01-01\", end=\"2020-10-22\")\n",
    "znga = pdr.get_data_yahoo(\"ZNGA\", start=\"2019-01-01\", end=\"2020-10-22\")\n",
    "dis = pdr.get_data_yahoo(\"DIS\", start=\"2019-01-01\", end=\"2020-10-22\")\n",
    "tsla = pdr.get_data_yahoo(\"TSLA\", start=\"2019-01-01\", end=\"2020-10-22\")\n",
    "brkb = pdr.get_data_yahoo(\"BRK-B\", start=\"2019-01-01\", end=\"2020-10-22\")\n",
    "dal = pdr.get_data_yahoo(\"DAL\", start=\"2019-01-01\", end=\"2020-10-22\")\n",
    "jll = pdr.get_data_yahoo(\"JLL\", start=\"2019-01-01\", end=\"2020-10-22\")\n",
    "qqq = pdr.get_data_yahoo(\"QQQ\", start=\"2019-01-01\", end=\"2020-10-22\")\n",
    "su = pdr.get_data_yahoo(\"SU\", start=\"2019-01-01\", end=\"2020-10-22\")\n",
    "gm = pdr.get_data_yahoo(\"GM\", start=\"2019-01-01\", end=\"2020-10-22\")\n",
    "vgt = pdr.get_data_yahoo(\"VGT\", start=\"2019-01-01\", end=\"2020-10-22\")\n",
    "bio = pdr.get_data_yahoo(\"BIO\", start=\"2019-01-01\", end=\"2020-10-22\")\n",
    "rya = pdr.get_data_yahoo(\"RYAAY\", start=\"2019-01-01\", end=\"2020-10-22\")\n",
    "btc = pdr.get_data_yahoo(\"BTC-USD\", start=\"2019-01-01\", end=\"2020-10-22\")\n",
    "eth = pdr.get_data_yahoo(\"ETH-USD\", start=\"2019-01-01\", end=\"2020-10-22\")\n"
   ]
  },
  {
   "cell_type": "code",
   "execution_count": null,
   "metadata": {},
   "outputs": [],
   "source": [
    "\n"
   ]
  },
  {
   "cell_type": "code",
   "execution_count": null,
   "metadata": {},
   "outputs": [],
   "source": []
  },
  {
   "cell_type": "code",
   "execution_count": 65,
   "metadata": {},
   "outputs": [],
   "source": [
    "voo.to_csv('VOO_CLOSE')\n",
    "aapl.to_csv('AAPL_CLOSE')\n",
    "znga.to_csv('ZNGA_CLOSE')\n",
    "dis.to_csv('DIS_CLOSE')\n",
    "tsla.to_csv('TSLA_CLOSE')\n",
    "brkb.to_csv('BRK-B_CLOSE')\n",
    "dal.to_csv('DAL_CLOSE')\n",
    "jll.to_csv('JLL_CLOSE')\n",
    "qqq.to_csv('QQQ_CLOSE')\n",
    "su.to_csv('SU_CLOSE')\n",
    "gm.to_csv('GM_CLOSE')\n",
    "vgt.to_csv('VGT_CLOSE')\n",
    "bio.to_csv('BIO_CLOSE')\n",
    "rya.to_csv('RYAAY_CLOSE')\n",
    "btc.to_csv('BTC-USD_CLOSE')\n",
    "eth.to_csv('ETH-USD_CLOSE')\n",
    "#voo,aapl,znga,dis,tsla,brkb,dal,jll,qqq,su,gm,vgt,bio,rya,btc,eth\n"
   ]
  },
  {
   "cell_type": "code",
   "execution_count": null,
   "metadata": {},
   "outputs": [],
   "source": [
    "# aapl.columns[5]"
   ]
  },
  {
   "cell_type": "code",
   "execution_count": 66,
   "metadata": {},
   "outputs": [
    {
     "data": {
      "text/html": [
       "<div>\n",
       "<style scoped>\n",
       "    .dataframe tbody tr th:only-of-type {\n",
       "        vertical-align: middle;\n",
       "    }\n",
       "\n",
       "    .dataframe tbody tr th {\n",
       "        vertical-align: top;\n",
       "    }\n",
       "\n",
       "    .dataframe thead th {\n",
       "        text-align: right;\n",
       "    }\n",
       "</style>\n",
       "<table border=\"1\" class=\"dataframe\">\n",
       "  <thead>\n",
       "    <tr style=\"text-align: right;\">\n",
       "      <th></th>\n",
       "      <th>Open</th>\n",
       "      <th>High</th>\n",
       "      <th>Low</th>\n",
       "      <th>Close</th>\n",
       "      <th>Adj Close</th>\n",
       "      <th>Volume</th>\n",
       "    </tr>\n",
       "    <tr>\n",
       "      <th>Date</th>\n",
       "      <th></th>\n",
       "      <th></th>\n",
       "      <th></th>\n",
       "      <th></th>\n",
       "      <th></th>\n",
       "      <th></th>\n",
       "    </tr>\n",
       "  </thead>\n",
       "  <tbody>\n",
       "    <tr>\n",
       "      <th>2018-12-31</th>\n",
       "      <td>3.90</td>\n",
       "      <td>3.97</td>\n",
       "      <td>3.85</td>\n",
       "      <td>3.93</td>\n",
       "      <td>3.93</td>\n",
       "      <td>10814800</td>\n",
       "    </tr>\n",
       "    <tr>\n",
       "      <th>2019-01-02</th>\n",
       "      <td>3.90</td>\n",
       "      <td>4.05</td>\n",
       "      <td>3.89</td>\n",
       "      <td>3.98</td>\n",
       "      <td>3.98</td>\n",
       "      <td>16053600</td>\n",
       "    </tr>\n",
       "    <tr>\n",
       "      <th>2019-01-03</th>\n",
       "      <td>3.95</td>\n",
       "      <td>4.04</td>\n",
       "      <td>3.87</td>\n",
       "      <td>3.92</td>\n",
       "      <td>3.92</td>\n",
       "      <td>12025500</td>\n",
       "    </tr>\n",
       "    <tr>\n",
       "      <th>2019-01-04</th>\n",
       "      <td>4.00</td>\n",
       "      <td>4.08</td>\n",
       "      <td>3.94</td>\n",
       "      <td>4.02</td>\n",
       "      <td>4.02</td>\n",
       "      <td>13673500</td>\n",
       "    </tr>\n",
       "    <tr>\n",
       "      <th>2019-01-07</th>\n",
       "      <td>4.01</td>\n",
       "      <td>4.15</td>\n",
       "      <td>3.99</td>\n",
       "      <td>4.07</td>\n",
       "      <td>4.07</td>\n",
       "      <td>16605700</td>\n",
       "    </tr>\n",
       "    <tr>\n",
       "      <th>...</th>\n",
       "      <td>...</td>\n",
       "      <td>...</td>\n",
       "      <td>...</td>\n",
       "      <td>...</td>\n",
       "      <td>...</td>\n",
       "      <td>...</td>\n",
       "    </tr>\n",
       "    <tr>\n",
       "      <th>2020-10-15</th>\n",
       "      <td>9.30</td>\n",
       "      <td>9.34</td>\n",
       "      <td>9.15</td>\n",
       "      <td>9.18</td>\n",
       "      <td>9.18</td>\n",
       "      <td>13501800</td>\n",
       "    </tr>\n",
       "    <tr>\n",
       "      <th>2020-10-16</th>\n",
       "      <td>9.22</td>\n",
       "      <td>9.28</td>\n",
       "      <td>9.15</td>\n",
       "      <td>9.16</td>\n",
       "      <td>9.16</td>\n",
       "      <td>9486000</td>\n",
       "    </tr>\n",
       "    <tr>\n",
       "      <th>2020-10-19</th>\n",
       "      <td>9.20</td>\n",
       "      <td>9.30</td>\n",
       "      <td>8.98</td>\n",
       "      <td>8.99</td>\n",
       "      <td>8.99</td>\n",
       "      <td>12065600</td>\n",
       "    </tr>\n",
       "    <tr>\n",
       "      <th>2020-10-20</th>\n",
       "      <td>9.02</td>\n",
       "      <td>9.10</td>\n",
       "      <td>8.90</td>\n",
       "      <td>8.98</td>\n",
       "      <td>8.98</td>\n",
       "      <td>10663700</td>\n",
       "    </tr>\n",
       "    <tr>\n",
       "      <th>2020-10-21</th>\n",
       "      <td>9.04</td>\n",
       "      <td>9.22</td>\n",
       "      <td>9.03</td>\n",
       "      <td>9.11</td>\n",
       "      <td>9.11</td>\n",
       "      <td>15850100</td>\n",
       "    </tr>\n",
       "  </tbody>\n",
       "</table>\n",
       "<p>457 rows × 6 columns</p>\n",
       "</div>"
      ],
      "text/plain": [
       "            Open  High   Low  Close  Adj Close    Volume\n",
       "Date                                                    \n",
       "2018-12-31  3.90  3.97  3.85   3.93       3.93  10814800\n",
       "2019-01-02  3.90  4.05  3.89   3.98       3.98  16053600\n",
       "2019-01-03  3.95  4.04  3.87   3.92       3.92  12025500\n",
       "2019-01-04  4.00  4.08  3.94   4.02       4.02  13673500\n",
       "2019-01-07  4.01  4.15  3.99   4.07       4.07  16605700\n",
       "...          ...   ...   ...    ...        ...       ...\n",
       "2020-10-15  9.30  9.34  9.15   9.18       9.18  13501800\n",
       "2020-10-16  9.22  9.28  9.15   9.16       9.16   9486000\n",
       "2020-10-19  9.20  9.30  8.98   8.99       8.99  12065600\n",
       "2020-10-20  9.02  9.10  8.90   8.98       8.98  10663700\n",
       "2020-10-21  9.04  9.22  9.03   9.11       9.11  15850100\n",
       "\n",
       "[457 rows x 6 columns]"
      ]
     },
     "execution_count": 66,
     "metadata": {},
     "output_type": "execute_result"
    }
   ],
   "source": [
    "znga"
   ]
  },
  {
   "cell_type": "code",
   "execution_count": 67,
   "metadata": {},
   "outputs": [
    {
     "data": {
      "text/plain": [
       "3.930000066757202"
      ]
     },
     "execution_count": 67,
     "metadata": {},
     "output_type": "execute_result"
    }
   ],
   "source": [
    "znga.iloc[0]['Adj Close']"
   ]
  },
  {
   "cell_type": "code",
   "execution_count": null,
   "metadata": {},
   "outputs": [],
   "source": [
    "znga"
   ]
  },
  {
   "cell_type": "code",
   "execution_count": 68,
   "metadata": {},
   "outputs": [],
   "source": [
    "for stock_df in (voo,aapl,znga,dis,tsla,brkb,dal,jll,qqq,su,gm,vgt,bio,rya,btc,eth):\n",
    "    stock_df['Normed Return'] = stock_df['Adj Close']/stock_df.iloc[0]['Adj Close']"
   ]
  },
  {
   "cell_type": "code",
   "execution_count": 69,
   "metadata": {},
   "outputs": [],
   "source": [
    "for stock_df,allo in zip([voo,aapl,znga,dis,tsla,brkb,dal,jll,qqq,su,gm,vgt,bio,rya,btc,eth],[.0625,.0625,.0625,.0625,.0625,.0625,.0625,.0625,.0625,.0625,.0625,.0625,.0625,.0625,.0625,.0625]):\n",
    "    stock_df['Allocation'] = stock_df['Normed Return']*allo"
   ]
  },
  {
   "cell_type": "code",
   "execution_count": 70,
   "metadata": {},
   "outputs": [
    {
     "data": {
      "text/html": [
       "<div>\n",
       "<style scoped>\n",
       "    .dataframe tbody tr th:only-of-type {\n",
       "        vertical-align: middle;\n",
       "    }\n",
       "\n",
       "    .dataframe tbody tr th {\n",
       "        vertical-align: top;\n",
       "    }\n",
       "\n",
       "    .dataframe thead th {\n",
       "        text-align: right;\n",
       "    }\n",
       "</style>\n",
       "<table border=\"1\" class=\"dataframe\">\n",
       "  <thead>\n",
       "    <tr style=\"text-align: right;\">\n",
       "      <th></th>\n",
       "      <th>Open</th>\n",
       "      <th>High</th>\n",
       "      <th>Low</th>\n",
       "      <th>Close</th>\n",
       "      <th>Adj Close</th>\n",
       "      <th>Volume</th>\n",
       "      <th>Normed Return</th>\n",
       "      <th>Allocation</th>\n",
       "    </tr>\n",
       "    <tr>\n",
       "      <th>Date</th>\n",
       "      <th></th>\n",
       "      <th></th>\n",
       "      <th></th>\n",
       "      <th></th>\n",
       "      <th></th>\n",
       "      <th></th>\n",
       "      <th></th>\n",
       "      <th></th>\n",
       "    </tr>\n",
       "  </thead>\n",
       "  <tbody>\n",
       "    <tr>\n",
       "      <th>2020-10-15</th>\n",
       "      <td>9.30</td>\n",
       "      <td>9.34</td>\n",
       "      <td>9.15</td>\n",
       "      <td>9.18</td>\n",
       "      <td>9.18</td>\n",
       "      <td>13501800</td>\n",
       "      <td>2.335878</td>\n",
       "      <td>0.145992</td>\n",
       "    </tr>\n",
       "    <tr>\n",
       "      <th>2020-10-16</th>\n",
       "      <td>9.22</td>\n",
       "      <td>9.28</td>\n",
       "      <td>9.15</td>\n",
       "      <td>9.16</td>\n",
       "      <td>9.16</td>\n",
       "      <td>9486000</td>\n",
       "      <td>2.330789</td>\n",
       "      <td>0.145674</td>\n",
       "    </tr>\n",
       "    <tr>\n",
       "      <th>2020-10-19</th>\n",
       "      <td>9.20</td>\n",
       "      <td>9.30</td>\n",
       "      <td>8.98</td>\n",
       "      <td>8.99</td>\n",
       "      <td>8.99</td>\n",
       "      <td>12065600</td>\n",
       "      <td>2.287532</td>\n",
       "      <td>0.142971</td>\n",
       "    </tr>\n",
       "    <tr>\n",
       "      <th>2020-10-20</th>\n",
       "      <td>9.02</td>\n",
       "      <td>9.10</td>\n",
       "      <td>8.90</td>\n",
       "      <td>8.98</td>\n",
       "      <td>8.98</td>\n",
       "      <td>10663700</td>\n",
       "      <td>2.284987</td>\n",
       "      <td>0.142812</td>\n",
       "    </tr>\n",
       "    <tr>\n",
       "      <th>2020-10-21</th>\n",
       "      <td>9.04</td>\n",
       "      <td>9.22</td>\n",
       "      <td>9.03</td>\n",
       "      <td>9.11</td>\n",
       "      <td>9.11</td>\n",
       "      <td>15850100</td>\n",
       "      <td>2.318066</td>\n",
       "      <td>0.144879</td>\n",
       "    </tr>\n",
       "  </tbody>\n",
       "</table>\n",
       "</div>"
      ],
      "text/plain": [
       "            Open  High   Low  Close  Adj Close    Volume  Normed Return  \\\n",
       "Date                                                                      \n",
       "2020-10-15  9.30  9.34  9.15   9.18       9.18  13501800       2.335878   \n",
       "2020-10-16  9.22  9.28  9.15   9.16       9.16   9486000       2.330789   \n",
       "2020-10-19  9.20  9.30  8.98   8.99       8.99  12065600       2.287532   \n",
       "2020-10-20  9.02  9.10  8.90   8.98       8.98  10663700       2.284987   \n",
       "2020-10-21  9.04  9.22  9.03   9.11       9.11  15850100       2.318066   \n",
       "\n",
       "            Allocation  \n",
       "Date                    \n",
       "2020-10-15    0.145992  \n",
       "2020-10-16    0.145674  \n",
       "2020-10-19    0.142971  \n",
       "2020-10-20    0.142812  \n",
       "2020-10-21    0.144879  "
      ]
     },
     "execution_count": 70,
     "metadata": {},
     "output_type": "execute_result"
    }
   ],
   "source": [
    "znga.tail()"
   ]
  },
  {
   "cell_type": "code",
   "execution_count": null,
   "metadata": {},
   "outputs": [],
   "source": []
  },
  {
   "cell_type": "markdown",
   "metadata": {},
   "source": [
    "## Normalize Prices\n",
    "\n",
    "This is the same as cumulative daily returns"
   ]
  },
  {
   "cell_type": "code",
   "execution_count": 71,
   "metadata": {},
   "outputs": [],
   "source": [
    "for stock_df in [voo,aapl,znga,dis,tsla,brkb,dal,jll,qqq,su,gm,vgt,bio,rya,btc,eth]:\n",
    "    stock_df['Position Values'] = stock_df['Allocation']*4000\n",
    "\n"
   ]
  },
  {
   "cell_type": "code",
   "execution_count": 72,
   "metadata": {},
   "outputs": [
    {
     "data": {
      "text/html": [
       "<div>\n",
       "<style scoped>\n",
       "    .dataframe tbody tr th:only-of-type {\n",
       "        vertical-align: middle;\n",
       "    }\n",
       "\n",
       "    .dataframe tbody tr th {\n",
       "        vertical-align: top;\n",
       "    }\n",
       "\n",
       "    .dataframe thead th {\n",
       "        text-align: right;\n",
       "    }\n",
       "</style>\n",
       "<table border=\"1\" class=\"dataframe\">\n",
       "  <thead>\n",
       "    <tr style=\"text-align: right;\">\n",
       "      <th></th>\n",
       "      <th>Open</th>\n",
       "      <th>High</th>\n",
       "      <th>Low</th>\n",
       "      <th>Close</th>\n",
       "      <th>Adj Close</th>\n",
       "      <th>Volume</th>\n",
       "      <th>Normed Return</th>\n",
       "      <th>Allocation</th>\n",
       "      <th>Position Values</th>\n",
       "    </tr>\n",
       "    <tr>\n",
       "      <th>Date</th>\n",
       "      <th></th>\n",
       "      <th></th>\n",
       "      <th></th>\n",
       "      <th></th>\n",
       "      <th></th>\n",
       "      <th></th>\n",
       "      <th></th>\n",
       "      <th></th>\n",
       "      <th></th>\n",
       "    </tr>\n",
       "  </thead>\n",
       "  <tbody>\n",
       "    <tr>\n",
       "      <th>2018-12-31</th>\n",
       "      <td>39.632500</td>\n",
       "      <td>39.840000</td>\n",
       "      <td>39.119999</td>\n",
       "      <td>39.435001</td>\n",
       "      <td>38.585068</td>\n",
       "      <td>140014000</td>\n",
       "      <td>1.000000</td>\n",
       "      <td>0.062500</td>\n",
       "      <td>250.000000</td>\n",
       "    </tr>\n",
       "    <tr>\n",
       "      <th>2019-01-02</th>\n",
       "      <td>38.722500</td>\n",
       "      <td>39.712502</td>\n",
       "      <td>38.557499</td>\n",
       "      <td>39.480000</td>\n",
       "      <td>38.629097</td>\n",
       "      <td>148158800</td>\n",
       "      <td>1.001141</td>\n",
       "      <td>0.062571</td>\n",
       "      <td>250.285274</td>\n",
       "    </tr>\n",
       "    <tr>\n",
       "      <th>2019-01-03</th>\n",
       "      <td>35.994999</td>\n",
       "      <td>36.430000</td>\n",
       "      <td>35.500000</td>\n",
       "      <td>35.547501</td>\n",
       "      <td>34.781353</td>\n",
       "      <td>365248800</td>\n",
       "      <td>0.901420</td>\n",
       "      <td>0.056339</td>\n",
       "      <td>225.355008</td>\n",
       "    </tr>\n",
       "    <tr>\n",
       "      <th>2019-01-04</th>\n",
       "      <td>36.132500</td>\n",
       "      <td>37.137501</td>\n",
       "      <td>35.950001</td>\n",
       "      <td>37.064999</td>\n",
       "      <td>36.266144</td>\n",
       "      <td>234428400</td>\n",
       "      <td>0.939901</td>\n",
       "      <td>0.058744</td>\n",
       "      <td>234.975250</td>\n",
       "    </tr>\n",
       "    <tr>\n",
       "      <th>2019-01-07</th>\n",
       "      <td>37.174999</td>\n",
       "      <td>37.207500</td>\n",
       "      <td>36.474998</td>\n",
       "      <td>36.982498</td>\n",
       "      <td>36.185429</td>\n",
       "      <td>219111200</td>\n",
       "      <td>0.937809</td>\n",
       "      <td>0.058613</td>\n",
       "      <td>234.452281</td>\n",
       "    </tr>\n",
       "    <tr>\n",
       "      <th>...</th>\n",
       "      <td>...</td>\n",
       "      <td>...</td>\n",
       "      <td>...</td>\n",
       "      <td>...</td>\n",
       "      <td>...</td>\n",
       "      <td>...</td>\n",
       "      <td>...</td>\n",
       "      <td>...</td>\n",
       "      <td>...</td>\n",
       "    </tr>\n",
       "    <tr>\n",
       "      <th>2020-10-15</th>\n",
       "      <td>118.720001</td>\n",
       "      <td>121.199997</td>\n",
       "      <td>118.150002</td>\n",
       "      <td>120.709999</td>\n",
       "      <td>120.709999</td>\n",
       "      <td>112559200</td>\n",
       "      <td>3.128412</td>\n",
       "      <td>0.195526</td>\n",
       "      <td>782.103066</td>\n",
       "    </tr>\n",
       "    <tr>\n",
       "      <th>2020-10-16</th>\n",
       "      <td>121.279999</td>\n",
       "      <td>121.550003</td>\n",
       "      <td>118.809998</td>\n",
       "      <td>119.019997</td>\n",
       "      <td>119.019997</td>\n",
       "      <td>115393800</td>\n",
       "      <td>3.084613</td>\n",
       "      <td>0.192788</td>\n",
       "      <td>771.153218</td>\n",
       "    </tr>\n",
       "    <tr>\n",
       "      <th>2020-10-19</th>\n",
       "      <td>119.959999</td>\n",
       "      <td>120.419998</td>\n",
       "      <td>115.660004</td>\n",
       "      <td>115.980003</td>\n",
       "      <td>115.980003</td>\n",
       "      <td>120639300</td>\n",
       "      <td>3.005826</td>\n",
       "      <td>0.187864</td>\n",
       "      <td>751.456523</td>\n",
       "    </tr>\n",
       "    <tr>\n",
       "      <th>2020-10-20</th>\n",
       "      <td>116.199997</td>\n",
       "      <td>118.980003</td>\n",
       "      <td>115.629997</td>\n",
       "      <td>117.510002</td>\n",
       "      <td>117.510002</td>\n",
       "      <td>124423700</td>\n",
       "      <td>3.045479</td>\n",
       "      <td>0.190342</td>\n",
       "      <td>761.369676</td>\n",
       "    </tr>\n",
       "    <tr>\n",
       "      <th>2020-10-21</th>\n",
       "      <td>116.669998</td>\n",
       "      <td>118.709999</td>\n",
       "      <td>116.449997</td>\n",
       "      <td>116.870003</td>\n",
       "      <td>116.870003</td>\n",
       "      <td>89946000</td>\n",
       "      <td>3.028892</td>\n",
       "      <td>0.189306</td>\n",
       "      <td>757.222998</td>\n",
       "    </tr>\n",
       "  </tbody>\n",
       "</table>\n",
       "<p>457 rows × 9 columns</p>\n",
       "</div>"
      ],
      "text/plain": [
       "                  Open        High         Low       Close   Adj Close  \\\n",
       "Date                                                                     \n",
       "2018-12-31   39.632500   39.840000   39.119999   39.435001   38.585068   \n",
       "2019-01-02   38.722500   39.712502   38.557499   39.480000   38.629097   \n",
       "2019-01-03   35.994999   36.430000   35.500000   35.547501   34.781353   \n",
       "2019-01-04   36.132500   37.137501   35.950001   37.064999   36.266144   \n",
       "2019-01-07   37.174999   37.207500   36.474998   36.982498   36.185429   \n",
       "...                ...         ...         ...         ...         ...   \n",
       "2020-10-15  118.720001  121.199997  118.150002  120.709999  120.709999   \n",
       "2020-10-16  121.279999  121.550003  118.809998  119.019997  119.019997   \n",
       "2020-10-19  119.959999  120.419998  115.660004  115.980003  115.980003   \n",
       "2020-10-20  116.199997  118.980003  115.629997  117.510002  117.510002   \n",
       "2020-10-21  116.669998  118.709999  116.449997  116.870003  116.870003   \n",
       "\n",
       "               Volume  Normed Return  Allocation  Position Values  \n",
       "Date                                                               \n",
       "2018-12-31  140014000       1.000000    0.062500       250.000000  \n",
       "2019-01-02  148158800       1.001141    0.062571       250.285274  \n",
       "2019-01-03  365248800       0.901420    0.056339       225.355008  \n",
       "2019-01-04  234428400       0.939901    0.058744       234.975250  \n",
       "2019-01-07  219111200       0.937809    0.058613       234.452281  \n",
       "...               ...            ...         ...              ...  \n",
       "2020-10-15  112559200       3.128412    0.195526       782.103066  \n",
       "2020-10-16  115393800       3.084613    0.192788       771.153218  \n",
       "2020-10-19  120639300       3.005826    0.187864       751.456523  \n",
       "2020-10-20  124423700       3.045479    0.190342       761.369676  \n",
       "2020-10-21   89946000       3.028892    0.189306       757.222998  \n",
       "\n",
       "[457 rows x 9 columns]"
      ]
     },
     "execution_count": 72,
     "metadata": {},
     "output_type": "execute_result"
    }
   ],
   "source": [
    "aapl"
   ]
  },
  {
   "cell_type": "code",
   "execution_count": null,
   "metadata": {},
   "outputs": [],
   "source": []
  },
  {
   "cell_type": "code",
   "execution_count": 73,
   "metadata": {},
   "outputs": [],
   "source": [
    "portfolio_val = pd.concat([voo['Position Values'],aapl['Position Values'],\n",
    "                                                  znga['Position Values'],\n",
    "                                                  dis['Position Values'],\n",
    "                                                  tsla['Position Values'],\n",
    "                                                  brkb['Position Values'],\n",
    "                                                  dal['Position Values'],\n",
    "                                                  jll['Position Values'], \n",
    "                                                  qqq['Position Values'],\n",
    "                                                  su['Position Values'],\n",
    "                                                  gm['Position Values'],\n",
    "                                                  vgt['Position Values'],\n",
    "                                                  bio['Position Values'],                                                    \n",
    "                                                  rya['Position Values'],\n",
    "                                                  btc['Position Values'], \n",
    "                                                  eth['Position Values']], axis=1,)\n",
    "\n",
    "                                                    \n",
    "\n",
    "\n",
    "\n",
    "\n"
   ]
  },
  {
   "cell_type": "code",
   "execution_count": 74,
   "metadata": {},
   "outputs": [
    {
     "data": {
      "text/html": [
       "<div>\n",
       "<style scoped>\n",
       "    .dataframe tbody tr th:only-of-type {\n",
       "        vertical-align: middle;\n",
       "    }\n",
       "\n",
       "    .dataframe tbody tr th {\n",
       "        vertical-align: top;\n",
       "    }\n",
       "\n",
       "    .dataframe thead th {\n",
       "        text-align: right;\n",
       "    }\n",
       "</style>\n",
       "<table border=\"1\" class=\"dataframe\">\n",
       "  <thead>\n",
       "    <tr style=\"text-align: right;\">\n",
       "      <th></th>\n",
       "      <th>Position Values</th>\n",
       "      <th>Position Values</th>\n",
       "      <th>Position Values</th>\n",
       "      <th>Position Values</th>\n",
       "      <th>Position Values</th>\n",
       "      <th>Position Values</th>\n",
       "      <th>Position Values</th>\n",
       "      <th>Position Values</th>\n",
       "      <th>Position Values</th>\n",
       "      <th>Position Values</th>\n",
       "      <th>Position Values</th>\n",
       "      <th>Position Values</th>\n",
       "      <th>Position Values</th>\n",
       "      <th>Position Values</th>\n",
       "      <th>Position Values</th>\n",
       "      <th>Position Values</th>\n",
       "    </tr>\n",
       "    <tr>\n",
       "      <th>Date</th>\n",
       "      <th></th>\n",
       "      <th></th>\n",
       "      <th></th>\n",
       "      <th></th>\n",
       "      <th></th>\n",
       "      <th></th>\n",
       "      <th></th>\n",
       "      <th></th>\n",
       "      <th></th>\n",
       "      <th></th>\n",
       "      <th></th>\n",
       "      <th></th>\n",
       "      <th></th>\n",
       "      <th></th>\n",
       "      <th></th>\n",
       "      <th></th>\n",
       "    </tr>\n",
       "  </thead>\n",
       "  <tbody>\n",
       "    <tr>\n",
       "      <th>2018-12-31</th>\n",
       "      <td>250.000000</td>\n",
       "      <td>250.000000</td>\n",
       "      <td>250.000000</td>\n",
       "      <td>250.000000</td>\n",
       "      <td>250.000000</td>\n",
       "      <td>250.000000</td>\n",
       "      <td>250.000000</td>\n",
       "      <td>250.000000</td>\n",
       "      <td>250.000000</td>\n",
       "      <td>250.000000</td>\n",
       "      <td>250.000000</td>\n",
       "      <td>250.000000</td>\n",
       "      <td>250.000000</td>\n",
       "      <td>250.000000</td>\n",
       "      <td>250.000000</td>\n",
       "      <td>250.000000</td>\n",
       "    </tr>\n",
       "    <tr>\n",
       "      <th>2019-01-01</th>\n",
       "      <td>NaN</td>\n",
       "      <td>NaN</td>\n",
       "      <td>NaN</td>\n",
       "      <td>NaN</td>\n",
       "      <td>NaN</td>\n",
       "      <td>NaN</td>\n",
       "      <td>NaN</td>\n",
       "      <td>NaN</td>\n",
       "      <td>NaN</td>\n",
       "      <td>NaN</td>\n",
       "      <td>NaN</td>\n",
       "      <td>NaN</td>\n",
       "      <td>NaN</td>\n",
       "      <td>NaN</td>\n",
       "      <td>256.734414</td>\n",
       "      <td>263.967230</td>\n",
       "    </tr>\n",
       "    <tr>\n",
       "      <th>2019-01-02</th>\n",
       "      <td>250.195858</td>\n",
       "      <td>250.285274</td>\n",
       "      <td>253.180658</td>\n",
       "      <td>248.449627</td>\n",
       "      <td>232.962742</td>\n",
       "      <td>248.310327</td>\n",
       "      <td>250.951904</td>\n",
       "      <td>253.021343</td>\n",
       "      <td>251.004805</td>\n",
       "      <td>252.681419</td>\n",
       "      <td>251.420036</td>\n",
       "      <td>250.149860</td>\n",
       "      <td>245.543020</td>\n",
       "      <td>251.927401</td>\n",
       "      <td>263.406696</td>\n",
       "      <td>290.638251</td>\n",
       "    </tr>\n",
       "    <tr>\n",
       "      <th>2019-01-03</th>\n",
       "      <td>244.223515</td>\n",
       "      <td>225.355008</td>\n",
       "      <td>249.363868</td>\n",
       "      <td>242.430462</td>\n",
       "      <td>225.631013</td>\n",
       "      <td>234.670402</td>\n",
       "      <td>228.507012</td>\n",
       "      <td>240.699038</td>\n",
       "      <td>242.804378</td>\n",
       "      <td>252.055750</td>\n",
       "      <td>241.031411</td>\n",
       "      <td>237.786974</td>\n",
       "      <td>241.473605</td>\n",
       "      <td>247.511918</td>\n",
       "      <td>256.281612</td>\n",
       "      <td>279.554891</td>\n",
       "    </tr>\n",
       "    <tr>\n",
       "      <th>2019-01-04</th>\n",
       "      <td>252.284525</td>\n",
       "      <td>234.975250</td>\n",
       "      <td>255.725185</td>\n",
       "      <td>249.908793</td>\n",
       "      <td>238.649341</td>\n",
       "      <td>239.004805</td>\n",
       "      <td>239.428862</td>\n",
       "      <td>251.560031</td>\n",
       "      <td>253.192648</td>\n",
       "      <td>262.066505</td>\n",
       "      <td>249.103138</td>\n",
       "      <td>248.126824</td>\n",
       "      <td>243.605199</td>\n",
       "      <td>255.186443</td>\n",
       "      <td>257.682761</td>\n",
       "      <td>289.765209</td>\n",
       "    </tr>\n",
       "  </tbody>\n",
       "</table>\n",
       "</div>"
      ],
      "text/plain": [
       "            Position Values  Position Values  Position Values  \\\n",
       "Date                                                            \n",
       "2018-12-31       250.000000       250.000000       250.000000   \n",
       "2019-01-01              NaN              NaN              NaN   \n",
       "2019-01-02       250.195858       250.285274       253.180658   \n",
       "2019-01-03       244.223515       225.355008       249.363868   \n",
       "2019-01-04       252.284525       234.975250       255.725185   \n",
       "\n",
       "            Position Values  Position Values  Position Values  \\\n",
       "Date                                                            \n",
       "2018-12-31       250.000000       250.000000       250.000000   \n",
       "2019-01-01              NaN              NaN              NaN   \n",
       "2019-01-02       248.449627       232.962742       248.310327   \n",
       "2019-01-03       242.430462       225.631013       234.670402   \n",
       "2019-01-04       249.908793       238.649341       239.004805   \n",
       "\n",
       "            Position Values  Position Values  Position Values  \\\n",
       "Date                                                            \n",
       "2018-12-31       250.000000       250.000000       250.000000   \n",
       "2019-01-01              NaN              NaN              NaN   \n",
       "2019-01-02       250.951904       253.021343       251.004805   \n",
       "2019-01-03       228.507012       240.699038       242.804378   \n",
       "2019-01-04       239.428862       251.560031       253.192648   \n",
       "\n",
       "            Position Values  Position Values  Position Values  \\\n",
       "Date                                                            \n",
       "2018-12-31       250.000000       250.000000       250.000000   \n",
       "2019-01-01              NaN              NaN              NaN   \n",
       "2019-01-02       252.681419       251.420036       250.149860   \n",
       "2019-01-03       252.055750       241.031411       237.786974   \n",
       "2019-01-04       262.066505       249.103138       248.126824   \n",
       "\n",
       "            Position Values  Position Values  Position Values  Position Values  \n",
       "Date                                                                            \n",
       "2018-12-31       250.000000       250.000000       250.000000       250.000000  \n",
       "2019-01-01              NaN              NaN       256.734414       263.967230  \n",
       "2019-01-02       245.543020       251.927401       263.406696       290.638251  \n",
       "2019-01-03       241.473605       247.511918       256.281612       279.554891  \n",
       "2019-01-04       243.605199       255.186443       257.682761       289.765209  "
      ]
     },
     "execution_count": 74,
     "metadata": {},
     "output_type": "execute_result"
    }
   ],
   "source": [
    "portfolio_val.head()"
   ]
  },
  {
   "cell_type": "code",
   "execution_count": null,
   "metadata": {},
   "outputs": [],
   "source": [
    "#voo,aapl,znga,dis,tsla,brkb,dal,jll,qqq,su,gm,vgt,bio,rya,btc,eth"
   ]
  },
  {
   "cell_type": "code",
   "execution_count": null,
   "metadata": {},
   "outputs": [],
   "source": [
    "portfolio_val.head()"
   ]
  },
  {
   "cell_type": "code",
   "execution_count": 76,
   "metadata": {},
   "outputs": [],
   "source": [
    "portfolio_val.columns = ['VOO Pos','AAPL Pos','ZNGA Pos','DIS Pos','TSLA Pos','BRK-B Pos'\n",
    "                         ,'DAL Pos','JLL Pos','QQQ Pos','SU Pos','GM Pos','VGT Pos',\n",
    "                         'BIO Pos','RYAAY Pos','BTC-USD Pos','ETH-USD Pos']"
   ]
  },
  {
   "cell_type": "code",
   "execution_count": null,
   "metadata": {},
   "outputs": [],
   "source": [
    "'''brkb.to_csv('BRK-B_CLOSE')\n",
    "dal.to_csv('DAL_CLOSE')\n",
    "jll.to_csv('JLL_CLOSE')\n",
    "qqq.to_csv('QQQ_CLOSE')\n",
    "su.to_csv('SU_CLOSE')\n",
    "gm.to_csv('GM_CLOSE')\n",
    "vgt.to_csv('VGT_CLOSE')\n",
    "bio.to_csv('BIO_CLOSE')\n",
    "rya.to_csv('RYAAY_CLOSE')\n",
    "btc.to_csv('BTC-USD_CLOSE')\n",
    "eth.to_csv('ETH-USD_CLOSE')\n",
    "'''"
   ]
  },
  {
   "cell_type": "code",
   "execution_count": 77,
   "metadata": {},
   "outputs": [
    {
     "data": {
      "text/html": [
       "<div>\n",
       "<style scoped>\n",
       "    .dataframe tbody tr th:only-of-type {\n",
       "        vertical-align: middle;\n",
       "    }\n",
       "\n",
       "    .dataframe tbody tr th {\n",
       "        vertical-align: top;\n",
       "    }\n",
       "\n",
       "    .dataframe thead th {\n",
       "        text-align: right;\n",
       "    }\n",
       "</style>\n",
       "<table border=\"1\" class=\"dataframe\">\n",
       "  <thead>\n",
       "    <tr style=\"text-align: right;\">\n",
       "      <th></th>\n",
       "      <th>VOO Pos</th>\n",
       "      <th>AAPL Pos</th>\n",
       "      <th>ZNGA Pos</th>\n",
       "      <th>DIS Pos</th>\n",
       "      <th>TSLA Pos</th>\n",
       "      <th>BRK-B Pos</th>\n",
       "      <th>DAL Pos</th>\n",
       "      <th>JLL Pos</th>\n",
       "      <th>QQQ Pos</th>\n",
       "      <th>SU Pos</th>\n",
       "      <th>GM Pos</th>\n",
       "      <th>VGT Pos</th>\n",
       "      <th>BIO Pos</th>\n",
       "      <th>RYAAY Pos</th>\n",
       "      <th>BTC-USD Pos</th>\n",
       "      <th>ETH-USD Pos</th>\n",
       "    </tr>\n",
       "    <tr>\n",
       "      <th>Date</th>\n",
       "      <th></th>\n",
       "      <th></th>\n",
       "      <th></th>\n",
       "      <th></th>\n",
       "      <th></th>\n",
       "      <th></th>\n",
       "      <th></th>\n",
       "      <th></th>\n",
       "      <th></th>\n",
       "      <th></th>\n",
       "      <th></th>\n",
       "      <th></th>\n",
       "      <th></th>\n",
       "      <th></th>\n",
       "      <th></th>\n",
       "      <th></th>\n",
       "    </tr>\n",
       "  </thead>\n",
       "  <tbody>\n",
       "    <tr>\n",
       "      <th>2018-12-31</th>\n",
       "      <td>250.000000</td>\n",
       "      <td>250.000000</td>\n",
       "      <td>250.000000</td>\n",
       "      <td>250.000000</td>\n",
       "      <td>250.000000</td>\n",
       "      <td>250.000000</td>\n",
       "      <td>250.000000</td>\n",
       "      <td>250.000000</td>\n",
       "      <td>250.000000</td>\n",
       "      <td>250.000000</td>\n",
       "      <td>250.000000</td>\n",
       "      <td>250.000000</td>\n",
       "      <td>250.000000</td>\n",
       "      <td>250.000000</td>\n",
       "      <td>250.000000</td>\n",
       "      <td>250.000000</td>\n",
       "    </tr>\n",
       "    <tr>\n",
       "      <th>2019-01-01</th>\n",
       "      <td>NaN</td>\n",
       "      <td>NaN</td>\n",
       "      <td>NaN</td>\n",
       "      <td>NaN</td>\n",
       "      <td>NaN</td>\n",
       "      <td>NaN</td>\n",
       "      <td>NaN</td>\n",
       "      <td>NaN</td>\n",
       "      <td>NaN</td>\n",
       "      <td>NaN</td>\n",
       "      <td>NaN</td>\n",
       "      <td>NaN</td>\n",
       "      <td>NaN</td>\n",
       "      <td>NaN</td>\n",
       "      <td>256.734414</td>\n",
       "      <td>263.967230</td>\n",
       "    </tr>\n",
       "    <tr>\n",
       "      <th>2019-01-02</th>\n",
       "      <td>250.195858</td>\n",
       "      <td>250.285274</td>\n",
       "      <td>253.180658</td>\n",
       "      <td>248.449627</td>\n",
       "      <td>232.962742</td>\n",
       "      <td>248.310327</td>\n",
       "      <td>250.951904</td>\n",
       "      <td>253.021343</td>\n",
       "      <td>251.004805</td>\n",
       "      <td>252.681419</td>\n",
       "      <td>251.420036</td>\n",
       "      <td>250.149860</td>\n",
       "      <td>245.543020</td>\n",
       "      <td>251.927401</td>\n",
       "      <td>263.406696</td>\n",
       "      <td>290.638251</td>\n",
       "    </tr>\n",
       "    <tr>\n",
       "      <th>2019-01-03</th>\n",
       "      <td>244.223515</td>\n",
       "      <td>225.355008</td>\n",
       "      <td>249.363868</td>\n",
       "      <td>242.430462</td>\n",
       "      <td>225.631013</td>\n",
       "      <td>234.670402</td>\n",
       "      <td>228.507012</td>\n",
       "      <td>240.699038</td>\n",
       "      <td>242.804378</td>\n",
       "      <td>252.055750</td>\n",
       "      <td>241.031411</td>\n",
       "      <td>237.786974</td>\n",
       "      <td>241.473605</td>\n",
       "      <td>247.511918</td>\n",
       "      <td>256.281612</td>\n",
       "      <td>279.554891</td>\n",
       "    </tr>\n",
       "    <tr>\n",
       "      <th>2019-01-04</th>\n",
       "      <td>252.284525</td>\n",
       "      <td>234.975250</td>\n",
       "      <td>255.725185</td>\n",
       "      <td>249.908793</td>\n",
       "      <td>238.649341</td>\n",
       "      <td>239.004805</td>\n",
       "      <td>239.428862</td>\n",
       "      <td>251.560031</td>\n",
       "      <td>253.192648</td>\n",
       "      <td>262.066505</td>\n",
       "      <td>249.103138</td>\n",
       "      <td>248.126824</td>\n",
       "      <td>243.605199</td>\n",
       "      <td>255.186443</td>\n",
       "      <td>257.682761</td>\n",
       "      <td>289.765209</td>\n",
       "    </tr>\n",
       "  </tbody>\n",
       "</table>\n",
       "</div>"
      ],
      "text/plain": [
       "               VOO Pos    AAPL Pos    ZNGA Pos     DIS Pos    TSLA Pos  \\\n",
       "Date                                                                     \n",
       "2018-12-31  250.000000  250.000000  250.000000  250.000000  250.000000   \n",
       "2019-01-01         NaN         NaN         NaN         NaN         NaN   \n",
       "2019-01-02  250.195858  250.285274  253.180658  248.449627  232.962742   \n",
       "2019-01-03  244.223515  225.355008  249.363868  242.430462  225.631013   \n",
       "2019-01-04  252.284525  234.975250  255.725185  249.908793  238.649341   \n",
       "\n",
       "             BRK-B Pos     DAL Pos     JLL Pos     QQQ Pos      SU Pos  \\\n",
       "Date                                                                     \n",
       "2018-12-31  250.000000  250.000000  250.000000  250.000000  250.000000   \n",
       "2019-01-01         NaN         NaN         NaN         NaN         NaN   \n",
       "2019-01-02  248.310327  250.951904  253.021343  251.004805  252.681419   \n",
       "2019-01-03  234.670402  228.507012  240.699038  242.804378  252.055750   \n",
       "2019-01-04  239.004805  239.428862  251.560031  253.192648  262.066505   \n",
       "\n",
       "                GM Pos     VGT Pos     BIO Pos   RYAAY Pos  BTC-USD Pos  \\\n",
       "Date                                                                      \n",
       "2018-12-31  250.000000  250.000000  250.000000  250.000000   250.000000   \n",
       "2019-01-01         NaN         NaN         NaN         NaN   256.734414   \n",
       "2019-01-02  251.420036  250.149860  245.543020  251.927401   263.406696   \n",
       "2019-01-03  241.031411  237.786974  241.473605  247.511918   256.281612   \n",
       "2019-01-04  249.103138  248.126824  243.605199  255.186443   257.682761   \n",
       "\n",
       "            ETH-USD Pos  \n",
       "Date                     \n",
       "2018-12-31   250.000000  \n",
       "2019-01-01   263.967230  \n",
       "2019-01-02   290.638251  \n",
       "2019-01-03   279.554891  \n",
       "2019-01-04   289.765209  "
      ]
     },
     "execution_count": 77,
     "metadata": {},
     "output_type": "execute_result"
    }
   ],
   "source": [
    "portfolio_val.head()"
   ]
  },
  {
   "cell_type": "code",
   "execution_count": 78,
   "metadata": {},
   "outputs": [],
   "source": [
    "portfolio_val['Total Pos'] = portfolio_val.sum(axis=1)"
   ]
  },
  {
   "cell_type": "code",
   "execution_count": 79,
   "metadata": {},
   "outputs": [
    {
     "data": {
      "text/html": [
       "<div>\n",
       "<style scoped>\n",
       "    .dataframe tbody tr th:only-of-type {\n",
       "        vertical-align: middle;\n",
       "    }\n",
       "\n",
       "    .dataframe tbody tr th {\n",
       "        vertical-align: top;\n",
       "    }\n",
       "\n",
       "    .dataframe thead th {\n",
       "        text-align: right;\n",
       "    }\n",
       "</style>\n",
       "<table border=\"1\" class=\"dataframe\">\n",
       "  <thead>\n",
       "    <tr style=\"text-align: right;\">\n",
       "      <th></th>\n",
       "      <th>VOO Pos</th>\n",
       "      <th>AAPL Pos</th>\n",
       "      <th>ZNGA Pos</th>\n",
       "      <th>DIS Pos</th>\n",
       "      <th>TSLA Pos</th>\n",
       "      <th>BRK-B Pos</th>\n",
       "      <th>DAL Pos</th>\n",
       "      <th>JLL Pos</th>\n",
       "      <th>QQQ Pos</th>\n",
       "      <th>SU Pos</th>\n",
       "      <th>GM Pos</th>\n",
       "      <th>VGT Pos</th>\n",
       "      <th>BIO Pos</th>\n",
       "      <th>RYAAY Pos</th>\n",
       "      <th>BTC-USD Pos</th>\n",
       "      <th>ETH-USD Pos</th>\n",
       "      <th>Total Pos</th>\n",
       "    </tr>\n",
       "    <tr>\n",
       "      <th>Date</th>\n",
       "      <th></th>\n",
       "      <th></th>\n",
       "      <th></th>\n",
       "      <th></th>\n",
       "      <th></th>\n",
       "      <th></th>\n",
       "      <th></th>\n",
       "      <th></th>\n",
       "      <th></th>\n",
       "      <th></th>\n",
       "      <th></th>\n",
       "      <th></th>\n",
       "      <th></th>\n",
       "      <th></th>\n",
       "      <th></th>\n",
       "      <th></th>\n",
       "      <th></th>\n",
       "    </tr>\n",
       "  </thead>\n",
       "  <tbody>\n",
       "    <tr>\n",
       "      <th>2020-10-17</th>\n",
       "      <td>NaN</td>\n",
       "      <td>NaN</td>\n",
       "      <td>NaN</td>\n",
       "      <td>NaN</td>\n",
       "      <td>NaN</td>\n",
       "      <td>NaN</td>\n",
       "      <td>NaN</td>\n",
       "      <td>NaN</td>\n",
       "      <td>NaN</td>\n",
       "      <td>NaN</td>\n",
       "      <td>NaN</td>\n",
       "      <td>NaN</td>\n",
       "      <td>NaN</td>\n",
       "      <td>NaN</td>\n",
       "      <td>758.683586</td>\n",
       "      <td>691.423687</td>\n",
       "      <td>1450.107273</td>\n",
       "    </tr>\n",
       "    <tr>\n",
       "      <th>2020-10-18</th>\n",
       "      <td>NaN</td>\n",
       "      <td>NaN</td>\n",
       "      <td>NaN</td>\n",
       "      <td>NaN</td>\n",
       "      <td>NaN</td>\n",
       "      <td>NaN</td>\n",
       "      <td>NaN</td>\n",
       "      <td>NaN</td>\n",
       "      <td>NaN</td>\n",
       "      <td>NaN</td>\n",
       "      <td>NaN</td>\n",
       "      <td>NaN</td>\n",
       "      <td>NaN</td>\n",
       "      <td>NaN</td>\n",
       "      <td>767.050393</td>\n",
       "      <td>708.964886</td>\n",
       "      <td>1476.015280</td>\n",
       "    </tr>\n",
       "    <tr>\n",
       "      <th>2020-10-19</th>\n",
       "      <td>353.768872</td>\n",
       "      <td>751.456523</td>\n",
       "      <td>571.882927</td>\n",
       "      <td>286.703697</td>\n",
       "      <td>1618.201632</td>\n",
       "      <td>255.889427</td>\n",
       "      <td>163.220655</td>\n",
       "      <td>217.017691</td>\n",
       "      <td>465.524379</td>\n",
       "      <td>114.157279</td>\n",
       "      <td>262.902930</td>\n",
       "      <td>491.060133</td>\n",
       "      <td>596.783249</td>\n",
       "      <td>294.119725</td>\n",
       "      <td>784.329210</td>\n",
       "      <td>712.192648</td>\n",
       "      <td>7939.210977</td>\n",
       "    </tr>\n",
       "    <tr>\n",
       "      <th>2020-10-20</th>\n",
       "      <td>355.165154</td>\n",
       "      <td>761.369676</td>\n",
       "      <td>571.246781</td>\n",
       "      <td>288.365331</td>\n",
       "      <td>1584.810764</td>\n",
       "      <td>257.199536</td>\n",
       "      <td>165.707825</td>\n",
       "      <td>218.429737</td>\n",
       "      <td>466.525004</td>\n",
       "      <td>115.317216</td>\n",
       "      <td>280.640010</td>\n",
       "      <td>491.687740</td>\n",
       "      <td>605.654136</td>\n",
       "      <td>298.009550</td>\n",
       "      <td>795.971729</td>\n",
       "      <td>691.950378</td>\n",
       "      <td>7948.050568</td>\n",
       "    </tr>\n",
       "    <tr>\n",
       "      <th>2020-10-21</th>\n",
       "      <td>354.523302</td>\n",
       "      <td>757.222998</td>\n",
       "      <td>579.516508</td>\n",
       "      <td>292.242513</td>\n",
       "      <td>1587.440017</td>\n",
       "      <td>257.346459</td>\n",
       "      <td>163.220655</td>\n",
       "      <td>219.563351</td>\n",
       "      <td>466.164130</td>\n",
       "      <td>111.257431</td>\n",
       "      <td>281.980161</td>\n",
       "      <td>489.927403</td>\n",
       "      <td>602.262929</td>\n",
       "      <td>294.925736</td>\n",
       "      <td>856.580006</td>\n",
       "      <td>735.163561</td>\n",
       "      <td>8049.337160</td>\n",
       "    </tr>\n",
       "  </tbody>\n",
       "</table>\n",
       "</div>"
      ],
      "text/plain": [
       "               VOO Pos    AAPL Pos    ZNGA Pos     DIS Pos     TSLA Pos  \\\n",
       "Date                                                                      \n",
       "2020-10-17         NaN         NaN         NaN         NaN          NaN   \n",
       "2020-10-18         NaN         NaN         NaN         NaN          NaN   \n",
       "2020-10-19  353.768872  751.456523  571.882927  286.703697  1618.201632   \n",
       "2020-10-20  355.165154  761.369676  571.246781  288.365331  1584.810764   \n",
       "2020-10-21  354.523302  757.222998  579.516508  292.242513  1587.440017   \n",
       "\n",
       "             BRK-B Pos     DAL Pos     JLL Pos     QQQ Pos      SU Pos  \\\n",
       "Date                                                                     \n",
       "2020-10-17         NaN         NaN         NaN         NaN         NaN   \n",
       "2020-10-18         NaN         NaN         NaN         NaN         NaN   \n",
       "2020-10-19  255.889427  163.220655  217.017691  465.524379  114.157279   \n",
       "2020-10-20  257.199536  165.707825  218.429737  466.525004  115.317216   \n",
       "2020-10-21  257.346459  163.220655  219.563351  466.164130  111.257431   \n",
       "\n",
       "                GM Pos     VGT Pos     BIO Pos   RYAAY Pos  BTC-USD Pos  \\\n",
       "Date                                                                      \n",
       "2020-10-17         NaN         NaN         NaN         NaN   758.683586   \n",
       "2020-10-18         NaN         NaN         NaN         NaN   767.050393   \n",
       "2020-10-19  262.902930  491.060133  596.783249  294.119725   784.329210   \n",
       "2020-10-20  280.640010  491.687740  605.654136  298.009550   795.971729   \n",
       "2020-10-21  281.980161  489.927403  602.262929  294.925736   856.580006   \n",
       "\n",
       "            ETH-USD Pos    Total Pos  \n",
       "Date                                  \n",
       "2020-10-17   691.423687  1450.107273  \n",
       "2020-10-18   708.964886  1476.015280  \n",
       "2020-10-19   712.192648  7939.210977  \n",
       "2020-10-20   691.950378  7948.050568  \n",
       "2020-10-21   735.163561  8049.337160  "
      ]
     },
     "execution_count": 79,
     "metadata": {},
     "output_type": "execute_result"
    }
   ],
   "source": [
    "portfolio_val.tail()"
   ]
  },
  {
   "cell_type": "code",
   "execution_count": 80,
   "metadata": {},
   "outputs": [],
   "source": [
    "import matplotlib.pyplot as plt\n",
    "%matplotlib inline"
   ]
  },
  {
   "cell_type": "code",
   "execution_count": 81,
   "metadata": {},
   "outputs": [
    {
     "data": {
      "text/plain": [
       "Text(0.5, 1.0, 'Total Portfolio Value')"
      ]
     },
     "execution_count": 81,
     "metadata": {},
     "output_type": "execute_result"
    },
    {
     "data": {
      "image/png": "[encoded data removed]",
      "text/plain": [
       "<Figure size 720x576 with 1 Axes>"
      ]
     },
     "metadata": {
      "needs_background": "light"
     },
     "output_type": "display_data"
    }
   ],
   "source": [
    "portfolio_val['Total Pos'].plot(figsize=(10,8))\n",
    "plt.title('Total Portfolio Value')"
   ]
  },
  {
   "cell_type": "code",
   "execution_count": 82,
   "metadata": {},
   "outputs": [
    {
     "data": {
      "text/plain": [
       "<AxesSubplot:xlabel='Date'>"
      ]
     },
     "execution_count": 82,
     "metadata": {},
     "output_type": "execute_result"
    },
    {
     "data": {
      "image/png": "[encoded data removed]",
      "text/plain": [
       "<Figure size 432x288 with 1 Axes>"
      ]
     },
     "metadata": {
      "needs_background": "light"
     },
     "output_type": "display_data"
    }
   ],
   "source": [
    "portfolio_val.drop('Total Pos',axis=1).plot(kind='line')"
   ]
  },
  {
   "cell_type": "code",
   "execution_count": 83,
   "metadata": {},
   "outputs": [
    {
     "data": {
      "text/html": [
       "<div>\n",
       "<style scoped>\n",
       "    .dataframe tbody tr th:only-of-type {\n",
       "        vertical-align: middle;\n",
       "    }\n",
       "\n",
       "    .dataframe tbody tr th {\n",
       "        vertical-align: top;\n",
       "    }\n",
       "\n",
       "    .dataframe thead th {\n",
       "        text-align: right;\n",
       "    }\n",
       "</style>\n",
       "<table border=\"1\" class=\"dataframe\">\n",
       "  <thead>\n",
       "    <tr style=\"text-align: right;\">\n",
       "      <th></th>\n",
       "      <th>VOO Pos</th>\n",
       "      <th>AAPL Pos</th>\n",
       "      <th>ZNGA Pos</th>\n",
       "      <th>DIS Pos</th>\n",
       "      <th>TSLA Pos</th>\n",
       "      <th>BRK-B Pos</th>\n",
       "      <th>DAL Pos</th>\n",
       "      <th>JLL Pos</th>\n",
       "      <th>QQQ Pos</th>\n",
       "      <th>SU Pos</th>\n",
       "      <th>GM Pos</th>\n",
       "      <th>VGT Pos</th>\n",
       "      <th>BIO Pos</th>\n",
       "      <th>RYAAY Pos</th>\n",
       "      <th>BTC-USD Pos</th>\n",
       "      <th>ETH-USD Pos</th>\n",
       "      <th>Total Pos</th>\n",
       "    </tr>\n",
       "    <tr>\n",
       "      <th>Date</th>\n",
       "      <th></th>\n",
       "      <th></th>\n",
       "      <th></th>\n",
       "      <th></th>\n",
       "      <th></th>\n",
       "      <th></th>\n",
       "      <th></th>\n",
       "      <th></th>\n",
       "      <th></th>\n",
       "      <th></th>\n",
       "      <th></th>\n",
       "      <th></th>\n",
       "      <th></th>\n",
       "      <th></th>\n",
       "      <th></th>\n",
       "      <th></th>\n",
       "      <th></th>\n",
       "    </tr>\n",
       "  </thead>\n",
       "  <tbody>\n",
       "    <tr>\n",
       "      <th>2020-10-17</th>\n",
       "      <td>NaN</td>\n",
       "      <td>NaN</td>\n",
       "      <td>NaN</td>\n",
       "      <td>NaN</td>\n",
       "      <td>NaN</td>\n",
       "      <td>NaN</td>\n",
       "      <td>NaN</td>\n",
       "      <td>NaN</td>\n",
       "      <td>NaN</td>\n",
       "      <td>NaN</td>\n",
       "      <td>NaN</td>\n",
       "      <td>NaN</td>\n",
       "      <td>NaN</td>\n",
       "      <td>NaN</td>\n",
       "      <td>758.683586</td>\n",
       "      <td>691.423687</td>\n",
       "      <td>1450.107273</td>\n",
       "    </tr>\n",
       "    <tr>\n",
       "      <th>2020-10-18</th>\n",
       "      <td>NaN</td>\n",
       "      <td>NaN</td>\n",
       "      <td>NaN</td>\n",
       "      <td>NaN</td>\n",
       "      <td>NaN</td>\n",
       "      <td>NaN</td>\n",
       "      <td>NaN</td>\n",
       "      <td>NaN</td>\n",
       "      <td>NaN</td>\n",
       "      <td>NaN</td>\n",
       "      <td>NaN</td>\n",
       "      <td>NaN</td>\n",
       "      <td>NaN</td>\n",
       "      <td>NaN</td>\n",
       "      <td>767.050393</td>\n",
       "      <td>708.964886</td>\n",
       "      <td>1476.015280</td>\n",
       "    </tr>\n",
       "    <tr>\n",
       "      <th>2020-10-19</th>\n",
       "      <td>353.768872</td>\n",
       "      <td>751.456523</td>\n",
       "      <td>571.882927</td>\n",
       "      <td>286.703697</td>\n",
       "      <td>1618.201632</td>\n",
       "      <td>255.889427</td>\n",
       "      <td>163.220655</td>\n",
       "      <td>217.017691</td>\n",
       "      <td>465.524379</td>\n",
       "      <td>114.157279</td>\n",
       "      <td>262.902930</td>\n",
       "      <td>491.060133</td>\n",
       "      <td>596.783249</td>\n",
       "      <td>294.119725</td>\n",
       "      <td>784.329210</td>\n",
       "      <td>712.192648</td>\n",
       "      <td>7939.210977</td>\n",
       "    </tr>\n",
       "    <tr>\n",
       "      <th>2020-10-20</th>\n",
       "      <td>355.165154</td>\n",
       "      <td>761.369676</td>\n",
       "      <td>571.246781</td>\n",
       "      <td>288.365331</td>\n",
       "      <td>1584.810764</td>\n",
       "      <td>257.199536</td>\n",
       "      <td>165.707825</td>\n",
       "      <td>218.429737</td>\n",
       "      <td>466.525004</td>\n",
       "      <td>115.317216</td>\n",
       "      <td>280.640010</td>\n",
       "      <td>491.687740</td>\n",
       "      <td>605.654136</td>\n",
       "      <td>298.009550</td>\n",
       "      <td>795.971729</td>\n",
       "      <td>691.950378</td>\n",
       "      <td>7948.050568</td>\n",
       "    </tr>\n",
       "    <tr>\n",
       "      <th>2020-10-21</th>\n",
       "      <td>354.523302</td>\n",
       "      <td>757.222998</td>\n",
       "      <td>579.516508</td>\n",
       "      <td>292.242513</td>\n",
       "      <td>1587.440017</td>\n",
       "      <td>257.346459</td>\n",
       "      <td>163.220655</td>\n",
       "      <td>219.563351</td>\n",
       "      <td>466.164130</td>\n",
       "      <td>111.257431</td>\n",
       "      <td>281.980161</td>\n",
       "      <td>489.927403</td>\n",
       "      <td>602.262929</td>\n",
       "      <td>294.925736</td>\n",
       "      <td>856.580006</td>\n",
       "      <td>735.163561</td>\n",
       "      <td>8049.337160</td>\n",
       "    </tr>\n",
       "  </tbody>\n",
       "</table>\n",
       "</div>"
      ],
      "text/plain": [
       "               VOO Pos    AAPL Pos    ZNGA Pos     DIS Pos     TSLA Pos  \\\n",
       "Date                                                                      \n",
       "2020-10-17         NaN         NaN         NaN         NaN          NaN   \n",
       "2020-10-18         NaN         NaN         NaN         NaN          NaN   \n",
       "2020-10-19  353.768872  751.456523  571.882927  286.703697  1618.201632   \n",
       "2020-10-20  355.165154  761.369676  571.246781  288.365331  1584.810764   \n",
       "2020-10-21  354.523302  757.222998  579.516508  292.242513  1587.440017   \n",
       "\n",
       "             BRK-B Pos     DAL Pos     JLL Pos     QQQ Pos      SU Pos  \\\n",
       "Date                                                                     \n",
       "2020-10-17         NaN         NaN         NaN         NaN         NaN   \n",
       "2020-10-18         NaN         NaN         NaN         NaN         NaN   \n",
       "2020-10-19  255.889427  163.220655  217.017691  465.524379  114.157279   \n",
       "2020-10-20  257.199536  165.707825  218.429737  466.525004  115.317216   \n",
       "2020-10-21  257.346459  163.220655  219.563351  466.164130  111.257431   \n",
       "\n",
       "                GM Pos     VGT Pos     BIO Pos   RYAAY Pos  BTC-USD Pos  \\\n",
       "Date                                                                      \n",
       "2020-10-17         NaN         NaN         NaN         NaN   758.683586   \n",
       "2020-10-18         NaN         NaN         NaN         NaN   767.050393   \n",
       "2020-10-19  262.902930  491.060133  596.783249  294.119725   784.329210   \n",
       "2020-10-20  280.640010  491.687740  605.654136  298.009550   795.971729   \n",
       "2020-10-21  281.980161  489.927403  602.262929  294.925736   856.580006   \n",
       "\n",
       "            ETH-USD Pos    Total Pos  \n",
       "Date                                  \n",
       "2020-10-17   691.423687  1450.107273  \n",
       "2020-10-18   708.964886  1476.015280  \n",
       "2020-10-19   712.192648  7939.210977  \n",
       "2020-10-20   691.950378  7948.050568  \n",
       "2020-10-21   735.163561  8049.337160  "
      ]
     },
     "execution_count": 83,
     "metadata": {},
     "output_type": "execute_result"
    }
   ],
   "source": [
    "portfolio_val.tail()"
   ]
  },
  {
   "cell_type": "markdown",
   "metadata": {},
   "source": [
    "## Total Portfolio Value"
   ]
  },
  {
   "cell_type": "markdown",
   "metadata": {},
   "source": [
    "# Portfolio Statistics\n",
    "### Daily Returns"
   ]
  },
  {
   "cell_type": "code",
   "execution_count": 84,
   "metadata": {},
   "outputs": [],
   "source": [
    "portfolio_val['Daily Return'] = portfolio_val['Total Pos'].pct_change(1)"
   ]
  },
  {
   "cell_type": "code",
   "execution_count": null,
   "metadata": {},
   "outputs": [],
   "source": [
    "### Cumulative Return"
   ]
  },
  {
   "cell_type": "code",
   "execution_count": 86,
   "metadata": {},
   "outputs": [
    {
     "name": "stdout",
     "output_type": "stream",
     "text": [
      "Our return was 101.23342900507066 percent!\n"
     ]
    }
   ],
   "source": [
    "cum_ret = 100 * (portfolio_val['Total Pos'][-1]/portfolio_val['Total Pos'][0] -1 )\n",
    "print('Our return was {} percent!'.format(cum_ret))"
   ]
  },
  {
   "cell_type": "markdown",
   "metadata": {},
   "source": [
    "### Avg Daily Return"
   ]
  },
  {
   "cell_type": "code",
   "execution_count": 87,
   "metadata": {},
   "outputs": [
    {
     "data": {
      "text/plain": [
       "0.6532144007029856"
      ]
     },
     "execution_count": 87,
     "metadata": {},
     "output_type": "execute_result"
    }
   ],
   "source": [
    "portfolio_val['Daily Return'].mean()"
   ]
  },
  {
   "cell_type": "markdown",
   "metadata": {},
   "source": [
    "### Std Daily Return"
   ]
  },
  {
   "cell_type": "code",
   "execution_count": 88,
   "metadata": {},
   "outputs": [
    {
     "data": {
      "text/plain": [
       "1.9924212125649148"
      ]
     },
     "execution_count": 88,
     "metadata": {},
     "output_type": "execute_result"
    }
   ],
   "source": [
    "portfolio_val['Daily Return'].std()"
   ]
  },
  {
   "cell_type": "code",
   "execution_count": 89,
   "metadata": {},
   "outputs": [
    {
     "data": {
      "text/plain": [
       "<AxesSubplot:ylabel='Frequency'>"
      ]
     },
     "execution_count": 89,
     "metadata": {},
     "output_type": "execute_result"
    },
    {
     "data": {
      "image/png": "[encoded data removed]",
      "text/plain": [
       "<Figure size 720x576 with 1 Axes>"
      ]
     },
     "metadata": {
      "needs_background": "light"
     },
     "output_type": "display_data"
    }
   ],
   "source": [
    "portfolio_val['Daily Return'].plot(kind='hist', bins=20, figsize=(10,8))"
   ]
  },
  {
   "cell_type": "markdown",
   "metadata": {},
   "source": [
    "# Sharpe Ratio\n",
    "\n",
    "The Sharpe Ratio is a measure for calculating risk-adjusted return, and this ratio has become the industry standard for such calculations. \n",
    "\n",
    "Sharpe ratio = (Mean portfolio return − Risk-free rate)/Standard deviation of portfolio return\n",
    "\n",
    "The original Sharpe Ratio\n",
    "\n",
    "Annualized Sharpe Ratio = K-value * SR\n",
    "\n",
    "K-values for various sampling rates:\n",
    "\n",
    "* Daily = sqrt(252)\n",
    "* Weekly = sqrt(52)\n",
    "* Monthly = sqrt(12)\n",
    "\n",
    "Since I'm based in the USA, I will use a very low risk-free rate (the rate you would get if you just put your money in a bank, its currently very low in the USA, let's just say its ~0% return). If you are in a different country with higher rates for your trading currency, you can use this trick to convert a yearly rate with a daily rate:\n",
    "\n",
    "daily_rate = ((1.0 + yearly_rate)**(1/252))-1\n",
    "\n",
    "Other values people use are things like the 3-month treasury bill or [LIBOR](http://www.investopedia.com/terms/l/libor.asp).\n",
    "\n",
    "Read more: Sharpe Ratio http://www.investopedia.com/terms/s/sharperatio"
   ]
  },
  {
   "cell_type": "code",
   "execution_count": 90,
   "metadata": {},
   "outputs": [],
   "source": [
    "SR = portfolio_val['Daily Return'].mean()/portfolio_val['Daily Return'].std()"
   ]
  },
  {
   "cell_type": "code",
   "execution_count": 91,
   "metadata": {},
   "outputs": [
    {
     "data": {
      "text/plain": [
       "0.32784955138179817"
      ]
     },
     "execution_count": 91,
     "metadata": {},
     "output_type": "execute_result"
    }
   ],
   "source": [
    "SR"
   ]
  },
  {
   "cell_type": "code",
   "execution_count": 92,
   "metadata": {},
   "outputs": [],
   "source": [
    "ASR = (252**0.5)*SR"
   ]
  },
  {
   "cell_type": "code",
   "execution_count": 93,
   "metadata": {},
   "outputs": [
    {
     "data": {
      "text/plain": [
       "5.204450282401982"
      ]
     },
     "execution_count": 93,
     "metadata": {},
     "output_type": "execute_result"
    }
   ],
   "source": [
    "ASR"
   ]
  },
  {
   "cell_type": "code",
   "execution_count": 94,
   "metadata": {},
   "outputs": [
    {
     "data": {
      "text/plain": [
       "1.9924212125649148"
      ]
     },
     "execution_count": 94,
     "metadata": {},
     "output_type": "execute_result"
    }
   ],
   "source": [
    "portfolio_val['Daily Return'].std()"
   ]
  },
  {
   "cell_type": "code",
   "execution_count": 95,
   "metadata": {},
   "outputs": [
    {
     "data": {
      "text/plain": [
       "0.6532144007029856"
      ]
     },
     "execution_count": 95,
     "metadata": {},
     "output_type": "execute_result"
    }
   ],
   "source": [
    "portfolio_val['Daily Return'].mean()"
   ]
  },
  {
   "cell_type": "code",
   "execution_count": 96,
   "metadata": {},
   "outputs": [
    {
     "data": {
      "text/plain": [
       "<AxesSubplot:ylabel='Density'>"
      ]
     },
     "execution_count": 96,
     "metadata": {},
     "output_type": "execute_result"
    },
    {
     "data": {
      "image/png": "[encoded data removed]",
      "text/plain": [
       "<Figure size 432x288 with 1 Axes>"
      ]
     },
     "metadata": {
      "needs_background": "light"
     },
     "output_type": "display_data"
    }
   ],
   "source": [
    "portfolio_val['Daily Return'].plot(kind='kde')"
   ]
  },
  {
   "cell_type": "code",
   "execution_count": 97,
   "metadata": {},
   "outputs": [
    {
     "data": {
      "text/plain": [
       "<AxesSubplot:ylabel='Density'>"
      ]
     },
     "execution_count": 97,
     "metadata": {},
     "output_type": "execute_result"
    },
    {
     "data": {
      "image/png": "[encoded data removed]",
      "text/plain": [
       "<Figure size 432x288 with 1 Axes>"
      ]
     },
     "metadata": {
      "needs_background": "light"
     },
     "output_type": "display_data"
    }
   ],
   "source": [
    "#voo,aapl,znga,dis,tsla,brkb,dal,jll,qqq,su,gm,vgt,bio,rya,btc,eth\n",
    "\n",
    "voo['Adj Close'].pct_change(1).plot(kind='kde')\n",
    "aapl['Adj Close'].pct_change(1).plot(kind='kde')\n",
    "znga['Adj Close'].pct_change(1).plot(kind='kde')\n",
    "dis['Adj Close'].pct_change(1).plot(kind='kde')\n",
    "tsla['Adj Close'].pct_change(1).plot(kind='kde')\n",
    "brkb['Adj Close'].pct_change(1).plot(kind='kde')\n",
    "dal['Adj Close'].pct_change(1).plot(kind='kde')\n",
    "jll['Adj Close'].pct_change(1).plot(kind='kde')\n",
    "qqq['Adj Close'].pct_change(1).plot(kind='kde')\n",
    "su['Adj Close'].pct_change(1).plot(kind='kde')\n",
    "gm['Adj Close'].pct_change(1).plot(kind='kde')\n",
    "vgt['Adj Close'].pct_change(1).plot(kind='kde')\n",
    "bio['Adj Close'].pct_change(1).plot(kind='kde')\n",
    "rya['Adj Close'].pct_change(1).plot(kind='kde')\n",
    "btc['Adj Close'].pct_change(1).plot(kind='kde')\n",
    "eth['Adj Close'].pct_change(1).plot(kind='kde')\n",
    "\n",
    "\n"
   ]
  },
  {
   "cell_type": "code",
   "execution_count": 98,
   "metadata": {},
   "outputs": [
    {
     "data": {
      "text/plain": [
       "12.699606293110037"
      ]
     },
     "execution_count": 98,
     "metadata": {},
     "output_type": "execute_result"
    }
   ],
   "source": [
    "import numpy as np\n",
    "np.sqrt(252)* (np.mean(.001-0.0002)/.001)"
   ]
  },
  {
   "cell_type": "markdown",
   "metadata": {},
   "source": [
    "# Great Job!"
   ]
  }
 ],
 "metadata": {
  "kernelspec": {
   "display_name": "Python 3",
   "language": "python",
   "name": "python3"
  },
  "language_info": {
   "codemirror_mode": {
    "name": "ipython",
    "version": 3
   },
   "file_extension": ".py",
   "mimetype": "text/x-python",
   "name": "python",
   "nbconvert_exporter": "python",
   "pygments_lexer": "ipython3",
   "version": "3.7.7"
  },
  "varInspector": {
   "cols": {
    "lenName": 16,
    "lenType": 16,
    "lenVar": 40
   },
   "kernels_config": {
    "python": {
     "delete_cmd_postfix": "",
     "delete_cmd_prefix": "del ",
     "library": "var_list.py",
     "varRefreshCmd": "print(var_dic_list())"
    },
    "r": {
     "delete_cmd_postfix": ") ",
     "delete_cmd_prefix": "rm(",
     "library": "var_list.r",
     "varRefreshCmd": "cat(var_dic_list()) "
    }
   },
   "types_to_exclude": [
    "module",
    "function",
    "builtin_function_or_method",
    "instance",
    "_Feature"
   ],
   "window_display": false
  },
  "widgets": {
   "application/vnd.jupyter.widget-state+json": {
    "state": {},
    "version_major": 2,
    "version_minor": 0
   }
  }
 },
 "nbformat": 4,
 "nbformat_minor": 4
}
