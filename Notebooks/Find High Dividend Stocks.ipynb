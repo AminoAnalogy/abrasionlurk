{
 "cells": [
  {
   "cell_type": "code",
   "execution_count": 1,
   "metadata": {},
   "outputs": [],
   "source": [
    "import requests\n",
    "\n",
    "demo = '31fa1a9122c9b0d18024b5eb2d9ef148'\n",
    "\n",
    "tickers = requests.get(f'https://financialmodelingprep.com/api/v3/symbol/available-nasdaq?apikey={demo}')\n",
    "\n",
    "tickers = tickers.json()\n",
    "symbols = []\n",
    "for ticker in tickers:\n",
    "    symbols.append(ticker['symbol'])\n",
    "\n"
   ]
  },
  {
   "cell_type": "code",
   "execution_count": null,
   "metadata": {},
   "outputs": [],
   "source": [
    "DivYield = {}\n",
    "for company in symbols:\n",
    "\n",
    "    \n",
    "    try:\n",
    "        companydata = requests.get(f'https://financialmodelingprep.com/profile/{company}?apikey={demo}')\n",
    "        companydata = companydata.json()\n",
    "        latest_Annual_Dividend = companydata[0]['lastDiv']\n",
    "        price = companydata[0]['price']\n",
    "        market_Capitalization = companydata[0]['mktCap']\n",
    "        name = companydata[0]['companyName']\n",
    "        exchange = companydata[0]['exchange']\n",
    "\n",
    "        dividend_Yield= latest_Annual_Dividend/price\n",
    "        DivYield[company] = {}\n",
    "        DivYield[company]['Dividend_Yield'] = dividend_Yield\n",
    "        DivYield[company]['latest_Price'] = price\n",
    "        DivYield[company]['latest_Dividend'] = latest_Annual_Dividend\n",
    "        DivYield[company]['market_Capit_in_M'] = market_Capitalization/1000000\n",
    "        DivYield[company]['company_Name'] = name\n",
    "        DivYield[company]['exchange'] = exchange\n",
    "    except:\n",
    "        pass\n",
    "print(DivYield)"
   ]
  },
  {
   "cell_type": "code",
   "execution_count": null,
   "metadata": {},
   "outputs": [],
   "source": []
  }
 ],
 "metadata": {
  "kernelspec": {
   "display_name": "Python 3",
   "language": "python",
   "name": "python3"
  },
  "language_info": {
   "codemirror_mode": {
    "name": "ipython",
    "version": 3
   },
   "file_extension": ".py",
   "mimetype": "text/x-python",
   "name": "python",
   "nbconvert_exporter": "python",
   "pygments_lexer": "ipython3",
   "version": "3.7.7"
  },
  "widgets": {
   "application/vnd.jupyter.widget-state+json": {
    "state": {},
    "version_major": 2,
    "version_minor": 0
   }
  }
 },
 "nbformat": 4,
 "nbformat_minor": 4
}
