{
 "cells": [
  {
   "cell_type": "code",
   "execution_count": 1,
   "metadata": {},
   "outputs": [],
   "source": [
    "import requests\n",
    "import pandas as pd\n",
    "\n",
    "demo = '31fa1a9122c9b0d18024b5eb2d9ef148'\n",
    "\n",
    "stock = 'AAPL'\n",
    "BS = requests.get(f\"https://financialmodelingprep.com/api/v3/balance-sheet-statement/{stock}?apikey={demo}\").json()\n",
    "BS2016 = BS[3]\n",
    "BS2017 = BS[2]\n",
    "BS2018 = BS[1]\n",
    "BS2019= BS[0]\n",
    "\n",
    "IS = requests.get(f'https://financialmodelingprep.com/api/v3/income-statement/{stock}?apikey={demo}').json()\n",
    "IS2017 = IS[2]\n",
    "IS2018 = IS[1]\n",
    "IS2019 = IS[0]"
   ]
  },
  {
   "cell_type": "code",
   "execution_count": 2,
   "metadata": {},
   "outputs": [],
   "source": [
    "#Element 1 net income / sales as profitability indicator:\n",
    "Profitability2017 = IS2017['netIncome']/IS2017['revenue']\n",
    "Profitability2018 = IS2018['netIncome']/IS2018['revenue']\n",
    "Profitability2019 = IS2019['netIncome']/IS2019['revenue']\n",
    "\n",
    "#Element 2 Technical Analysis\n",
    "TechnicalEfficiency2017 = IS2017['revenue']/((BS2017['totalAssets'] + BS2016['totalAssets'])/2)\n",
    "TechnicalEfficiency2018 = IS2018['revenue']/((BS2018['totalAssets'] + BS2017['totalAssets'])/2)\n",
    "TechnicalEfficiency2019 = IS2019['revenue']/((BS2019['totalAssets'] + BS2018['totalAssets'])/2)\n",
    "\n",
    "#Element 3 Firm Financial Structure\n",
    "FinancialStructure2017 = ((BS2017['totalAssets'] + BS2016['totalAssets'])/2)/  ((BS2017['totalStockholdersEquity'] + BS2016['totalStockholdersEquity'] )/2)\n",
    "FinancialStructure2018 = ((BS2018['totalAssets'] + BS2017['totalAssets'])/2)/ ((BS2018['totalStockholdersEquity'] + BS2017['totalStockholdersEquity'] )/2)\n",
    "FinancialStructure2019 = ((BS2019['totalAssets'] + BS2018['totalAssets'])/2)/((BS2019['totalStockholdersEquity'] + BS2018['totalStockholdersEquity'] )/2)"
   ]
  },
  {
   "cell_type": "code",
   "execution_count": 3,
   "metadata": {},
   "outputs": [],
   "source": [
    "ROE2017 = Profitability2017 * TechnicalEfficiency2017 * FinancialStructure2017\n",
    "ROE2018= Profitability2018 * TechnicalEfficiency2018 * FinancialStructure2018\n",
    "ROE2019 = Profitability2019 * TechnicalEfficiency2019 * FinancialStructure2019"
   ]
  },
  {
   "cell_type": "code",
   "execution_count": 4,
   "metadata": {},
   "outputs": [],
   "source": [
    "FY2017 = [Profitability2017,TechnicalEfficiency2017,FinancialStructure2017,ROE2017]\n",
    "FY2018 = [Profitability2018,TechnicalEfficiency2018,FinancialStructure2018,ROE2018]\n",
    "FY2019 = [Profitability2019,TechnicalEfficiency2019,FinancialStructure2019,ROE2019]\n"
   ]
  },
  {
   "cell_type": "code",
   "execution_count": 5,
   "metadata": {},
   "outputs": [
    {
     "name": "stdout",
     "output_type": "stream",
     "text": [
      "      Profitability *  Tech Efficiency *  Financial Strucutre =       ROE\n",
      "2017         0.210924           0.657769               2.657322  0.368675\n",
      "2018         0.224142           0.716813               3.072398  0.493636\n",
      "2019         0.212381           0.738878               3.563342  0.559172\n"
     ]
    }
   ],
   "source": [
    "ROE_decomposition = pd.DataFrame([FY2017,FY2018, FY2019],columns=['Profitability *','Tech Efficiency *','Financial Strucutre =','ROE'],index=['2017','2018','2019'])\n",
    "\n",
    "print(ROE_decomposition)"
   ]
  },
  {
   "cell_type": "code",
   "execution_count": null,
   "metadata": {},
   "outputs": [],
   "source": []
  }
 ],
 "metadata": {
  "kernelspec": {
   "display_name": "Python 3",
   "language": "python",
   "name": "python3"
  },
  "language_info": {
   "codemirror_mode": {
    "name": "ipython",
    "version": 3
   },
   "file_extension": ".py",
   "mimetype": "text/x-python",
   "name": "python",
   "nbconvert_exporter": "python",
   "pygments_lexer": "ipython3",
   "version": "3.7.7"
  }
 },
 "nbformat": 4,
 "nbformat_minor": 4
}
