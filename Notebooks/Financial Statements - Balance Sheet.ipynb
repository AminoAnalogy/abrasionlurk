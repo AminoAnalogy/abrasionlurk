{
 "cells": [
  {
   "cell_type": "code",
   "execution_count": 1,
   "metadata": {},
   "outputs": [],
   "source": [
    "companies = ['ABBV', 'AGN', 'JNJ', 'LLY', 'MRK', 'MYL', 'PRGO', 'PFE', 'ZTS']\n",
    "assets = []\n",
    "liabilities = []\n",
    "equity = []\n",
    "demo = '31fa1a9122c9b0d18024b5eb2d9ef148'\n",
    "quote = 'ABBV'\n",
    "import requests\n",
    "\n",
    "for company in companies:\n",
    "    Balance_Sheet = requests.get(f\"https://financialmodelingprep.com/api/v3/financials/balance-sheet-statement/{quote}?apikey={demo}\")\n",
    "\n",
    "    Balance_Sheet = Balance_Sheet.json()\n",
    "    \n",
    "    asset_i = Balance_Sheet['financials'][0]['Total assets']\n",
    "    assets.append(asset_i)\n",
    "\n",
    "    liabilities_i = Balance_Sheet['financials'][0]['Total liabilities']\n",
    "    liabilities.append(liabilities_i)\n",
    "\n",
    "    equity_i = Balance_Sheet['financials'][0]['Total shareholders equity']\n",
    "    equity.append(equity_i)\n",
    "    \n"
   ]
  },
  {
   "cell_type": "code",
   "execution_count": null,
   "metadata": {},
   "outputs": [],
   "source": [
    " for company in companies:\n",
    "    Balance_Sheet = requests.get(f\"https://financialmodelingprep.com/api/v3/financials/balance-sheet-statement/{quote}?period=quarter\")\n",
    "\n",
    "    Balance_Sheet = Balance_Sheet.json()\n",
    "\n",
    "print(Balance_Sheet)"
   ]
  },
  {
   "cell_type": "code",
   "execution_count": null,
   "metadata": {},
   "outputs": [],
   "source": []
  }
 ],
 "metadata": {
  "kernelspec": {
   "display_name": "Python 3",
   "language": "python",
   "name": "python3"
  },
  "language_info": {
   "codemirror_mode": {
    "name": "ipython",
    "version": 3
   },
   "file_extension": ".py",
   "mimetype": "text/x-python",
   "name": "python",
   "nbconvert_exporter": "python",
   "pygments_lexer": "ipython3",
   "version": "3.7.7"
  },
  "varInspector": {
   "cols": {
    "lenName": 16,
    "lenType": 16,
    "lenVar": 40
   },
   "kernels_config": {
    "python": {
     "delete_cmd_postfix": "",
     "delete_cmd_prefix": "del ",
     "library": "var_list.py",
     "varRefreshCmd": "print(var_dic_list())"
    },
    "r": {
     "delete_cmd_postfix": ") ",
     "delete_cmd_prefix": "rm(",
     "library": "var_list.r",
     "varRefreshCmd": "cat(var_dic_list()) "
    }
   },
   "types_to_exclude": [
    "module",
    "function",
    "builtin_function_or_method",
    "instance",
    "_Feature"
   ],
   "window_display": false
  }
 },
 "nbformat": 4,
 "nbformat_minor": 4
}
