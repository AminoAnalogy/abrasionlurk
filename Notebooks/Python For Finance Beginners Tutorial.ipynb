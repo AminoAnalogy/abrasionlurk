{
 "cells": [
  {
   "cell_type": "markdown",
   "metadata": {},
   "source": [
    "# Python for Finance Tutorial For Beginners\n",
    "\n",
    "*This notebook was made in preparation for the DataCamp tutorial \"Python for Finance Tutorial for Beginners\"; If you want more explanations on the code or on using Python for Finance, go to the full tutorial [here](https://www.datacamp.com/community/tutorials/finance-python-trading).*\n",
    "\n",
    "The full tutorial covers the following topics:\n",
    "\n",
    "* Getting Started With Python For Finance\n",
    "    - Stocks & Trading\n",
    "    - Time Series Data\n",
    "    - Setting Up The Workspace\n",
    "    - [Python Basics For Finance: Pandas](#basics)\n",
    "        - Importing Financial Data Into Python\n",
    "        - Working With Time Series Data \n",
    "        - Visualizing Time Series Data\n",
    "* [Common Financial Analyses](#commonanalyses)\n",
    "    - Returns\n",
    "    - Moving Windows\n",
    "    - Volatility Calculation\n",
    "    - Ordinary Least-Squares Regression (OLS)\n",
    "* [Building A Trading Strategy With Python](#tradingstrategy)\n",
    "* [Backtesting A Strategy](#backtesting)\n",
    "    - Implementation Of A Simple Backtester\n",
    "    - Backtesting With Zipline And Quantopian\n",
    "* Improving A Trading Strategy\n",
    "* [Evaluating The Trading Strategy](#evaluating)\n",
    "    - Sharpe Ratio\n",
    "    - Maximum Drawdown\n",
    "    - Compound Annual Growth Rate\n",
    "* What now?"
   ]
  },
  {
   "cell_type": "markdown",
   "metadata": {},
   "source": [
    "![DataCamp courses](http://community.datacamp.com.s3.amazonaws.com/community/production/ckeditor_assets/pictures/293/content_blog_banner.png)"
   ]
  },
  {
   "cell_type": "code",
   "execution_count": null,
   "metadata": {},
   "outputs": [],
   "source": [
    "%load_ext watermark\n",
    "%watermark -p pandas,numpy,datetime,matplotlib,pandas_datareader,fix_yahoo_finance"
   ]
  },
  {
   "cell_type": "code",
   "execution_count": 6,
   "metadata": {},
   "outputs": [],
   "source": [
    "import pandas as pd\n",
    "import numpy as np\n",
    "import datetime\n",
    "import matplotlib.pyplot as plt\n"
   ]
  },
  {
   "cell_type": "markdown",
   "metadata": {},
   "source": [
    "<a id='basics'></a>\n",
    "## Python Basics For Finance: Pandas\n",
    "\n",
    "### Importing Data\n",
    "At this moment, there is a lot going on in the open-source community because of the changes to the Yahoo! Finance API. That's why you don't only use the `pandas_datareader` package, but also a custom fix `fix_yahoo_finance` to get your data:"
   ]
  },
  {
   "cell_type": "code",
   "execution_count": 18,
   "metadata": {
    "jupyter": {
     "outputs_hidden": false
    }
   },
   "outputs": [
    {
     "data": {
      "text/html": [
       "<div>\n",
       "<style scoped>\n",
       "    .dataframe tbody tr th:only-of-type {\n",
       "        vertical-align: middle;\n",
       "    }\n",
       "\n",
       "    .dataframe tbody tr th {\n",
       "        vertical-align: top;\n",
       "    }\n",
       "\n",
       "    .dataframe thead th {\n",
       "        text-align: right;\n",
       "    }\n",
       "</style>\n",
       "<table border=\"1\" class=\"dataframe\">\n",
       "  <thead>\n",
       "    <tr style=\"text-align: right;\">\n",
       "      <th></th>\n",
       "      <th>High</th>\n",
       "      <th>Low</th>\n",
       "      <th>Open</th>\n",
       "      <th>Close</th>\n",
       "      <th>Volume</th>\n",
       "      <th>Adj Close</th>\n",
       "    </tr>\n",
       "    <tr>\n",
       "      <th>Date</th>\n",
       "      <th></th>\n",
       "      <th></th>\n",
       "      <th></th>\n",
       "      <th></th>\n",
       "      <th></th>\n",
       "      <th></th>\n",
       "    </tr>\n",
       "  </thead>\n",
       "  <tbody>\n",
       "    <tr>\n",
       "      <th>2006-10-02</th>\n",
       "      <td>2.709643</td>\n",
       "      <td>2.653571</td>\n",
       "      <td>2.682143</td>\n",
       "      <td>2.673571</td>\n",
       "      <td>712639200</td>\n",
       "      <td>2.310338</td>\n",
       "    </tr>\n",
       "    <tr>\n",
       "      <th>2006-10-03</th>\n",
       "      <td>2.676786</td>\n",
       "      <td>2.613929</td>\n",
       "      <td>2.658929</td>\n",
       "      <td>2.645714</td>\n",
       "      <td>790708800</td>\n",
       "      <td>2.286266</td>\n",
       "    </tr>\n",
       "    <tr>\n",
       "      <th>2006-10-04</th>\n",
       "      <td>2.695000</td>\n",
       "      <td>2.612857</td>\n",
       "      <td>2.646429</td>\n",
       "      <td>2.692143</td>\n",
       "      <td>829082800</td>\n",
       "      <td>2.326385</td>\n",
       "    </tr>\n",
       "    <tr>\n",
       "      <th>2006-10-05</th>\n",
       "      <td>2.720000</td>\n",
       "      <td>2.647500</td>\n",
       "      <td>2.661786</td>\n",
       "      <td>2.672500</td>\n",
       "      <td>683883200</td>\n",
       "      <td>2.309412</td>\n",
       "    </tr>\n",
       "    <tr>\n",
       "      <th>2006-10-06</th>\n",
       "      <td>2.680000</td>\n",
       "      <td>2.636071</td>\n",
       "      <td>2.657857</td>\n",
       "      <td>2.650714</td>\n",
       "      <td>466958800</td>\n",
       "      <td>2.290586</td>\n",
       "    </tr>\n",
       "    <tr>\n",
       "      <th>...</th>\n",
       "      <td>...</td>\n",
       "      <td>...</td>\n",
       "      <td>...</td>\n",
       "      <td>...</td>\n",
       "      <td>...</td>\n",
       "      <td>...</td>\n",
       "    </tr>\n",
       "    <tr>\n",
       "      <th>2011-12-23</th>\n",
       "      <td>14.413929</td>\n",
       "      <td>14.267500</td>\n",
       "      <td>14.274643</td>\n",
       "      <td>14.404643</td>\n",
       "      <td>269399200</td>\n",
       "      <td>12.447616</td>\n",
       "    </tr>\n",
       "    <tr>\n",
       "      <th>2011-12-27</th>\n",
       "      <td>14.610357</td>\n",
       "      <td>14.393572</td>\n",
       "      <td>14.396428</td>\n",
       "      <td>14.518929</td>\n",
       "      <td>265076000</td>\n",
       "      <td>12.546378</td>\n",
       "    </tr>\n",
       "    <tr>\n",
       "      <th>2011-12-28</th>\n",
       "      <td>14.580358</td>\n",
       "      <td>14.333571</td>\n",
       "      <td>14.531786</td>\n",
       "      <td>14.380000</td>\n",
       "      <td>228662000</td>\n",
       "      <td>12.426320</td>\n",
       "    </tr>\n",
       "    <tr>\n",
       "      <th>2011-12-29</th>\n",
       "      <td>14.487500</td>\n",
       "      <td>14.303928</td>\n",
       "      <td>14.407143</td>\n",
       "      <td>14.468572</td>\n",
       "      <td>215978000</td>\n",
       "      <td>12.502859</td>\n",
       "    </tr>\n",
       "    <tr>\n",
       "      <th>2011-12-30</th>\n",
       "      <td>14.510000</td>\n",
       "      <td>14.410357</td>\n",
       "      <td>14.411072</td>\n",
       "      <td>14.464286</td>\n",
       "      <td>179662000</td>\n",
       "      <td>12.499158</td>\n",
       "    </tr>\n",
       "  </tbody>\n",
       "</table>\n",
       "<p>1323 rows × 6 columns</p>\n",
       "</div>"
      ],
      "text/plain": [
       "                 High        Low       Open      Close     Volume  Adj Close\n",
       "Date                                                                        \n",
       "2006-10-02   2.709643   2.653571   2.682143   2.673571  712639200   2.310338\n",
       "2006-10-03   2.676786   2.613929   2.658929   2.645714  790708800   2.286266\n",
       "2006-10-04   2.695000   2.612857   2.646429   2.692143  829082800   2.326385\n",
       "2006-10-05   2.720000   2.647500   2.661786   2.672500  683883200   2.309412\n",
       "2006-10-06   2.680000   2.636071   2.657857   2.650714  466958800   2.290586\n",
       "...               ...        ...        ...        ...        ...        ...\n",
       "2011-12-23  14.413929  14.267500  14.274643  14.404643  269399200  12.447616\n",
       "2011-12-27  14.610357  14.393572  14.396428  14.518929  265076000  12.546378\n",
       "2011-12-28  14.580358  14.333571  14.531786  14.380000  228662000  12.426320\n",
       "2011-12-29  14.487500  14.303928  14.407143  14.468572  215978000  12.502859\n",
       "2011-12-30  14.510000  14.410357  14.411072  14.464286  179662000  12.499158\n",
       "\n",
       "[1323 rows x 6 columns]"
      ]
     },
     "execution_count": 18,
     "metadata": {},
     "output_type": "execute_result"
    }
   ],
   "source": [
    "from pandas_datareader import data as pdr\n",
    "import yfinance as yf\n",
    "\n",
    "'''aapl = pdr.get_data_yahoo('AAPL', \n",
    "                          start_date=datetime.datetime(2006, 10, 1), \n",
    "                          end_date=datetime.datetime(2012, 1, 1))\n",
    "aapl.head()'''\n",
    "\n",
    "\n",
    "'''import yfinance as yf\n",
    "data = yf.download(\"AAPL\", start=\"2006-10-01\", end=\"2012-01-01\", auto_adjust = False,)'''\n",
    "data = pdr.get_data_yahoo(\"AAPL\", start=\"2006-10-01\", end=\"2012-01-01\")\n",
    "data"
   ]
  },
  {
   "cell_type": "code",
   "execution_count": 13,
   "metadata": {},
   "outputs": [],
   "source": [
    "# Alternatively, you can load in a data set that has been retrieved for you already from Yahoo! Finance: \n",
    "aapl = pd.read_csv(\"https://s3.amazonaws.com/assets.datacamp.com/blog_assets/aapl.csv\", header=0, index_col= 0, names=['Open', 'High', 'Low', 'Close', 'Volume', 'Adj Close'], parse_dates=True)"
   ]
  },
  {
   "cell_type": "code",
   "execution_count": 14,
   "metadata": {},
   "outputs": [
    {
     "data": {
      "text/html": [
       "<div>\n",
       "<style scoped>\n",
       "    .dataframe tbody tr th:only-of-type {\n",
       "        vertical-align: middle;\n",
       "    }\n",
       "\n",
       "    .dataframe tbody tr th {\n",
       "        vertical-align: top;\n",
       "    }\n",
       "\n",
       "    .dataframe thead th {\n",
       "        text-align: right;\n",
       "    }\n",
       "</style>\n",
       "<table border=\"1\" class=\"dataframe\">\n",
       "  <thead>\n",
       "    <tr style=\"text-align: right;\">\n",
       "      <th></th>\n",
       "      <th>Open</th>\n",
       "      <th>High</th>\n",
       "      <th>Low</th>\n",
       "      <th>Close</th>\n",
       "      <th>Volume</th>\n",
       "      <th>Adj Close</th>\n",
       "    </tr>\n",
       "  </thead>\n",
       "  <tbody>\n",
       "    <tr>\n",
       "      <th>2006-10-02</th>\n",
       "      <td>75.10</td>\n",
       "      <td>75.87</td>\n",
       "      <td>74.30</td>\n",
       "      <td>74.860001</td>\n",
       "      <td>178159800.0</td>\n",
       "      <td>10.694285</td>\n",
       "    </tr>\n",
       "    <tr>\n",
       "      <th>2006-10-03</th>\n",
       "      <td>74.45</td>\n",
       "      <td>74.95</td>\n",
       "      <td>73.19</td>\n",
       "      <td>74.080002</td>\n",
       "      <td>197677200.0</td>\n",
       "      <td>10.582857</td>\n",
       "    </tr>\n",
       "    <tr>\n",
       "      <th>2006-10-04</th>\n",
       "      <td>74.10</td>\n",
       "      <td>75.46</td>\n",
       "      <td>73.16</td>\n",
       "      <td>75.380005</td>\n",
       "      <td>207270700.0</td>\n",
       "      <td>10.768572</td>\n",
       "    </tr>\n",
       "    <tr>\n",
       "      <th>2006-10-05</th>\n",
       "      <td>74.53</td>\n",
       "      <td>76.16</td>\n",
       "      <td>74.13</td>\n",
       "      <td>74.829994</td>\n",
       "      <td>170970800.0</td>\n",
       "      <td>10.690000</td>\n",
       "    </tr>\n",
       "    <tr>\n",
       "      <th>2006-10-06</th>\n",
       "      <td>74.42</td>\n",
       "      <td>75.04</td>\n",
       "      <td>73.81</td>\n",
       "      <td>74.220001</td>\n",
       "      <td>116739700.0</td>\n",
       "      <td>10.602858</td>\n",
       "    </tr>\n",
       "    <tr>\n",
       "      <th>...</th>\n",
       "      <td>...</td>\n",
       "      <td>...</td>\n",
       "      <td>...</td>\n",
       "      <td>...</td>\n",
       "      <td>...</td>\n",
       "      <td>...</td>\n",
       "    </tr>\n",
       "    <tr>\n",
       "      <th>2011-12-23</th>\n",
       "      <td>399.69</td>\n",
       "      <td>403.59</td>\n",
       "      <td>399.49</td>\n",
       "      <td>403.330017</td>\n",
       "      <td>67349800.0</td>\n",
       "      <td>57.618572</td>\n",
       "    </tr>\n",
       "    <tr>\n",
       "      <th>2011-12-27</th>\n",
       "      <td>403.10</td>\n",
       "      <td>409.09</td>\n",
       "      <td>403.02</td>\n",
       "      <td>406.529999</td>\n",
       "      <td>66269000.0</td>\n",
       "      <td>58.075714</td>\n",
       "    </tr>\n",
       "    <tr>\n",
       "      <th>2011-12-28</th>\n",
       "      <td>406.89</td>\n",
       "      <td>408.25</td>\n",
       "      <td>401.34</td>\n",
       "      <td>402.640015</td>\n",
       "      <td>57165500.0</td>\n",
       "      <td>57.520000</td>\n",
       "    </tr>\n",
       "    <tr>\n",
       "      <th>2011-12-29</th>\n",
       "      <td>403.40</td>\n",
       "      <td>405.65</td>\n",
       "      <td>400.51</td>\n",
       "      <td>405.119995</td>\n",
       "      <td>53994500.0</td>\n",
       "      <td>57.874287</td>\n",
       "    </tr>\n",
       "    <tr>\n",
       "      <th>2011-12-30</th>\n",
       "      <td>403.51</td>\n",
       "      <td>406.28</td>\n",
       "      <td>403.49</td>\n",
       "      <td>405.000000</td>\n",
       "      <td>44915500.0</td>\n",
       "      <td>57.857143</td>\n",
       "    </tr>\n",
       "  </tbody>\n",
       "</table>\n",
       "<p>1323 rows × 6 columns</p>\n",
       "</div>"
      ],
      "text/plain": [
       "              Open    High     Low       Close       Volume  Adj Close\n",
       "2006-10-02   75.10   75.87   74.30   74.860001  178159800.0  10.694285\n",
       "2006-10-03   74.45   74.95   73.19   74.080002  197677200.0  10.582857\n",
       "2006-10-04   74.10   75.46   73.16   75.380005  207270700.0  10.768572\n",
       "2006-10-05   74.53   76.16   74.13   74.829994  170970800.0  10.690000\n",
       "2006-10-06   74.42   75.04   73.81   74.220001  116739700.0  10.602858\n",
       "...            ...     ...     ...         ...          ...        ...\n",
       "2011-12-23  399.69  403.59  399.49  403.330017   67349800.0  57.618572\n",
       "2011-12-27  403.10  409.09  403.02  406.529999   66269000.0  58.075714\n",
       "2011-12-28  406.89  408.25  401.34  402.640015   57165500.0  57.520000\n",
       "2011-12-29  403.40  405.65  400.51  405.119995   53994500.0  57.874287\n",
       "2011-12-30  403.51  406.28  403.49  405.000000   44915500.0  57.857143\n",
       "\n",
       "[1323 rows x 6 columns]"
      ]
     },
     "execution_count": 14,
     "metadata": {},
     "output_type": "execute_result"
    }
   ],
   "source": [
    "aapl"
   ]
  },
  {
   "cell_type": "markdown",
   "metadata": {},
   "source": [
    "The `pandas_datareader` offers a lot of possibilities to get financial data. If you don't want to make use of this package, however, you can also use Quandl to retrieve data:"
   ]
  },
  {
   "cell_type": "code",
   "execution_count": 15,
   "metadata": {
    "jupyter": {
     "outputs_hidden": false
    }
   },
   "outputs": [
    {
     "data": {
      "text/html": [
       "<div>\n",
       "<style scoped>\n",
       "    .dataframe tbody tr th:only-of-type {\n",
       "        vertical-align: middle;\n",
       "    }\n",
       "\n",
       "    .dataframe tbody tr th {\n",
       "        vertical-align: top;\n",
       "    }\n",
       "\n",
       "    .dataframe thead th {\n",
       "        text-align: right;\n",
       "    }\n",
       "</style>\n",
       "<table border=\"1\" class=\"dataframe\">\n",
       "  <thead>\n",
       "    <tr style=\"text-align: right;\">\n",
       "      <th></th>\n",
       "      <th>Open</th>\n",
       "      <th>High</th>\n",
       "      <th>Low</th>\n",
       "      <th>Close</th>\n",
       "      <th>Volume</th>\n",
       "      <th>Ex-Dividend</th>\n",
       "      <th>Split Ratio</th>\n",
       "      <th>Adj. Open</th>\n",
       "      <th>Adj. High</th>\n",
       "      <th>Adj. Low</th>\n",
       "      <th>Adj. Close</th>\n",
       "      <th>Adj. Volume</th>\n",
       "    </tr>\n",
       "    <tr>\n",
       "      <th>Date</th>\n",
       "      <th></th>\n",
       "      <th></th>\n",
       "      <th></th>\n",
       "      <th></th>\n",
       "      <th></th>\n",
       "      <th></th>\n",
       "      <th></th>\n",
       "      <th></th>\n",
       "      <th></th>\n",
       "      <th></th>\n",
       "      <th></th>\n",
       "      <th></th>\n",
       "    </tr>\n",
       "  </thead>\n",
       "  <tbody>\n",
       "    <tr>\n",
       "      <th>2006-10-02</th>\n",
       "      <td>75.10</td>\n",
       "      <td>75.870</td>\n",
       "      <td>74.30</td>\n",
       "      <td>74.86</td>\n",
       "      <td>25451400.0</td>\n",
       "      <td>0.0</td>\n",
       "      <td>1.0</td>\n",
       "      <td>9.651397</td>\n",
       "      <td>9.750352</td>\n",
       "      <td>9.548586</td>\n",
       "      <td>9.620553</td>\n",
       "      <td>178159800.0</td>\n",
       "    </tr>\n",
       "    <tr>\n",
       "      <th>2006-10-03</th>\n",
       "      <td>74.45</td>\n",
       "      <td>74.950</td>\n",
       "      <td>73.19</td>\n",
       "      <td>74.07</td>\n",
       "      <td>28239600.0</td>\n",
       "      <td>0.0</td>\n",
       "      <td>1.0</td>\n",
       "      <td>9.567863</td>\n",
       "      <td>9.632120</td>\n",
       "      <td>9.405935</td>\n",
       "      <td>9.519027</td>\n",
       "      <td>197677200.0</td>\n",
       "    </tr>\n",
       "    <tr>\n",
       "      <th>2006-10-04</th>\n",
       "      <td>74.10</td>\n",
       "      <td>75.462</td>\n",
       "      <td>73.16</td>\n",
       "      <td>75.38</td>\n",
       "      <td>29610100.0</td>\n",
       "      <td>0.0</td>\n",
       "      <td>1.0</td>\n",
       "      <td>9.522883</td>\n",
       "      <td>9.697919</td>\n",
       "      <td>9.402080</td>\n",
       "      <td>9.687381</td>\n",
       "      <td>207270700.0</td>\n",
       "    </tr>\n",
       "    <tr>\n",
       "      <th>2006-10-05</th>\n",
       "      <td>74.53</td>\n",
       "      <td>76.160</td>\n",
       "      <td>74.13</td>\n",
       "      <td>74.83</td>\n",
       "      <td>24424400.0</td>\n",
       "      <td>0.0</td>\n",
       "      <td>1.0</td>\n",
       "      <td>9.578144</td>\n",
       "      <td>9.787621</td>\n",
       "      <td>9.526738</td>\n",
       "      <td>9.616698</td>\n",
       "      <td>170970800.0</td>\n",
       "    </tr>\n",
       "    <tr>\n",
       "      <th>2006-10-06</th>\n",
       "      <td>74.42</td>\n",
       "      <td>75.040</td>\n",
       "      <td>73.81</td>\n",
       "      <td>74.22</td>\n",
       "      <td>16677100.0</td>\n",
       "      <td>0.0</td>\n",
       "      <td>1.0</td>\n",
       "      <td>9.564007</td>\n",
       "      <td>9.643686</td>\n",
       "      <td>9.485614</td>\n",
       "      <td>9.538304</td>\n",
       "      <td>116739700.0</td>\n",
       "    </tr>\n",
       "  </tbody>\n",
       "</table>\n",
       "</div>"
      ],
      "text/plain": [
       "             Open    High    Low  Close      Volume  Ex-Dividend  Split Ratio  \\\n",
       "Date                                                                            \n",
       "2006-10-02  75.10  75.870  74.30  74.86  25451400.0          0.0          1.0   \n",
       "2006-10-03  74.45  74.950  73.19  74.07  28239600.0          0.0          1.0   \n",
       "2006-10-04  74.10  75.462  73.16  75.38  29610100.0          0.0          1.0   \n",
       "2006-10-05  74.53  76.160  74.13  74.83  24424400.0          0.0          1.0   \n",
       "2006-10-06  74.42  75.040  73.81  74.22  16677100.0          0.0          1.0   \n",
       "\n",
       "            Adj. Open  Adj. High  Adj. Low  Adj. Close  Adj. Volume  \n",
       "Date                                                                 \n",
       "2006-10-02   9.651397   9.750352  9.548586    9.620553  178159800.0  \n",
       "2006-10-03   9.567863   9.632120  9.405935    9.519027  197677200.0  \n",
       "2006-10-04   9.522883   9.697919  9.402080    9.687381  207270700.0  \n",
       "2006-10-05   9.578144   9.787621  9.526738    9.616698  170970800.0  \n",
       "2006-10-06   9.564007   9.643686  9.485614    9.538304  116739700.0  "
      ]
     },
     "execution_count": 15,
     "metadata": {},
     "output_type": "execute_result"
    }
   ],
   "source": [
    "import quandl \n",
    "aapl = quandl.get(\"WIKI/AAPL\", start_date=\"2006-10-01\", end_date=\"2012-01-01\")\n",
    "aapl.head()\n"
   ]
  },
  {
   "cell_type": "markdown",
   "metadata": {},
   "source": [
    "### Working With Time Series Data"
   ]
  },
  {
   "cell_type": "code",
   "execution_count": 9,
   "metadata": {
    "jupyter": {
     "outputs_hidden": false
    }
   },
   "outputs": [
    {
     "data": {
      "text/plain": [
       "pandas.core.series.Series"
      ]
     },
     "execution_count": 9,
     "metadata": {},
     "output_type": "execute_result"
    }
   ],
   "source": [
    "# Inspect the index \n",
    "aapl.index\n",
    "\n",
    "# Inspect the columns\n",
    "aapl.columns\n",
    "\n",
    "\n",
    "# Select only the last 10 observations of `Close`\n",
    "ts = aapl['Close'][-10:]\n",
    "\n",
    "# Check the type of `ts` \n",
    "type(ts)"
   ]
  },
  {
   "cell_type": "code",
   "execution_count": null,
   "metadata": {},
   "outputs": [],
   "source": [
    "# Inspect the columns\n",
    "aapl.columns\n",
    "\n",
    "# Select only the last 10 observations of `Close`\n",
    "ts = aapl['Close'][-10:]\n"
   ]
  },
  {
   "cell_type": "code",
   "execution_count": null,
   "metadata": {
    "jupyter": {
     "outputs_hidden": false
    }
   },
   "outputs": [],
   "source": [
    "\n",
    "\n",
    "# Inspect the first rows of 2007 \n",
    "print(aapl.loc['2007'].head())\n",
    "\n",
    "# Inspect November 2006\n",
    "print(aapl.iloc[22:43])\n",
    "\n",
    "# Inspect the 'Open' and 'Close' values at 2006-11-01 and 2006-12-01\n",
    "print(aapl.iloc[[22,43], [0, 3]])"
   ]
  },
  {
   "cell_type": "code",
   "execution_count": null,
   "metadata": {
    "jupyter": {
     "outputs_hidden": false
    }
   },
   "outputs": [],
   "source": [
    "# Sample 20 rows\n",
    "sample = aapl.sample(20)\n",
    "\n",
    "# Print `sample`\n",
    "print(sample)\n",
    "\n",
    "# Resample to monthly level \n",
    "monthly_aapl = aapl.resample('M')\n",
    "\n",
    "# Print `monthly_aapl`\n",
    "print(monthly_aapl)"
   ]
  },
  {
   "cell_type": "code",
   "execution_count": null,
   "metadata": {},
   "outputs": [],
   "source": [
    "# Add a column `diff` to `aapl` \n",
    "aapl['diff'] = aapl.Open - aapl.Close\n",
    "\n",
    "# Delete the new `diff` column\n",
    "del aapl['diff']"
   ]
  },
  {
   "cell_type": "code",
   "execution_count": null,
   "metadata": {
    "jupyter": {
     "outputs_hidden": false
    }
   },
   "outputs": [],
   "source": [
    "# Import Matplotlib's `pyplot` module as `plt`\n",
    "import matplotlib.pyplot as plt\n",
    "\n",
    "# Plot the closing prices for `aapl`\n",
    "aapl['Close'].plot(grid=True)\n",
    "\n",
    "# Show the plot\n",
    "plt.show()"
   ]
  },
  {
   "cell_type": "markdown",
   "metadata": {},
   "source": [
    "<a id='commonanalyses'></a>\n",
    "## Common Financial Analysis\n",
    "\n",
    "### Returns"
   ]
  },
  {
   "cell_type": "code",
   "execution_count": null,
   "metadata": {
    "jupyter": {
     "outputs_hidden": false
    }
   },
   "outputs": [],
   "source": [
    "# Assign `Adj Close` to `daily_close`\n",
    "daily_close = aapl[['Adj Close']]\n",
    "\n",
    "# Daily returns\n",
    "daily_pct_c = daily_close.pct_change()\n",
    "\n",
    "# Replace NA values with 0\n",
    "daily_pct_c.fillna(0, inplace=True)\n",
    "\n",
    "# Inspect daily returns\n",
    "print(daily_pct_c)\n",
    "\n",
    "# Daily log returns\n",
    "daily_log_returns = np.log(daily_close.pct_change()+1)\n",
    "\n",
    "# Print daily log returns\n",
    "print(daily_log_returns)"
   ]
  },
  {
   "cell_type": "code",
   "execution_count": null,
   "metadata": {
    "jupyter": {
     "outputs_hidden": false
    }
   },
   "outputs": [],
   "source": [
    "# Resample `aapl` to business months, take last observation as value \n",
    "monthly = aapl.resample('BM').apply(lambda x: x[-1])\n",
    "\n",
    "# Calculate the monthly percentage change\n",
    "monthly.pct_change()\n",
    "\n",
    "# Resample `aapl` to quarters, take the mean as value per quarter\n",
    "quarter = aapl.resample(\"4M\").mean()\n",
    "\n",
    "# Calculate the quarterly percentage change\n",
    "quarter.pct_change()"
   ]
  },
  {
   "cell_type": "code",
   "execution_count": null,
   "metadata": {
    "jupyter": {
     "outputs_hidden": false
    }
   },
   "outputs": [],
   "source": [
    "# Daily returns\n",
    "daily_pct_c = daily_close / daily_close.shift(1) - 1\n",
    "\n",
    "# Print `daily_pct_c`\n",
    "print(daily_pct_c)"
   ]
  },
  {
   "cell_type": "code",
   "execution_count": null,
   "metadata": {
    "jupyter": {
     "outputs_hidden": false
    }
   },
   "outputs": [],
   "source": [
    "# Import matplotlib\n",
    "import matplotlib.pyplot as plt\n",
    "\n",
    "# Plot the distribution of `daily_pct_c`\n",
    "daily_pct_c.hist(bins=50)\n",
    "\n",
    "# Show the plot\n",
    "plt.show()\n",
    "\n",
    "# Pull up summary statistics\n",
    "print(daily_pct_c.describe())"
   ]
  },
  {
   "cell_type": "code",
   "execution_count": null,
   "metadata": {
    "jupyter": {
     "outputs_hidden": false
    }
   },
   "outputs": [],
   "source": [
    "# Calculate the cumulative daily returns\n",
    "cum_daily_return = (1 + daily_pct_c).cumprod()\n",
    "\n",
    "# Print `cum_daily_return`\n",
    "print(cum_daily_return)"
   ]
  },
  {
   "cell_type": "code",
   "execution_count": null,
   "metadata": {
    "jupyter": {
     "outputs_hidden": false
    }
   },
   "outputs": [],
   "source": [
    "# Import matplotlib\n",
    "import matplotlib.pyplot as plt \n",
    "\n",
    "# Plot the cumulative daily returns\n",
    "cum_daily_return.plot(figsize=(12,8))\n",
    "\n",
    "# Show the plot\n",
    "plt.show()"
   ]
  },
  {
   "cell_type": "code",
   "execution_count": null,
   "metadata": {
    "jupyter": {
     "outputs_hidden": false
    }
   },
   "outputs": [],
   "source": [
    "# Resample the cumulative daily return to cumulative monthly return \n",
    "cum_monthly_return = cum_daily_return.resample(\"M\").mean()\n",
    "\n",
    "# Print the `cum_monthly_return`\n",
    "print(cum_monthly_return)"
   ]
  },
  {
   "cell_type": "code",
   "execution_count": null,
   "metadata": {
    "jupyter": {
     "outputs_hidden": false
    }
   },
   "outputs": [],
   "source": [
    "from pandas_datareader import data as pdr\n",
    "import fix_yahoo_finance\n",
    "\n",
    "def get(tickers, startdate, enddate):\n",
    "    def data(ticker):\n",
    "        return (pdr.get_data_yahoo(ticker, start=startdate, end=enddate))\n",
    "    datas = map (data, tickers)\n",
    "    return(pd.concat(datas, keys=tickers, names=['Ticker', 'Date']))\n",
    "\n",
    "tickers = ['AAPL', 'MSFT', 'IBM', 'GOOG']\n",
    "all_data = get(tickers, datetime.datetime(2006, 10, 1), datetime.datetime(2012, 1, 1))\n",
    "all_data.head()"
   ]
  },
  {
   "cell_type": "code",
   "execution_count": null,
   "metadata": {
    "jupyter": {
     "outputs_hidden": false
    }
   },
   "outputs": [],
   "source": [
    "#all_data = pd.read_csv(\"https://s3.amazonaws.com/assets.datacamp.com/blog_assets/all_stock_data.csv\", index_col= [0,1], header=0, parse_dates=[1])"
   ]
  },
  {
   "cell_type": "code",
   "execution_count": null,
   "metadata": {
    "jupyter": {
     "outputs_hidden": false
    }
   },
   "outputs": [],
   "source": [
    "daily_close_px = all_data[['Adj Close']].reset_index().pivot('Date', 'Ticker', 'Adj Close')\n",
    "\n",
    "# Calculate the daily percentage change for `daily_close_px`\n",
    "daily_pct_change = daily_close_px.pct_change()\n",
    "\n",
    "# Plot the distributions\n",
    "daily_pct_change.hist(bins=50, sharex=True, figsize=(12,8))\n",
    "\n",
    "# Show the resulting plot\n",
    "plt.show()"
   ]
  },
  {
   "cell_type": "code",
   "execution_count": null,
   "metadata": {
    "jupyter": {
     "outputs_hidden": false
    }
   },
   "outputs": [],
   "source": [
    "# Plot a scatter matrix with the `daily_pct_change` data \n",
    "pd.plotting.scatter_matrix(daily_pct_change, diagonal='kde', alpha=0.1,figsize=(12,12))\n",
    "\n",
    "# Show the plot\n",
    "plt.show()"
   ]
  },
  {
   "cell_type": "markdown",
   "metadata": {},
   "source": [
    "### Moving Windows"
   ]
  },
  {
   "cell_type": "code",
   "execution_count": null,
   "metadata": {
    "jupyter": {
     "outputs_hidden": false
    }
   },
   "outputs": [],
   "source": [
    "# Isolate the adjusted closing prices \n",
    "adj_close_px = aapl['Adj Close']\n",
    "\n",
    "# Calculate the moving average\n",
    "moving_avg = adj_close_px.rolling(window=40).mean()\n",
    "\n",
    "# Inspect the result\n",
    "moving_avg[-10:]"
   ]
  },
  {
   "cell_type": "code",
   "execution_count": null,
   "metadata": {
    "jupyter": {
     "outputs_hidden": false
    }
   },
   "outputs": [],
   "source": [
    "# Short moving window rolling mean\n",
    "aapl['42'] = adj_close_px.rolling(window=40).mean()\n",
    "\n",
    "# Long moving window rolling mean\n",
    "aapl['252'] = adj_close_px.rolling(window=252).mean()\n",
    "\n",
    "# Plot the adjusted closing price, the short and long windows of rolling means\n",
    "aapl[['Adj Close', '42', '252']].plot()\n",
    "\n",
    "plt.show()"
   ]
  },
  {
   "cell_type": "markdown",
   "metadata": {},
   "source": [
    "### Volatility Calculation"
   ]
  },
  {
   "cell_type": "code",
   "execution_count": null,
   "metadata": {
    "jupyter": {
     "outputs_hidden": false
    }
   },
   "outputs": [],
   "source": [
    "# Define the minumum of periods to consider \n",
    "min_periods = 75 \n",
    "\n",
    "# Calculate the volatility\n",
    "vol = daily_pct_change.rolling(min_periods).std() * np.sqrt(min_periods) \n",
    "\n",
    "# Plot the volatility\n",
    "vol.plot(figsize=(10, 8))\n",
    "\n",
    "# Show the plot\n",
    "plt.show()"
   ]
  },
  {
   "cell_type": "markdown",
   "metadata": {},
   "source": [
    "### Ordinary Least-Squares Regression (OLS)"
   ]
  },
  {
   "cell_type": "code",
   "execution_count": null,
   "metadata": {
    "jupyter": {
     "outputs_hidden": false
    }
   },
   "outputs": [],
   "source": [
    "# Import the `api` model of `statsmodels` under alias `sm`\n",
    "import statsmodels.api as sm\n",
    "from pandas import tseries\n",
    "from pandas.core import datetools\n",
    "\n",
    "# Isolate the adjusted closing price\n",
    "all_adj_close = all_data[['Adj Close']]\n",
    "\n",
    "# Calculate the returns \n",
    "all_returns = np.log(all_adj_close / all_adj_close.shift(1))\n",
    "\n",
    "# Isolate the AAPL returns \n",
    "aapl_returns = all_returns.iloc[all_returns.index.get_level_values('Ticker') == 'AAPL']\n",
    "aapl_returns.index = aapl_returns.index.droplevel('Ticker')\n",
    "\n",
    "# Isolate the MSFT returns\n",
    "msft_returns = all_returns.iloc[all_returns.index.get_level_values('Ticker') == 'MSFT']\n",
    "msft_returns.index = msft_returns.index.droplevel('Ticker')\n",
    "\n",
    "# Build up a new DataFrame with AAPL and MSFT returns\n",
    "return_data = pd.concat([aapl_returns, msft_returns], axis=1)[1:]\n",
    "return_data.columns = ['AAPL', 'MSFT']\n",
    "\n",
    "# Add a constant \n",
    "X = sm.add_constant(return_data['AAPL'])\n",
    "\n",
    "# Construct the model\n",
    "model = sm.OLS(return_data['MSFT'],X).fit()\n",
    "\n",
    "# Print the summary\n",
    "print(model.summary())"
   ]
  },
  {
   "cell_type": "code",
   "execution_count": null,
   "metadata": {
    "jupyter": {
     "outputs_hidden": false
    }
   },
   "outputs": [],
   "source": [
    "plt.plot(return_data['AAPL'], return_data['MSFT'], 'r.')\n",
    "\n",
    "ax = plt.axis()\n",
    "x = np.linspace(ax[0], ax[1] + 0.01)\n",
    "\n",
    "plt.plot(x, model.params[0] + model.params[1] * x, 'b', lw=2)\n",
    "\n",
    "plt.grid(True)\n",
    "plt.axis('tight')\n",
    "plt.xlabel('Apple Returns')\n",
    "plt.ylabel('Microsoft returns')\n",
    "\n",
    "plt.show()"
   ]
  },
  {
   "cell_type": "code",
   "execution_count": null,
   "metadata": {
    "jupyter": {
     "outputs_hidden": false
    }
   },
   "outputs": [],
   "source": [
    "return_data['MSFT'].rolling(window=252).corr(return_data['AAPL']).plot()\n",
    "plt.show()"
   ]
  },
  {
   "cell_type": "markdown",
   "metadata": {},
   "source": [
    "<a id='tradingstrategy'></a>\n",
    "## Building A Trading Strategy With Python"
   ]
  },
  {
   "cell_type": "code",
   "execution_count": null,
   "metadata": {},
   "outputs": [],
   "source": [
    "# Initialize the short and long windows\n",
    "short_window = 40\n",
    "long_window = 100\n",
    "\n",
    "# Initialize the `signals` DataFrame with the `signal` column\n",
    "signals = pd.DataFrame(index=aapl.index)\n",
    "signals['signal'] = 0.0\n",
    "\n",
    "# Create short simple moving average over the short window\n",
    "signals['short_mavg'] = aapl['Close'].rolling(window=short_window, min_periods=1, center=False).mean()\n",
    "\n",
    "# Create long simple moving average over the long window\n",
    "signals['long_mavg'] = aapl['Close'].rolling(window=long_window, min_periods=1, center=False).mean()\n",
    "\n",
    "# Create signals\n",
    "signals['signal'][short_window:] = np.where(signals['short_mavg'][short_window:] \n",
    "                                            > signals['long_mavg'][short_window:], 1.0, 0.0)   \n",
    "\n",
    "# Generate trading orders\n",
    "signals['positions'] = signals['signal'].diff()"
   ]
  },
  {
   "cell_type": "code",
   "execution_count": null,
   "metadata": {
    "jupyter": {
     "outputs_hidden": false
    }
   },
   "outputs": [],
   "source": [
    "# Initialize the plot figure\n",
    "fig = plt.figure()\n",
    "\n",
    "# Add a subplot and label for y-axis\n",
    "ax1 = fig.add_subplot(111,  ylabel='Price in $')\n",
    "\n",
    "# Plot the closing price\n",
    "aapl['Close'].plot(ax=ax1, color='r', lw=2.)\n",
    "\n",
    "# Plot the short and long moving averages\n",
    "signals[['short_mavg', 'long_mavg']].plot(ax=ax1, lw=2.)\n",
    "\n",
    "# Plot the buy signals\n",
    "ax1.plot(signals.loc[signals.positions == 1.0].index, \n",
    "         signals.short_mavg[signals.positions == 1.0],\n",
    "         '^', markersize=10, color='m')\n",
    "         \n",
    "# Plot the sell signals\n",
    "ax1.plot(signals.loc[signals.positions == -1.0].index, \n",
    "         signals.short_mavg[signals.positions == -1.0],\n",
    "         'v', markersize=10, color='k')\n",
    "         \n",
    "# Show the plot\n",
    "plt.show()"
   ]
  },
  {
   "cell_type": "markdown",
   "metadata": {},
   "source": [
    "<a id='backtesting'></a>\n",
    "## Backtesting A Strategy\n",
    "\n",
    "### Implementation Of A Simple Backtester With Pandas"
   ]
  },
  {
   "cell_type": "code",
   "execution_count": null,
   "metadata": {},
   "outputs": [],
   "source": [
    "# Set the initial capital\n",
    "initial_capital= float(100000.0)\n",
    "\n",
    "# Create a DataFrame `positions`\n",
    "positions = pd.DataFrame(index=signals.index).fillna(0.0)\n",
    "\n",
    "# Buy a 100 shares\n",
    "positions['AAPL'] = 100*signals['signal']   \n",
    "  \n",
    "# Initialize the portfolio with value owned   \n",
    "portfolio = positions.multiply(aapl['Adj Close'], axis=0)\n",
    "\n",
    "# Store the difference in shares owned \n",
    "pos_diff = positions.diff()\n",
    "\n",
    "# Add `holdings` to portfolio\n",
    "portfolio['holdings'] = (positions.multiply(aapl['Adj Close'], axis=0)).sum(axis=1)\n",
    "\n",
    "# Add `cash` to portfolio\n",
    "portfolio['cash'] = initial_capital - (pos_diff.multiply(aapl['Adj Close'], axis=0)).sum(axis=1).cumsum()   \n",
    "\n",
    "# Add `total` to portfolio\n",
    "portfolio['total'] = portfolio['cash'] + portfolio['holdings']\n",
    "\n",
    "# Add `returns` to portfolio\n",
    "portfolio['returns'] = portfolio['total'].pct_change()"
   ]
  },
  {
   "cell_type": "code",
   "execution_count": null,
   "metadata": {
    "jupyter": {
     "outputs_hidden": false
    }
   },
   "outputs": [],
   "source": [
    "import matplotlib.pyplot as plt\n",
    "\n",
    "fig = plt.figure()\n",
    "\n",
    "ax1 = fig.add_subplot(111, ylabel='Portfolio value in $')\n",
    "\n",
    "# Plot the equity curve in dollars\n",
    "portfolio['total'].plot(ax=ax1, lw=2.)\n",
    "\n",
    "# Plot the \"buy\" trades against the equity curve\n",
    "ax1.plot(portfolio.loc[signals.positions == 1.0].index, \n",
    "         portfolio.total[signals.positions == 1.0],\n",
    "         '^', markersize=10, color='m')\n",
    "\n",
    "# Plot the \"sell\" trades against the equity curve\n",
    "ax1.plot(portfolio.loc[signals.positions == -1.0].index, \n",
    "         portfolio.total[signals.positions == -1.0],\n",
    "         'v', markersize=10, color='k')\n",
    "\n",
    "# Show the plot\n",
    "plt.show()"
   ]
  },
  {
   "cell_type": "markdown",
   "metadata": {},
   "source": [
    "<a id='evaluating'></a>\n",
    "## Evaluating Moving Average Crossover Strategy \n",
    "\n",
    "### Sharpe Ratio"
   ]
  },
  {
   "cell_type": "code",
   "execution_count": null,
   "metadata": {
    "jupyter": {
     "outputs_hidden": false
    }
   },
   "outputs": [],
   "source": [
    "# Isolate the returns of your strategy\n",
    "returns = portfolio['returns']\n",
    "\n",
    "# annualized Sharpe ratio\n",
    "sharpe_ratio = np.sqrt(252) * (returns.mean() / returns.std())\n",
    "\n",
    "# Print the Sharpe ratio\n",
    "print(sharpe_ratio)"
   ]
  },
  {
   "cell_type": "markdown",
   "metadata": {},
   "source": [
    "### Maximum Drawdown"
   ]
  },
  {
   "cell_type": "code",
   "execution_count": null,
   "metadata": {
    "jupyter": {
     "outputs_hidden": false
    }
   },
   "outputs": [],
   "source": [
    "# Define a trailing 252 trading day window\n",
    "window = 252\n",
    "\n",
    "# Calculate the max drawdown in the past window days for each day\n",
    "rolling_max = aapl['Adj Close'].rolling(window, min_periods=1).max()\n",
    "daily_drawdown = aapl['Adj Close']/rolling_max - 1.0\n",
    "\n",
    "# Calculate the minimum (negative) daily drawdown\n",
    "max_daily_drawdown = daily_drawdown.rolling(window, min_periods=1).min()\n",
    "\n",
    "# Plot the results\n",
    "daily_drawdown.plot()\n",
    "max_daily_drawdown.plot()\n",
    "\n",
    "# Show the plot\n",
    "plt.show()"
   ]
  },
  {
   "cell_type": "markdown",
   "metadata": {},
   "source": [
    "### Compound Annual Growth Rate (CAGR)"
   ]
  },
  {
   "cell_type": "code",
   "execution_count": null,
   "metadata": {
    "jupyter": {
     "outputs_hidden": false
    }
   },
   "outputs": [],
   "source": [
    "# Get the number of days in `aapl`\n",
    "days = (aapl.index[-1] - aapl.index[0]).days\n",
    "\n",
    "# Calculate the CAGR \n",
    "cagr = ((((aapl['Adj Close'][-1]) / aapl['Adj Close'][1])) ** (365.0/days)) - 1\n",
    "\n",
    "# Print CAGR\n",
    "print(cagr)"
   ]
  }
 ],
 "metadata": {
  "kernelspec": {
   "display_name": "Python 3",
   "language": "python",
   "name": "python3"
  },
  "language_info": {
   "codemirror_mode": {
    "name": "ipython",
    "version": 3
   },
   "file_extension": ".py",
   "mimetype": "text/x-python",
   "name": "python",
   "nbconvert_exporter": "python",
   "pygments_lexer": "ipython3",
   "version": "3.7.7"
  },
  "varInspector": {
   "cols": {
    "lenName": 16,
    "lenType": 16,
    "lenVar": 40
   },
   "kernels_config": {
    "python": {
     "delete_cmd_postfix": "",
     "delete_cmd_prefix": "del ",
     "library": "var_list.py",
     "varRefreshCmd": "print(var_dic_list())"
    },
    "r": {
     "delete_cmd_postfix": ") ",
     "delete_cmd_prefix": "rm(",
     "library": "var_list.r",
     "varRefreshCmd": "cat(var_dic_list()) "
    }
   },
   "types_to_exclude": [
    "module",
    "function",
    "builtin_function_or_method",
    "instance",
    "_Feature"
   ],
   "window_display": false
  },
  "widgets": {
   "application/vnd.jupyter.widget-state+json": {
    "state": {},
    "version_major": 2,
    "version_minor": 0
   }
  }
 },
 "nbformat": 4,
 "nbformat_minor": 4
}
