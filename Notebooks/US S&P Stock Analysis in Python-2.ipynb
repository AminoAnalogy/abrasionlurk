{
 "cells": [
  {
   "cell_type": "markdown",
   "metadata": {},
   "source": [
    "![](Arrow.png)"
   ]
  },
  {
   "cell_type": "markdown",
   "metadata": {},
   "source": [
    "\n",
    "# Arrow Series: US S&P Index Stock Analysis and Predictions"
   ]
  },
  {
   "cell_type": "markdown",
   "metadata": {},
   "source": [
    "The Objective of this template is to help you analyze and pick stocks that best suits your Risk and Return preferences. It is always a challenge to select stocks that are high in returns because generally, they are high in risk as well. The python script will make an attempt using Data Science visualization technique scatter plot to compare various stock that offers the same return but with less risk. \n",
    "\n",
    "The script will also look and normalized price growth movement, some fundamental analysis and ratios, prediction of stock prices using Brownian Motion Model and at the end will have a look at all stocks in an index to refine the search for the best stocks.\n",
    "\n",
    "Excel is the world’s most widely used tool by Finance professionals for performing various analysis, considering the fact, all data obtained from yahoo finance and calculations tables will be saved in CSV format, with their respective names for further analysis. Further the images generated in this tempales will also be saved in png format.\n",
    "\n",
    "The script results can be saved as PDF for reporting purposes, if you wish to not to include code lines in the final report there is an option available the bottom of the script to hide all code lines.\n",
    "\n",
    "The script is designed with the view that users are not IT professionals and don’t have any coding understanding and experience. \n",
    "\n",
    "#### So What you need to run the script:\n",
    "1.\tUnderstanding of Finance and all Models used in the script.\n",
    "2.\tIdeally Microsoft Azure Notebook account, which is Free at the moment (https://notebooks.azure.com/). Please refer to the following YouTube video for steps on how to create one: https://www.youtube.com/watch?v=r4B_zs3Lb-Y\n",
    "3.\tLog in to Azure Notebook\n",
    "4.\tUpload this script in a newly created project \n",
    "5.\tFollow the instruction in an explanatory video \n",
    "\n",
    "### DISCLAIMER: \n",
    "> Quality of analysis depends upon the quality of data, models, and libraries. The template is based on yahoo finance data, python libraries written by third parties, and financial models. Together they do not guarantee 100% desired and/or actual outcomes. User should not consider it as a stand-alone decision-making tool to make monetary and non-monetary decisions.\n",
    "The author of the template will not accept any liabilities whatsoever for any unexpected outcomes or losses.\n",
    "\n",
    "\n",
    "\n",
    "\n"
   ]
  },
  {
   "cell_type": "markdown",
   "metadata": {
    "hide_input": false
   },
   "source": [
    "### First Step  :Type your stock tickers/symbols\n",
    "- Please take extra care while selecting start date i.e. all stocks should be on listing on that date, otherwise code will through an ugly error."
   ]
  },
  {
   "cell_type": "code",
   "execution_count": null,
   "metadata": {
    "hide_input": false,
    "scrolled": true
   },
   "outputs": [],
   "source": [
    "ticker = ['MMM', 'ABT', 'APH','BXP','BLK', 'HRB','CL','EFX','ESS','FDX','AES','AAPL'] # Make sure ticker are within ' '. \n",
    "\n",
    "### Date format YYYY,MM.DD. Please make sure that your selected stocks are on listing on your selected Date Range.\n",
    "### Script will through and Error if not listed.\n",
    "\n",
    "start_date = '2016-06-29'\n",
    "end_date = '2019-05-24'"
   ]
  },
  {
   "cell_type": "code",
   "execution_count": null,
   "metadata": {
    "hide_input": false
   },
   "outputs": [],
   "source": [
    "!pip install pandas_datareader\n",
    "!pip install yahoofinancials"
   ]
  },
  {
   "cell_type": "code",
   "execution_count": null,
   "metadata": {
    "hide_input": false,
    "scrolled": true
   },
   "outputs": [],
   "source": [
    "import numpy as np\n",
    "import pandas as pd\n",
    "\n",
    "from pandas_datareader import data as wb\n",
    "import matplotlib.pyplot as plt\n",
    "from datetime import datetime\n",
    "from yahoofinancials import YahooFinancials as yf\n",
    "from IPython.display import Markdown, display\n",
    "from scipy.stats import norm\n",
    "%matplotlib inline\n",
    "\n"
   ]
  },
  {
   "cell_type": "code",
   "execution_count": null,
   "metadata": {
    "hide_input": false,
    "scrolled": true
   },
   "outputs": [],
   "source": [
    "def printmd(string, color='navy'):\n",
    "    colorstr = \"<span style='color:{}; font-size: 16px'></spna><span style='font-weight: bold'>{}</span>\".format(color, string)\n",
    "    display(Markdown(colorstr))"
   ]
  },
  {
   "cell_type": "code",
   "execution_count": null,
   "metadata": {
    "hide_input": false
   },
   "outputs": [],
   "source": [
    "data = pd.DataFrame()\n",
    "\n",
    "#Extracting price data from Yahoo Finance and only selecting Adjusted Close Price \n",
    "data = wb.DataReader(ticker, data_source = 'yahoo', start= start_date, end = end_date)['Adj Close']\n",
    "\n",
    "# Make sure all scripts have same lenght . not-null and float values\n",
    "printmd(\"Data Information\")\n",
    "data.info()\n",
    "data.to_csv('stock_prices.csv')\n",
    "\n"
   ]
  },
  {
   "cell_type": "markdown",
   "metadata": {},
   "source": [
    "### Review data obtained from yahoo finance\n",
    "#### First 5 historical prices "
   ]
  },
  {
   "cell_type": "code",
   "execution_count": null,
   "metadata": {
    "hide_input": true,
    "scrolled": true
   },
   "outputs": [],
   "source": [
    "data.head()"
   ]
  },
  {
   "cell_type": "markdown",
   "metadata": {},
   "source": [
    "#### Last 5 (Current) Prices"
   ]
  },
  {
   "cell_type": "code",
   "execution_count": null,
   "metadata": {
    "scrolled": true
   },
   "outputs": [],
   "source": [
    "data.tail()"
   ]
  },
  {
   "cell_type": "markdown",
   "metadata": {},
   "source": [
    "#### Ploting Price Movement"
   ]
  },
  {
   "cell_type": "code",
   "execution_count": null,
   "metadata": {
    "hide_input": false
   },
   "outputs": [],
   "source": [
    "# Plot and graphs style and size\n",
    "plt.rcParams['figure.figsize'] = [20, 14]\n",
    "plt.rcParams['figure.dpi'] = 200\n",
    "plt.style.use('ggplot')\n",
    "\n",
    "\n",
    "ax = data.plot(figsize=(18,12),linewidth=1.5, fontsize=8)\n",
    "\n",
    "# Loop to add column names for each graph line.\n",
    "for line, name in zip(ax.lines, data.columns):\n",
    "    y = line.get_ydata()[-1]\n",
    "    ax.annotate(name, xy=(1,y), xytext=(2,0), color=line.get_color(), \n",
    "                xycoords = ax.get_yaxis_transform(), textcoords=\"offset points\",\n",
    "                size=12, va=\"center\")\n",
    "\n",
    "\n",
    "\n",
    "# data.plot(figsize=(15,8),linewidth=1, fontsize=6, label = ticker);\n",
    "plt.xlabel('Year', fontsize=10);\n",
    "\n",
    "\n",
    "plt.ylabel(\"Price($) \", fontsize=10)\n",
    "plt.title(\"Stocks Price Movement\", fontsize=14)\n",
    "plt.savefig('stock_price_movement.png')\n",
    "plt.ylim(-10,1000)\n",
    "plt.show()\n"
   ]
  },
  {
   "cell_type": "markdown",
   "metadata": {},
   "source": [
    "# Normalised Price Movement Starting with base 100\n",
    "Normalised price movment provide a comparison of various securties, considering if all started at the same point, known as base 100, to see who gained/lost in the given period."
   ]
  },
  {
   "cell_type": "code",
   "execution_count": null,
   "metadata": {
    "hide_input": true
   },
   "outputs": [],
   "source": [
    "normalization =(data/data.iloc[0]*100)\n",
    "\n",
    "plt.rcParams['figure.figsize'] = [20,8]\n",
    "plt.rcParams['font.sans-serif'] = ['Tahoma', 'DejaVu Sans',\n",
    "                               'Lucida Grande', 'Verdana']\n",
    "plt.rcParams['font.size'] = 8\n",
    "plt.rcParams['figure.dpi'] = 200\n",
    "plt.style.use('ggplot')\n",
    "\n",
    "\n",
    "\n",
    "ax = normalization.plot(figsize=(18,12),linewidth=1.5, fontsize=8)\n",
    "\n",
    "for line, name in zip(ax.lines, normalization.columns):\n",
    "    y = line.get_ydata()[-1]\n",
    "    ax.annotate(name, xy=(1,y), xytext=(2,0), color=line.get_color(), \n",
    "                xycoords = ax.get_yaxis_transform(), textcoords=\"offset points\",\n",
    "                size=12, va=\"center\")\n",
    "\n",
    "\n",
    "#plt.ylim(0,1000)\n",
    "#normalization.plot(figsize=(18,12),linewidth=1, fontsize=6);\n",
    "plt.xlabel('Year', fontsize=10,color= 'navy');\n",
    "plt.ylabel(\"Price Movement Starting from at 100\",color= 'navy', fontsize=12)\n",
    "plt.title(\"Stocks Price Grwoth\", color= 'darkgreen', fontsize=16, fontweight='black')\n",
    "plt.savefig('stock_price_growth.png')\n",
    "plt.show()\n",
    "normalization.to_csv('normalised.csv')"
   ]
  },
  {
   "cell_type": "markdown",
   "metadata": {},
   "source": [
    "### Review normalised data"
   ]
  },
  {
   "cell_type": "markdown",
   "metadata": {},
   "source": [
    "#### First 5 rows "
   ]
  },
  {
   "cell_type": "code",
   "execution_count": null,
   "metadata": {
    "scrolled": true
   },
   "outputs": [],
   "source": [
    "normalization.head()"
   ]
  },
  {
   "cell_type": "markdown",
   "metadata": {},
   "source": [
    "#### Last 5 rows"
   ]
  },
  {
   "cell_type": "code",
   "execution_count": null,
   "metadata": {
    "scrolled": true
   },
   "outputs": [],
   "source": [
    "normalization.tail()"
   ]
  },
  {
   "cell_type": "markdown",
   "metadata": {
    "hide_input": true
   },
   "source": [
    "## Risk and Return Analysis:\n",
    "\n",
    "#### Return:\n",
    " -  Return is calculated as percentage price change from prevoius day for all days in dataset.\n",
    " -  Mean return for entire daily percentage change i.e average daily return \n",
    " -  Annualised average daily return by * 250 days \n",
    "\n",
    "#### Risk:\n",
    " - Risk is calculated as daily stadard deviation\n",
    " - Annuliased by * 250 days\n",
    " - square root of 250 days.\n",
    " "
   ]
  },
  {
   "cell_type": "code",
   "execution_count": null,
   "metadata": {
    "hide_input": false,
    "scrolled": true
   },
   "outputs": [],
   "source": [
    "simple_return = data.pct_change()\n",
    "returns = simple_return.mean() *250\n",
    "risks = simple_return.std() *250 ** 0.5 # ** 0.5 for taking standard deviation of 250 days\n",
    "df = pd.DataFrame(risks * 100, columns=['Risk'])\n",
    "df['Return'] = returns *100\n",
    "names = df.index\n",
    "df.insert(0, 'Names', names )\n"
   ]
  },
  {
   "cell_type": "code",
   "execution_count": null,
   "metadata": {
    "hide_input": true
   },
   "outputs": [],
   "source": [
    "plt.rcParams['figure.figsize'] = [20,8]\n",
    "plt.rcParams['font.sans-serif'] = ['Tahoma', 'DejaVu Sans',\n",
    "                               'Lucida Grande', 'Verdana']\n",
    "plt.rcParams['font.size'] = 8\n",
    "plt.rcParams['figure.dpi'] = 200\n",
    "plt.style.use('ggplot')\n",
    "fig, ax = plt.subplots()\n",
    "\n",
    "\n",
    "my_scatter_plot = ax.scatter(\n",
    "df[\"Risk\"], #x values\n",
    "df[\"Return\"], # y values\n",
    "c = 'r',marker='o', s = 20\n",
    "    \n",
    "\n",
    ")\n",
    "\n",
    "ax.set_xlabel(\"Risk in %\", color= 'darkblue', fontsize=10, fontweight = 'bold')\n",
    "ax.set_ylabel(\"Return in %\",color= 'darkblue', fontsize=10,fontweight = 'bold')\n",
    "ax.set_title(\"Stocks Risk Return Relationship\",color= 'darkgreen', fontsize=16, fontweight='black')\n",
    "\n",
    "for _, row in df[[\"Names\",\"Risk\",\"Return\"]].iterrows():\n",
    "    xy = row[[\"Risk\", \"Return\"]]\n",
    "    xytext=  xy \n",
    "    ax.annotate(row[\"Names\"], xy, xytext, fontsize=8)\n",
    "\n",
    "#plt.savefig('enron.png')\n",
    "my_scatter_plot.figsize=(10,6)\n",
    "plt.savefig('stock_risk_return.png')\n",
    "plt.show() #show the plot\n",
    "printmd(\" Risk and return combination sorted for returns, from highest % to lowest %: \")\n",
    "df[[ \"Return\",\"Risk\",]].sort_values('Return', ascending=False)"
   ]
  },
  {
   "cell_type": "markdown",
   "metadata": {
    "hide_input": false
   },
   "source": [
    "# Fundamental Analysis "
   ]
  },
  {
   "cell_type": "code",
   "execution_count": null,
   "metadata": {
    "hide_input": false,
    "scrolled": true
   },
   "outputs": [],
   "source": [
    "asx_mix = yf(ticker)\n",
    "asx_eps            = asx_mix.get_earnings_per_share()\n",
    "asx_mix_payout     = asx_mix.get_payout_ratio()\n",
    "asx_mix_pe         =  asx_mix.get_pe_ratio()\n",
    "asx_mix_div_yield = asx_mix.get_dividend_yield()\n",
    "asx_avg_annual_yield =   asx_mix.get_annual_avg_div_yield()\n",
    "asx_mix_div_rate = asx_mix.get_dividend_rate()\n",
    "asx_mix_5yr_div_yield = asx_mix.get_five_yr_avg_div_yield()\n",
    "asx_price_sales = asx_mix.get_price_to_sales()\n",
    "asx_beta = asx_mix.get_beta()\n"
   ]
  },
  {
   "cell_type": "code",
   "execution_count": null,
   "metadata": {
    "hide_input": false,
    "scrolled": true
   },
   "outputs": [],
   "source": [
    "\n",
    "key_stats = pd.DataFrame(index = ticker)"
   ]
  },
  {
   "cell_type": "code",
   "execution_count": null,
   "metadata": {
    "hide_input": false
   },
   "outputs": [],
   "source": [
    "\n",
    "key_stats['Risk'] = df[\"Risk\"]\n",
    "key_stats['Return'] = df[\"Return\"]\n",
    "key_stats['EPS'] = [x for x in asx_eps.values() ]\n",
    "key_stats['Div Rate'] = [x for x in asx_mix_div_rate.values() ]\n",
    "key_stats['Payout Ratio'] = [x for x in asx_mix_payout.values() ] \n",
    "key_stats['PE Ratio'] = [x for x in asx_mix_pe.values() ]\n",
    "key_stats['Div Yield'] = [x for x in asx_mix_div_yield.values() ]\n",
    "key_stats['Annual avg Div Yield'] = [x for x in asx_mix_div_rate.values() ]\n",
    "key_stats['5 Yrs Div Yield'] = [x for x in asx_mix_5yr_div_yield.values() ]\n",
    "key_stats['Price to Sales'] = [x for x in asx_price_sales.values() ]\n",
    "key_stats['Beta'] = [x for x in asx_beta.values() ]\n",
    "\n",
    "print ('')\n",
    "\n",
    "printmd(\"Following data obtained from Yahoo Finance except for Risk and Return: \")\n",
    "key_stats\n",
    "\n"
   ]
  },
  {
   "cell_type": "code",
   "execution_count": null,
   "metadata": {
    "hide_input": false,
    "scrolled": true
   },
   "outputs": [],
   "source": [
    "key_stats.to_csv('key_statistics.csv')"
   ]
  },
  {
   "cell_type": "code",
   "execution_count": null,
   "metadata": {
    "hide_input": false
   },
   "outputs": [],
   "source": [
    "fig, axarr = plt.subplots(3, 2, figsize=(12, 8))\n",
    "\n",
    "fig.suptitle(\"Key Statistics and Ratios as at End Date\", fontsize = 14, color='darkgreen', fontfamily='Serif')\n",
    "\n",
    "\n",
    "# ax.set_xticklabels(key_stats[['PE Ratio','EPS','Div Rate','Payout Ratio','Risk']],rotation=0, fontsize=6)\n",
    "# ax.set_yticklabels(key_stats[['PE Ratio','EPS','Div Rate','Payout Ratio','Risk']],rotation=0, fontsize=6)\n",
    "\n",
    "plt.rc('xtick',labelsize=6)\n",
    "plt.rc('ytick',labelsize=8)\n",
    "\n",
    "\n",
    "\n",
    "key_stats['Price to Sales'].plot.bar(legend=False,\n",
    "    ax=axarr[0][0]\n",
    ")\n",
    "axarr[0][0].set_title(\"Price to Sales Ratio\", fontsize=8)\n",
    "axarr[0][0].set_xticklabels(key_stats.index,rotation=0,fontsize=6)\n",
    "axarr[0][0].legend(fontsize= 'x-small')\n",
    "axarr[0][0].set_ylabel(\"Amount\", fontsize=8)\n",
    "\n",
    "\n",
    "key_stats[['EPS','Div Rate']].plot.bar(legend=True,\n",
    "    ax=axarr[0][1]\n",
    ")\n",
    "axarr[0][1].set_title(\"EPS and Div Rate\", fontsize=8)\n",
    "axarr[0][1].set_xticklabels(key_stats.index,rotation=0,fontsize=6)\n",
    "axarr[0][1].legend(fontsize= 'x-small')\n",
    "axarr[0][1].set_ylabel(\"Amount\", fontsize=8)\n",
    "\n",
    "\n",
    "key_stats['Annual avg Div Yield'].plot.bar(legend=False,\n",
    "    ax=axarr[1][0]\n",
    ")\n",
    "axarr[1][0].set_title(\"Avg Annual Divdend Yield\", fontsize=8)\n",
    "axarr[1][0].set_xticklabels(key_stats.index,rotation=0,fontsize=6)\n",
    "axarr[1][0].legend(fontsize= 'x-small')\n",
    "axarr[1][0].set_ylabel(\"Amount\", fontsize=8)\n",
    "\n",
    "\n",
    "\n",
    "key_stats['Payout Ratio'].plot.bar(fontsize=9,\n",
    "    ax=axarr[1][1]\n",
    ")\n",
    "\n",
    "axarr[1][1].set_title(\"Payout Ratio\", fontsize=8)\n",
    "axarr[1][1].set_xticklabels(key_stats.index,rotation=0,fontsize=6)\n",
    "axarr[1][1].set_ylabel(\"Ratio\", fontsize=8)\n",
    "\n",
    "\n",
    "key_stats[['Risk','Return']].plot.bar( fontsize=9,legend= True,\n",
    "    ax=axarr[2][0]\n",
    ")\n",
    "\n",
    "\n",
    "axarr[2][0].set_title(\"Risk and Return\", fontsize=8)\n",
    "axarr[2][0].set_xticklabels(key_stats.index,rotation=0,fontsize=6)\n",
    "axarr[2][0].set_ylabel(\"%\", fontsize=8)\n",
    "axarr[2][0].legend(fontsize= 'x-small')\n",
    "\n",
    "\n",
    "\n",
    "\n",
    "key_stats['PE Ratio'].plot.bar(\n",
    "    ax=axarr[2][1]\n",
    ")\n",
    "axarr[2][1].set_title(\"PE Ratio\", fontsize=8)\n",
    "axarr[2][1].set_ylabel(\"Ratio\", fontsize=8)\n",
    "axarr[2][1].set_xticklabels(key_stats.index,rotation=0,fontsize=6)\n",
    "\n",
    "plt.subplots_adjust(hspace=.6)\n",
    "\n"
   ]
  },
  {
   "cell_type": "markdown",
   "metadata": {},
   "source": [
    "# Stock Prediction Using Brownain Motion "
   ]
  },
  {
   "cell_type": "markdown",
   "metadata": {},
   "source": [
    "#### Brownian Motion\n",
    "We are calculating brownain motion using these equations and expressions \n",
    "$$\n",
    "daily\\_returns = e^{r}\n",
    "$$\n",
    "\n",
    "$$\n",
    "r = drift + stdev \\cdot z\n",
    "$$\n",
    "\n",
    "\n",
    "$$\n",
    "drift = u - \\frac{1}{2} \\cdot var\n",
    "$$\n"
   ]
  },
  {
   "cell_type": "code",
   "execution_count": null,
   "metadata": {},
   "outputs": [],
   "source": [
    "### Type time interval i.e. number of days in the future ---------------------------------------- \n",
    "\n",
    "t_intervals = 250 # forecasting for upcoming 300 days \n",
    "\n",
    "#------------------------------------------------------------------------------------------------\n",
    "\n",
    "\n",
    "itterations = 1  # 1 series / scanarios for upcoming 700 days forcasts.\n",
    "\n",
    "\n",
    "log_returns = np.log(1 + data.pct_change())\n",
    "u = log_returns.mean()\n",
    "var = log_returns.var()\n",
    "drift = u - (0.5 * var)\n",
    "stdev = log_returns.std()\n",
    "\n",
    "# .values to convert Series into numpy array.\n",
    "# norm.ppf() function calculate the z-score / standard deviation of an event / calculate distance between event\n",
    "# to its mean in standard deviations unit\n",
    "\n",
    "daily_returns = np.exp(drift.values + stdev.values * norm.ppf(np.random.rand(t_intervals,itterations)))\n",
    "last_stock_price = data.iloc[-1]\n",
    "price_list = np.zeros_like(daily_returns)\n",
    "price_list[0] = last_stock_price\n",
    "\n",
    "for i in range(1, t_intervals):\n",
    "    price_list[i] = price_list[i-1] * daily_returns[i]\n",
    "\n",
    "    price_data = pd.DataFrame(price_list, columns= data.columns)\n",
    "price_data.columns =  price_data.columns.str.replace('.AX','')\n",
    "\n",
    "\n",
    "symbol_title = (\"Stock Price Predictions\")\n",
    "plt.rcParams['figure.dpi'] = 150\n",
    "\n",
    "ax = price_data.plot(figsize=(22,12),linewidth=1.5, fontsize=8)\n",
    "\n",
    "for line, name in zip(ax.lines, price_data.columns):\n",
    "    y = line.get_ydata()[-1]\n",
    "    ax.annotate(name, xy=(1,y), xytext=(2,0), color=line.get_color(), \n",
    "                xycoords = ax.get_yaxis_transform(), textcoords=\"offset points\",\n",
    "                size=12, va=\"center\")\n",
    "\n",
    "plt.xlabel('Days', fontsize=10)\n",
    "plt.ylabel(\"Price ($)\", fontsize=12)\n",
    "plt.title(symbol_title, fontsize=18)\n",
    "\n",
    "\n",
    "plt.show()\n",
    "printmd('For more detail prediction analysis please refer to OneClick series Monte Carlo and Brownian Motion in Python.')"
   ]
  },
  {
   "cell_type": "markdown",
   "metadata": {},
   "source": [
    "# Analysing All Stocks in the Index "
   ]
  },
  {
   "cell_type": "code",
   "execution_count": null,
   "metadata": {},
   "outputs": [],
   "source": [
    "number_from = 1\n",
    "number_to = 40"
   ]
  },
  {
   "cell_type": "code",
   "execution_count": null,
   "metadata": {
    "hide_input": false
   },
   "outputs": [],
   "source": [
    "url2 = pd.read_html('https://en.wikipedia.org/wiki/List_of_S%26P_500_companies')\n",
    "\n",
    "codes = url2[0][0][number_from:number_to]\n",
    "# codes = table1[1:]\n",
    "codes"
   ]
  },
  {
   "cell_type": "code",
   "execution_count": null,
   "metadata": {
    "hide_input": false
   },
   "outputs": [],
   "source": [
    "\n",
    "#Date format YYYY,MM.DD\n",
    "start_date = '2017-06-29'\n",
    "end_date = '2019-05-24'\n"
   ]
  },
  {
   "cell_type": "code",
   "execution_count": null,
   "metadata": {
    "hide_input": false
   },
   "outputs": [],
   "source": [
    "sp = pd.DataFrame()\n",
    "\n",
    "#Extracting price data from Yahoo Finance and only selecting Adjusted Close Price \n",
    "sp = wb.DataReader(codes, data_source = 'yahoo', start= start_date, end = end_date)['Adj Close']"
   ]
  },
  {
   "cell_type": "code",
   "execution_count": null,
   "metadata": {
    "hide_input": false
   },
   "outputs": [],
   "source": [
    "\n",
    "sp_all_stocks_statistics= sp.describe()\n",
    "sp.to_csv('all_index_stocks_price.csv')\n",
    "sp_all_stocks_statistics.to_csv('all_index_stocks_statistics.csv')\n",
    "sp_all_stocks_statistics"
   ]
  },
  {
   "cell_type": "code",
   "execution_count": null,
   "metadata": {},
   "outputs": [],
   "source": [
    "\n",
    "### Remove Outlier ----------------------------------------------------------------------------------------------------------------\n",
    "\n",
    "#asx_200.drop(columns=['EHL'], inplace=True)\n",
    "\n",
    "###----------------------------------------------------------------------------------------------------------------------------------\n",
    "\n",
    "simple_return = sp.pct_change()\n",
    "returns = simple_return.mean() *250\n",
    "risks = simple_return.std() *250 ** 0.5 # ** 0.5 for taking standard deviation of 250 days\n",
    "df = pd.DataFrame(risks * 100, columns=['Risk'])\n",
    "df['Return'] = returns *100\n",
    "names = df.index\n",
    "df.insert(0, 'Names', names )\n",
    "\n",
    "plt.rcParams['figure.figsize'] = [22,10]\n",
    "plt.rcParams['font.sans-serif'] = ['Tahoma', 'DejaVu Sans',\n",
    "                               'Lucida Grande', 'Verdana']\n",
    "plt.rcParams['font.size'] = 8\n",
    "plt.rcParams['figure.dpi'] = 200\n",
    "plt.style.use('ggplot')\n",
    "fig, ax = plt.subplots()\n",
    "\n",
    "\n",
    "my_scatter_plot = ax.scatter(\n",
    "df[\"Risk\"], #x values\n",
    "df[\"Return\"], # y values\n",
    "c = 'r',marker='o', s = 20\n",
    "    \n",
    "\n",
    ")\n",
    "\n",
    "ax.set_xlabel(\"Risk in %\", color= 'darkblue', fontsize=10, fontweight = 'bold')\n",
    "ax.set_ylabel(\"Return in %\",color= 'darkblue', fontsize=10,fontweight = 'bold')\n",
    "ax.set_title(\"Risk Return Relationship for All Stocks in the Index\",color= 'darkgreen', fontsize=16, fontweight='black')\n",
    "\n",
    "for _, row in df[[\"Names\",\"Risk\",\"Return\"]].iterrows():\n",
    "    xy = row[[\"Risk\", \"Return\"]]\n",
    "    xytext=  xy \n",
    "    ax.annotate(row[\"Names\"], xy, xytext, fontsize=8)\n",
    "\n",
    "#plt.savefig('enron.png')\n",
    "my_scatter_plot.figsize=(10,6)\n",
    "\n",
    "plt.show() #show the plot\n",
    "printmd(\" Top 10 Risk and return combination sorted for returns, from highest % to lowest %. \")\n",
    "df[[ \"Return\",\"Risk\",]].sort_values('Return', ascending=False).to_csv('all_index_stocks_risk_return.csv')\n",
    "df[[ \"Return\",\"Risk\",]].sort_values('Return', ascending=False).head(10)"
   ]
  },
  {
   "cell_type": "code",
   "execution_count": null,
   "metadata": {
    "scrolled": true
   },
   "outputs": [],
   "source": []
  }
 ],
 "metadata": {
  "kernelspec": {
   "display_name": "Python 3",
   "language": "python",
   "name": "python3"
  },
  "language_info": {
   "codemirror_mode": {
    "name": "ipython",
    "version": 3
   },
   "file_extension": ".py",
   "mimetype": "text/x-python",
   "name": "python",
   "nbconvert_exporter": "python",
   "pygments_lexer": "ipython3",
   "version": "3.7.7"
  }
 },
 "nbformat": 4,
 "nbformat_minor": 4
}
