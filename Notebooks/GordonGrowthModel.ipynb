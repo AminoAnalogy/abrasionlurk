{
 "cells": [
  {
   "cell_type": "code",
   "execution_count": 19,
   "metadata": {},
   "outputs": [
    {
     "name": "stdout",
     "output_type": "stream",
     "text": [
      "3.69444547927\n",
      "0.08747120445259032\n",
      "0.03626589576139294\n",
      "-78.46067483656891\n"
     ]
    },
    {
     "data": {
      "text/plain": [
       "-78.46067483656891"
      ]
     },
     "execution_count": 19,
     "metadata": {},
     "output_type": "execute_result"
    }
   ],
   "source": [
    "import requests\n",
    "demo = '31fa1a9122c9b0d18024b5eb2d9ef148'\n",
    "def valuecompany(quote):\n",
    "    #Latest dividend of the company\n",
    "    dividend = requests.get(f'https://financialmodelingprep.com/api/v3/financials/income-statement/{quote}?apikey={demo}')\n",
    "    dividend = dividend.json()\n",
    "    dividend = dividend['financials']\n",
    "    Dtoday = float(dividend[0]['Dividend per Share'])\n",
    "    print(Dtoday)\n",
    "    metrics = requests.get(f'https://financialmodelingprep.com/api/v3/company-key-metrics/{quote}?apikey={demo}')\n",
    "    metrics = metrics.json()\n",
    "\n",
    "    ROE = float(metrics['metrics'][0]['ROE'])\n",
    "    payout_ratio = float(metrics['metrics'][0]['Payout Ratio'])\n",
    "\n",
    "    sustgrwothrate = ROE*(1-payout_ratio)\n",
    "    print(sustgrwothrate)\n",
    "    \n",
    "    import pandas as pd\n",
    "    #if you get an error after executing the code, try adding below:\n",
    "    pd.core.common.is_list_like = pd.api.types.is_list_like\n",
    "\n",
    "    import pandas_datareader.data as web\n",
    "    import datetime\n",
    "\n",
    "    start = datetime.datetime(2019, 7, 1)\n",
    "    end = datetime.datetime(2020, 7, 1)\n",
    "\n",
    "    Treasury = web.DataReader(['TB1YR'], 'fred', start, end)\n",
    "    RF = float(Treasury.iloc[-1])\n",
    "    RF = RF/100\n",
    "     #Beta\n",
    "    beta = requests.get(f'https://financialmodelingprep.com/api/v3/company/profile/{quote}?apikey={demo}')\n",
    "    beta = beta.json()\n",
    "    beta = float(beta['profile']['beta'])\n",
    "    \n",
    "    #Market Return\n",
    "    start = datetime.datetime(2019, 7, 1)\n",
    "    end = datetime.datetime(2020, 7, 1)\n",
    "\n",
    "    SP500 = web.DataReader(['sp500'], 'fred', start, end)\n",
    "    #Drop all Not a number values using drop method.\n",
    "    SP500.dropna(inplace = True)\n",
    "\n",
    "    SP500yearlyreturn = (SP500['sp500'].iloc[-1]/ SP500['sp500'].iloc[0])-1\n",
    "   \n",
    "    ke = RF+(beta*(SP500yearlyreturn - RF))\n",
    "    print(ke)\n",
    "    \n",
    "    DDM = (Dtoday*(1+sustgrwothrate))/(ke-sustgrwothrate)\n",
    "    print(DDM)\n",
    "    return DDM\n",
    "\n",
    "\n",
    "valuecompany('JNJ')"
   ]
  },
  {
   "cell_type": "code",
   "execution_count": 20,
   "metadata": {},
   "outputs": [
    {
     "ename": "NameError",
     "evalue": "name 'ke' is not defined",
     "output_type": "error",
     "traceback": [
      "\u001b[0;31m---------------------------------------------------------------------------\u001b[0m",
      "\u001b[0;31mNameError\u001b[0m                                 Traceback (most recent call last)",
      "\u001b[0;32m<ipython-input-20-b988e34ad818>\u001b[0m in \u001b[0;36m<module>\u001b[0;34m\u001b[0m\n\u001b[0;32m----> 1\u001b[0;31m \u001b[0mke\u001b[0m\u001b[0;34m\u001b[0m\u001b[0;34m\u001b[0m\u001b[0m\n\u001b[0m",
      "\u001b[0;31mNameError\u001b[0m: name 'ke' is not defined"
     ]
    }
   ],
   "source": [
    "\n"
   ]
  },
  {
   "cell_type": "code",
   "execution_count": null,
   "metadata": {},
   "outputs": [],
   "source": []
  }
 ],
 "metadata": {
  "kernelspec": {
   "display_name": "Python 3",
   "language": "python",
   "name": "python3"
  },
  "language_info": {
   "codemirror_mode": {
    "name": "ipython",
    "version": 3
   },
   "file_extension": ".py",
   "mimetype": "text/x-python",
   "name": "python",
   "nbconvert_exporter": "python",
   "pygments_lexer": "ipython3",
   "version": "3.7.7"
  }
 },
 "nbformat": 4,
 "nbformat_minor": 4
}
