{
 "cells": [
  {
   "cell_type": "code",
   "execution_count": null,
   "metadata": {},
   "outputs": [],
   "source": [
    "import requests\n",
    "import pandas as pd\n",
    "\n",
    "demo = '31fa1a9122c9b0d18024b5eb2d9ef148'\n",
    "\n",
    "CF = requests.get(f'https://financialmodelingprep.com/api/v3/cash-flow-statement/AAPL?apikey={demo}').json()\n",
    "\n",
    "#Create an empty dictionary \n",
    "CF_3Y = {}\n",
    "IS = requests.get(f'https://financialmodelingprep.com/api/v3/income-statement/AAPL?apikey={demo}').json()"
   ]
  },
  {
   "cell_type": "code",
   "execution_count": null,
   "metadata": {},
   "outputs": [],
   "source": [
    "print(CF)"
   ]
  },
  {
   "cell_type": "code",
   "execution_count": null,
   "metadata": {},
   "outputs": [],
   "source": [
    "for item in CF:\n",
    "    if count < 3:\n",
    "        date = item['date']\n",
    "        CF_3Y[date] = item\n",
    "        #we add revenue as well to the dictionary since we need it to calculate the common-size cash flow\n",
    "        CF_3Y[date]['Revenue'] = IS[count]['revenue']\n",
    "        count += 1\n",
    "print(CF_3Y)"
   ]
  },
  {
   "cell_type": "code",
   "execution_count": null,
   "metadata": {},
   "outputs": [],
   "source": [
    "CF_Common_Size = pd.DataFrame.from_dict(CF_3Y, orient='index')\n",
    "CF_Common_Size = CF_Common_Size.T\n",
    "print(CF_Common_Size)"
   ]
  },
  {
   "cell_type": "code",
   "execution_count": null,
   "metadata": {},
   "outputs": [],
   "source": [
    "Revenue = CF_Common_Size.iloc[-1]"
   ]
  },
  {
   "cell_type": "code",
   "execution_count": null,
   "metadata": {},
   "outputs": [],
   "source": [
    "CF_Common_Size = CF_Common_Size.iloc[5:-3,:]"
   ]
  },
  {
   "cell_type": "code",
   "execution_count": null,
   "metadata": {},
   "outputs": [],
   "source": [
    "CF_Common_Size = (CF_Common_Size/Revenue) * 100\n",
    "\n",
    "#show as percentage:\n",
    "pd.options.display.float_format = '{:.2f}%'.format\n",
    "print(CF_Common_Size)"
   ]
  },
  {
   "cell_type": "code",
   "execution_count": null,
   "metadata": {},
   "outputs": [],
   "source": []
  }
 ],
 "metadata": {
  "kernelspec": {
   "display_name": "Python 3",
   "language": "python",
   "name": "python3"
  },
  "language_info": {
   "codemirror_mode": {
    "name": "ipython",
    "version": 3
   },
   "file_extension": ".py",
   "mimetype": "text/x-python",
   "name": "python",
   "nbconvert_exporter": "python",
   "pygments_lexer": "ipython3",
   "version": "3.7.7"
  }
 },
 "nbformat": 4,
 "nbformat_minor": 4
}
