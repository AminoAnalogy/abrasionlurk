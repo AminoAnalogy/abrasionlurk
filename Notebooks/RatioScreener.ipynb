{
 "cells": [
  {
   "cell_type": "code",
   "execution_count": 1,
   "metadata": {},
   "outputs": [],
   "source": [
    "import requests\n",
    "import pandas as pd\n",
    "\n",
    "companies = []\n",
    "demo = '31fa1a9122c9b0d18024b5eb2d9ef148'\n",
    "exchange = 'nyse'\n",
    "\n",
    "'''marketCapMoreThan & marketCapLowerThan : Number\n",
    "betaMoreThan & betaLowerThan : Number\n",
    "volumeMoreThan & volumeLowerThan : Number\n",
    "dividendMoreThan & dividendLowerThan : Number\n",
    "sector : Consumer Cyclical - Energy - Technology - Industrials - Financial Services - Basic Materials - Communication Services - Consumer Defensive - Healthcare - Real Estate - Utilities - Industrial Goods - Financial - Services - Conglomerates\n",
    "Industry : Autos - Banks - Banks Diversified - Software - Banks Regional - Beverages Alcoholic - Beverages Brewers - Beverages Non-Alcoholic\n",
    "exchange : nyse - nasdaq - amex - euronex - tsx - etf - mutual_fund\n",
    "limit : Number'''\n",
    "\n",
    "marketcap = str(1000000000)\n",
    "\n",
    "url = (f'https://financialmodelingprep.com/api/v3/stock-screener?marketCapMoreThan={marketcap}&betaMoreThan=1&volumeMoreThan=10000&sector=Technology&exchange={exchange}&dividendMoreThan=0&limit=1000&apikey={demo}')\n",
    "\n",
    "#get companies based on criteria defined about\n",
    "screener = requests.get(url).json()\n"
   ]
  },
  {
   "cell_type": "code",
   "execution_count": 2,
   "metadata": {},
   "outputs": [
    {
     "name": "stdout",
     "output_type": "stream",
     "text": [
      "[{'symbol': 'SAP', 'companyName': 'SAP SE ADS', 'marketCap': 191639192000, 'sector': 'Technology', 'industry': 'Software Application', 'beta': 1.092518, 'price': 159.69, 'lastAnnualDividend': 1.712, 'volume': 738585, 'exchange': 'New York Stock Exchange', 'exchangeShortName': 'NYSE'}, {'symbol': 'CRM', 'companyName': 'Salesforce.com Inc', 'marketCap': 174217363000, 'sector': 'Technology', 'industry': 'Application Software', 'beta': 1.214285, 'price': 193.36, 'lastAnnualDividend': 0, 'volume': 5811904, 'exchange': 'New York Stock Exchange', 'exchangeShortName': 'NYSE'}, {'symbol': 'ORCL', 'companyName': 'Oracle Corporation', 'marketCap': 166061621000, 'sector': 'Technology', 'industry': 'Software Infrastructure', 'beta': 1.145868, 'price': 54.115, 'lastAnnualDividend': 0.96, 'volume': 12913125, 'exchange': 'New York Stock Exchange', 'exchangeShortName': 'NYSE'}, {'symbol': 'ACN', 'companyName': 'Accenture plc Class A (Ireland)', 'marketCap': 146927305000, 'sector': 'Technology', 'industry': 'Information Technology Services', 'beta': 1.036256, 'price': 230.62, 'lastAnnualDividend': 3.2, 'volume': 2032637, 'exchange': 'New York Stock Exchange', 'exchangeShortName': 'NYSE'}, {'symbol': 'SHOP', 'companyName': 'Shopify Inc. Class A Subordinate', 'marketCap': 118246638000, 'sector': 'Technology', 'industry': 'Software Application', 'beta': 1.168724, 'price': 985.52, 'lastAnnualDividend': 0, 'volume': 2881851, 'exchange': 'New York Stock Exchange', 'exchangeShortName': 'NYSE'}, {'symbol': 'IBM', 'companyName': 'International Business Machines Corporation', 'marketCap': 111461040000, 'sector': 'Technology', 'industry': 'Application Software', 'beta': 1.344013, 'price': 125.156, 'lastAnnualDividend': 6.5, 'volume': 5017960, 'exchange': 'New York Stock Exchange', 'exchangeShortName': 'NYSE'}, {'symbol': 'SNE', 'companyName': 'Sony Corporation', 'marketCap': 99834192000, 'sector': 'Technology', 'industry': 'Consumer Electronics', 'beta': 1.548672, 'price': 82.9801, 'lastAnnualDividend': 0.41142599999999996, 'volume': 1245903, 'exchange': 'New York Stock Exchange', 'exchangeShortName': 'NYSE'}, {'symbol': 'NOW', 'companyName': 'ServiceNow Inc.', 'marketCap': 83461767000, 'sector': 'Technology', 'industry': 'Software Application', 'beta': 1.353288, 'price': 435.15, 'lastAnnualDividend': 0, 'volume': 1741090, 'exchange': 'New York Stock Exchange', 'exchangeShortName': 'NYSE'}, {'symbol': 'SQ', 'companyName': 'Square Inc. Class A', 'marketCap': 62591234000, 'sector': 'Technology', 'industry': 'Software Infrastructure', 'beta': 3.362147, 'price': 141.12, 'lastAnnualDividend': 0, 'volume': 13553204, 'exchange': 'New York Stock Exchange', 'exchangeShortName': 'NYSE'}, {'symbol': 'VMW', 'companyName': 'Vmware Inc. Class A', 'marketCap': 56705847000, 'sector': 'Technology', 'industry': 'Software Infrastructure', 'beta': 1.107082, 'price': 135.32, 'lastAnnualDividend': 0, 'volume': 1452128, 'exchange': 'New York Stock Exchange', 'exchangeShortName': 'NYSE'}, {'symbol': 'ABB', 'companyName': 'ABB Ltd', 'marketCap': 55778447000, 'sector': 'Technology', 'industry': 'Computer Hardware', 'beta': 1.175382, 'price': 26.1749, 'lastAnnualDividend': 1.5710000000000002, 'volume': 2205484, 'exchange': 'New York Stock Exchange', 'exchangeShortName': 'NYSE'}, {'symbol': 'APH', 'companyName': 'Amphenol Corporation', 'marketCap': 32797597700, 'sector': 'Technology', 'industry': 'Electronic Components', 'beta': 1.033726, 'price': 109.92, 'lastAnnualDividend': 1.23, 'volume': 1530882, 'exchange': 'New York Stock Exchange', 'exchangeShortName': 'NYSE'}, {'symbol': 'TEL', 'companyName': 'TE Connectivity Ltd. New Switzerland Registered Shares', 'marketCap': 31353612300, 'sector': 'Technology', 'industry': 'Electronic Components', 'beta': 1.139123, 'price': 95, 'lastAnnualDividend': 1.8599999999999999, 'volume': 1909146, 'exchange': 'New York Stock Exchange', 'exchangeShortName': 'NYSE'}, {'symbol': 'STM', 'companyName': 'STMicroelectronics N.V.', 'marketCap': 26215424000, 'sector': 'Technology', 'industry': 'Semiconductors', 'beta': 1.228479, 'price': 29.16, 'lastAnnualDividend': 0.222, 'volume': 2444628, 'exchange': 'New York Stock Exchange', 'exchangeShortName': 'NYSE'}, {'symbol': 'HPQ', 'companyName': 'HP Inc.', 'marketCap': 26046720000, 'sector': 'Technology', 'industry': 'Computer Hardware', 'beta': 1.503372, 'price': 18.215, 'lastAnnualDividend': 0.6880000000000001, 'volume': 14605645, 'exchange': 'New York Stock Exchange', 'exchangeShortName': 'NYSE'}, {'symbol': 'FTV', 'companyName': 'Fortive Corporation', 'marketCap': 24865726500, 'sector': 'Technology', 'industry': 'Scientific & Technical Instruments', 'beta': 1.240942, 'price': 73.77, 'lastAnnualDividend': 0.28, 'volume': 2431537, 'exchange': 'New York Stock Exchange', 'exchangeShortName': 'NYSE'}, {'symbol': 'GLW', 'companyName': 'Corning Incorporated', 'marketCap': 24628219900, 'sector': 'Technology', 'industry': 'Electronic Components', 'beta': 1.155143, 'price': 32.33, 'lastAnnualDividend': 0.8400000000000001, 'volume': 5900100, 'exchange': 'New York Stock Exchange', 'exchangeShortName': 'NYSE'}, {'symbol': 'HRS', 'companyName': 'Harris Corporation', 'marketCap': 23377129522.03, 'sector': 'Technology', 'industry': 'Communication Equipment', 'beta': 1.239064, 'price': 196.9, 'lastAnnualDividend': 2.74, 'volume': 776632, 'exchange': 'New York Stock Exchange', 'exchangeShortName': 'NYSE'}, {'symbol': 'TSS', 'companyName': 'Total System Services Inc.', 'marketCap': 22781465984.29, 'sector': 'Technology', 'industry': 'Application Software', 'beta': 1.117866, 'price': 124.87, 'lastAnnualDividend': 0.52, 'volume': 1194940, 'exchange': 'New York Stock Exchange', 'exchangeShortName': 'NYSE'}, {'symbol': 'FLT', 'companyName': 'FleetCor Technologies Inc.', 'marketCap': 20131270700, 'sector': 'Technology', 'industry': 'Information Technology Services', 'beta': 1.113827, 'price': 239.51, 'lastAnnualDividend': 0, 'volume': 755218, 'exchange': 'New York Stock Exchange', 'exchangeShortName': 'NYSE'}, {'symbol': 'KEYS', 'companyName': 'Keysight Technologies Inc.', 'marketCap': 19261069300, 'sector': 'Technology', 'industry': 'Scientific & Technical Instruments', 'beta': 1.256323, 'price': 102.98, 'lastAnnualDividend': 0, 'volume': 1822667, 'exchange': 'New York Stock Exchange', 'exchangeShortName': 'NYSE'}, {'symbol': 'PAYC', 'companyName': 'Paycom Software Inc.', 'marketCap': 17918677000, 'sector': 'Technology', 'industry': 'Software Application', 'beta': 1.288364, 'price': 306.13, 'lastAnnualDividend': 0, 'volume': 657910, 'exchange': 'New York Stock Exchange', 'exchangeShortName': 'NYSE'}, {'symbol': 'EPAM', 'companyName': 'EPAM Systems Inc.', 'marketCap': 17211537400, 'sector': 'Technology', 'industry': 'Information Technology Services', 'beta': 1.478077, 'price': 308.16, 'lastAnnualDividend': 0, 'volume': 347195, 'exchange': 'New York Stock Exchange', 'exchangeShortName': 'NYSE'}, {'symbol': 'ANET', 'companyName': 'Arista Networks Inc.', 'marketCap': 16193453100, 'sector': 'Technology', 'industry': 'Computer Hardware', 'beta': 1.48145, 'price': 213, 'lastAnnualDividend': 0, 'volume': 691239, 'exchange': 'New York Stock Exchange', 'exchangeShortName': 'NYSE'}, {'symbol': 'DVMT', 'companyName': 'Dell Technologies Inc. Class V', 'marketCap': 16193310000, 'sector': 'Technology', 'industry': 'Application Software', 'beta': 1.277837, 'price': 79.77, 'lastAnnualDividend': 0, 'volume': 1680617, 'exchange': 'New York Stock Exchange', 'exchangeShortName': 'NYSE'}, {'symbol': 'LDOS', 'companyName': 'Leidos Holdings Inc.', 'marketCap': 13460084700, 'sector': 'Technology', 'industry': 'Information Technology Services', 'beta': 1.530354, 'price': 94.66, 'lastAnnualDividend': 1.36, 'volume': 1083564, 'exchange': 'New York Stock Exchange', 'exchangeShortName': 'NYSE'}, {'symbol': 'PAGS', 'companyName': 'PagSeguro Digital Ltd. Class A', 'marketCap': 13081845800, 'sector': 'Technology', 'industry': 'Application Software', 'beta': 1.097621, 'price': 39.89, 'lastAnnualDividend': 0, 'volume': 1918546, 'exchange': 'New York Stock Exchange', 'exchangeShortName': 'NYSE'}, {'symbol': 'HUBS', 'companyName': 'HubSpot Inc.', 'marketCap': 12615331800, 'sector': 'Technology', 'industry': 'Software Application', 'beta': 1.581787, 'price': 276.87, 'lastAnnualDividend': 0, 'volume': 580296, 'exchange': 'New York Stock Exchange', 'exchangeShortName': 'NYSE'}, {'symbol': 'FICO', 'companyName': 'Fair Isaac Corproation', 'marketCap': 12536876000, 'sector': 'Technology', 'industry': 'Software Application', 'beta': 1.172849, 'price': 432.315, 'lastAnnualDividend': 0, 'volume': 265418, 'exchange': 'New York Stock Exchange', 'exchangeShortName': 'NYSE'}, {'symbol': 'HPE', 'companyName': 'Hewlett Packard Enterprise Company', 'marketCap': 12455748600, 'sector': 'Technology', 'industry': 'Communication Equipment', 'beta': 1.52739, 'price': 9.695, 'lastAnnualDividend': 0.473, 'volume': 12236106, 'exchange': 'New York Stock Exchange', 'exchangeShortName': 'NYSE'}, {'symbol': 'TDY', 'companyName': 'Teledyne Technologies Incorporated', 'marketCap': 12260766700, 'sector': 'Technology', 'industry': 'Scientific & Technical Instruments', 'beta': 1.074198, 'price': 332.6, 'lastAnnualDividend': 0, 'volume': 369165, 'exchange': 'New York Stock Exchange', 'exchangeShortName': 'NYSE'}, {'symbol': 'UI', 'companyName': 'Ubiquiti Inc.', 'marketCap': 11829340200, 'sector': 'Technology', 'industry': 'Communication Equipment', 'beta': 1.485666, 'price': 185.75, 'lastAnnualDividend': 1.2, 'volume': 96387, 'exchange': 'NYSE', 'exchangeShortName': 'NYSE'}, {'symbol': 'IT', 'companyName': 'Gartner Inc.', 'marketCap': 11598007300, 'sector': 'Technology', 'industry': 'Information Technology Services', 'beta': 1.222596, 'price': 129.975, 'lastAnnualDividend': 0, 'volume': 498992, 'exchange': 'New York Stock Exchange', 'exchangeShortName': 'NYSE'}, {'symbol': 'ZEN', 'companyName': 'Zendesk Inc.', 'marketCap': 10087077900, 'sector': 'Technology', 'industry': 'Software Application', 'beta': 1.232715, 'price': 87.39, 'lastAnnualDividend': 0, 'volume': 2150298, 'exchange': 'New York Stock Exchange', 'exchangeShortName': 'NYSE'}, {'symbol': 'DATA', 'companyName': 'Tableau Software Inc. Class A', 'marketCap': 9938976960, 'sector': 'Technology', 'industry': 'Application Software', 'beta': 1.221127, 'price': 120.28, 'lastAnnualDividend': 0, 'volume': 743141, 'exchange': 'New York Stock Exchange', 'exchangeShortName': 'NYSE'}, {'symbol': 'ASX', 'companyName': 'Advanced Semiconductor Engineering Inc.', 'marketCap': 9775152100, 'sector': 'Technology', 'industry': 'Semiconductors', 'beta': 1.233357, 'price': 4.53, 'lastAnnualDividend': 0.159526, 'volume': 1183321, 'exchange': 'New York Stock Exchange', 'exchangeShortName': 'NYSE'}, {'symbol': 'GWRE', 'companyName': 'Guidewire Software Inc.', 'marketCap': 9226325000, 'sector': 'Technology', 'industry': 'Application Software', 'beta': 1.179595, 'price': 110.92, 'lastAnnualDividend': 0, 'volume': 552875, 'exchange': 'New York Stock Exchange', 'exchangeShortName': 'NYSE'}, {'symbol': 'CIEN', 'companyName': 'Ciena Corporation', 'marketCap': 9135902700, 'sector': 'Technology', 'industry': 'Communication Equipment', 'beta': 1.080101, 'price': 59.4615, 'lastAnnualDividend': 0, 'volume': 1879740, 'exchange': 'New York Stock Exchange', 'exchangeShortName': 'NYSE'}, {'symbol': 'AYX', 'companyName': 'Alteryx Inc. Class A', 'marketCap': 7215213100, 'sector': 'Technology', 'industry': 'Software Application', 'beta': 1.05787, 'price': 109.03, 'lastAnnualDividend': 0, 'volume': 1889520, 'exchange': 'New York Stock Exchange', 'exchangeShortName': 'NYSE'}, {'symbol': 'WEX', 'companyName': 'WEX Inc.', 'marketCap': 7112066000, 'sector': 'Technology', 'industry': 'Software Infrastructure', 'beta': 1.539629, 'price': 161.29, 'lastAnnualDividend': 0, 'volume': 543290, 'exchange': 'New York Stock Exchange', 'exchangeShortName': 'NYSE'}, {'symbol': 'GDI', 'companyName': 'Gardner Denver Holdings Inc.', 'marketCap': 6728901600, 'sector': 'Technology', 'industry': 'Computer Hardware', 'beta': 1.465654, 'price': 32.79, 'lastAnnualDividend': 0, 'volume': 3108957, 'exchange': 'New York Stock Exchange', 'exchangeShortName': 'NYSE'}, {'symbol': 'SNX', 'companyName': 'Synnex Corporation', 'marketCap': 6541629400, 'sector': 'Technology', 'industry': 'Information Technology Services', 'beta': 1.012647, 'price': 127.035, 'lastAnnualDividend': 1.525, 'volume': 429037, 'exchange': 'New York Stock Exchange', 'exchangeShortName': 'NYSE'}, {'symbol': 'ST', 'companyName': 'Sensata Technologies Holding N.V.', 'marketCap': 6494469100, 'sector': 'Technology', 'industry': 'Scientific & Technical Instruments', 'beta': 1.401349, 'price': 41.31, 'lastAnnualDividend': 0, 'volume': 1383300, 'exchange': 'New York Stock Exchange', 'exchangeShortName': 'NYSE'}, {'symbol': 'ARW', 'companyName': 'Arrow Electronics Inc.', 'marketCap': 5915931100, 'sector': 'Technology', 'industry': 'Electronics & Computer Distribution', 'beta': 1.349915, 'price': 76.21, 'lastAnnualDividend': 0, 'volume': 599673, 'exchange': 'New York Stock Exchange', 'exchangeShortName': 'NYSE'}, {'symbol': 'IPHI', 'companyName': 'Inphi Corporation $0.001 par value', 'marketCap': 5894585900, 'sector': 'Technology', 'industry': 'Semiconductors', 'beta': 1.603709, 'price': 113.51, 'lastAnnualDividend': 0, 'volume': 1258684, 'exchange': 'New York Stock Exchange', 'exchangeShortName': 'NYSE'}, {'symbol': 'CACI', 'companyName': 'CACI International Inc. Class A', 'marketCap': 5733724700, 'sector': 'Technology', 'industry': 'Information Technology Services', 'beta': 1.266441, 'price': 228.56, 'lastAnnualDividend': 0, 'volume': 211821, 'exchange': 'New York Stock Exchange', 'exchangeShortName': 'NYSE'}, {'symbol': 'DXC', 'companyName': 'DXC Technology Company', 'marketCap': 5228816900, 'sector': 'Technology', 'industry': 'Information Technology Services', 'beta': 2.09865, 'price': 20.5701, 'lastAnnualDividend': 0.84, 'volume': 4740810, 'exchange': 'New York Stock Exchange', 'exchangeShortName': 'NYSE'}, {'symbol': 'DST', 'companyName': 'DST Systems Inc.', 'marketCap': 5208000000, 'sector': 'Technology', 'industry': 'Application Software', 'beta': 1.526287, 'price': 84, 'lastAnnualDividend': 0.72, 'volume': 755071, 'exchange': 'New York Stock Exchange', 'exchangeShortName': 'NYSE'}, {'symbol': 'QTWO', 'companyName': 'Q2 Holdings Inc.', 'marketCap': 5180208600, 'sector': 'Technology', 'industry': 'Software Application', 'beta': 1.230185, 'price': 96.86, 'lastAnnualDividend': 0, 'volume': 516510, 'exchange': 'New York Stock Exchange', 'exchangeShortName': 'NYSE'}, {'symbol': 'SAIC', 'companyName': 'SCIENCE APPLICATIONS INTERNATIONAL CORPORATION', 'marketCap': 5040387600, 'sector': 'Technology', 'industry': 'Information Technology Services', 'beta': 1.279089, 'price': 86.725, 'lastAnnualDividend': 1.48, 'volume': 734351, 'exchange': 'New York Stock Exchange', 'exchangeShortName': 'NYSE'}, {'symbol': 'ENV', 'companyName': 'Envestnet Inc', 'marketCap': 4572813300, 'sector': 'Technology', 'industry': 'Software Application', 'beta': 1.763912, 'price': 85.04, 'lastAnnualDividend': 0, 'volume': 333609, 'exchange': 'New York Stock Exchange', 'exchangeShortName': 'NYSE'}, {'symbol': 'PSTG', 'companyName': 'Pure Storage Inc. Class A', 'marketCap': 4212524800, 'sector': 'Technology', 'industry': 'Computer Hardware', 'beta': 1.662952, 'price': 15.895, 'lastAnnualDividend': 0, 'volume': 3168350, 'exchange': 'New York Stock Exchange', 'exchangeShortName': 'NYSE'}, {'symbol': 'XRX', 'companyName': 'Xerox Corporation', 'marketCap': 3780721410, 'sector': 'Technology', 'industry': 'Information Technology Services', 'beta': 1.794266, 'price': 17.7487, 'lastAnnualDividend': 1, 'volume': 4299025, 'exchange': 'New York Stock Exchange', 'exchangeShortName': 'NYSE'}, {'symbol': 'ELLI', 'companyName': 'Ellie Mae Inc.', 'marketCap': 3563820000, 'sector': 'Technology', 'industry': 'Application Software', 'beta': 1.371686, 'price': 99, 'lastAnnualDividend': 0, 'volume': 430333, 'exchange': 'New York Stock Exchange', 'exchangeShortName': 'NYSE'}, {'symbol': 'RAMP', 'companyName': 'LiveRamp Holdings, Inc.', 'marketCap': 3376221950, 'sector': 'Technology', 'industry': 'Information Technology Services', 'beta': 1.49494, 'price': 51.25, 'lastAnnualDividend': 0, 'volume': 838603, 'exchange': 'NYSE', 'exchangeShortName': 'NYSE'}, {'symbol': 'SAIL', 'companyName': 'SailPoint Technologies Holdings Inc.', 'marketCap': 3327092990, 'sector': 'Technology', 'industry': 'Software Infrastructure', 'beta': 2.140578, 'price': 36.69, 'lastAnnualDividend': 0, 'volume': 1513440, 'exchange': 'New York Stock Exchange', 'exchangeShortName': 'NYSE'}, {'symbol': 'NCR', 'companyName': 'NCR Corporation', 'marketCap': 2738771970, 'sector': 'Technology', 'industry': 'Information Technology Services', 'beta': 1.63575, 'price': 21.33, 'lastAnnualDividend': 0, 'volume': 1361104, 'exchange': 'New York Stock Exchange', 'exchangeShortName': 'NYSE'}, {'symbol': 'FN', 'companyName': 'Fabrinet', 'marketCap': 2689152260, 'sector': 'Technology', 'industry': 'Electronic Components', 'beta': 1.063237, 'price': 73.23, 'lastAnnualDividend': 0, 'volume': 278684, 'exchange': 'New York Stock Exchange', 'exchangeShortName': 'NYSE'}, {'symbol': 'BB', 'companyName': 'BlackBerry Limited', 'marketCap': 2639578110, 'sector': 'Technology', 'industry': 'Software Infrastructure', 'beta': 1.430769, 'price': 4.7558, 'lastAnnualDividend': 0, 'volume': 4462390, 'exchange': 'New York Stock Exchange', 'exchangeShortName': 'NYSE'}, {'symbol': 'BOX', 'companyName': 'Box Inc. Class A', 'marketCap': 2616373500, 'sector': 'Technology', 'industry': 'Software Infrastructure', 'beta': 1.414055, 'price': 17.05, 'lastAnnualDividend': 0, 'volume': 2642409, 'exchange': 'New York Stock Exchange', 'exchangeShortName': 'NYSE'}, {'symbol': 'TDC', 'companyName': 'Teradata Corporation', 'marketCap': 2611095040, 'sector': 'Technology', 'industry': 'Information Technology Services', 'beta': 1.11973, 'price': 23.955, 'lastAnnualDividend': 0, 'volume': 1355654, 'exchange': 'New York Stock Exchange', 'exchangeShortName': 'NYSE'}, {'symbol': 'VSH', 'companyName': 'Vishay Intertechnology Inc.', 'marketCap': 2489564160, 'sector': 'Technology', 'industry': 'Semiconductors', 'beta': 1.548903, 'price': 17.21, 'lastAnnualDividend': 0.38, 'volume': 1247264, 'exchange': 'New York Stock Exchange', 'exchangeShortName': 'NYSE'}, {'symbol': 'ESE', 'companyName': 'ESCO Technologies Inc.', 'marketCap': 2355370240, 'sector': 'Technology', 'industry': 'Scientific & Technical Instruments', 'beta': 1.112984, 'price': 90.46, 'lastAnnualDividend': 0.32, 'volume': 92023, 'exchange': 'New York Stock Exchange', 'exchangeShortName': 'NYSE'}, {'symbol': 'ROG', 'companyName': 'Rogers Corporation', 'marketCap': 2287476220, 'sector': 'Technology', 'industry': 'Electronic Components', 'beta': 2.125632, 'price': 122.49, 'lastAnnualDividend': 0, 'volume': 123085, 'exchange': 'New York Stock Exchange', 'exchangeShortName': 'NYSE'}, {'symbol': 'LXFT', 'companyName': 'Luxoft Holding Inc. Class A', 'marketCap': 1991681099.78, 'sector': 'Technology', 'industry': 'Application Software', 'beta': 2.418053, 'price': 58.16, 'lastAnnualDividend': 0, 'volume': 400653, 'exchange': 'New York Stock Exchange', 'exchangeShortName': 'NYSE'}, {'symbol': 'YEXT', 'companyName': 'Yext Inc.', 'marketCap': 1989518590, 'sector': 'Technology', 'industry': 'Software Infrastructure', 'beta': 1.280269, 'price': 16.9, 'lastAnnualDividend': 0, 'volume': 1142735, 'exchange': 'New York Stock Exchange', 'exchangeShortName': 'NYSE'}, {'symbol': 'MXL', 'companyName': 'MaxLinear Inc.', 'marketCap': 1898812030, 'sector': 'Technology', 'industry': 'Semiconductors', 'beta': 1.230185, 'price': 25.97, 'lastAnnualDividend': 0, 'volume': 690534, 'exchange': 'New York Stock Exchange', 'exchangeShortName': 'NYSE'}, {'symbol': 'FIT', 'companyName': 'Fitbit Inc. Class A', 'marketCap': 1708720640, 'sector': 'Technology', 'industry': 'Scientific & Technical Instruments', 'beta': 1.76167, 'price': 6.335, 'lastAnnualDividend': 0, 'volume': 6581393, 'exchange': 'New York Stock Exchange', 'exchangeShortName': 'NYSE'}, {'symbol': 'PRO', 'companyName': 'PROS Holdings Inc.', 'marketCap': 1655272960, 'sector': 'Technology', 'industry': 'Software Application', 'beta': 1.126475, 'price': 38.19, 'lastAnnualDividend': 0, 'volume': 371810, 'exchange': 'New York Stock Exchange', 'exchangeShortName': 'NYSE'}, {'symbol': 'KEM', 'companyName': 'KEMET Corporation', 'marketCap': 1592013570, 'sector': 'Technology', 'industry': 'Electronic Components', 'beta': 2.673693, 'price': 27.21, 'lastAnnualDividend': 0.2, 'volume': 829522, 'exchange': 'New York Stock Exchange', 'exchangeShortName': 'NYSE'}, {'symbol': 'DQ', 'companyName': 'DAQO New Energy Corp. American Depositary Shares each representing five', 'marketCap': 1541849860, 'sector': 'Technology', 'industry': 'Semiconductor Equipment & Materials', 'beta': 1.655986, 'price': 110.95, 'lastAnnualDividend': 0, 'volume': 305510, 'exchange': 'New York Stock Exchange', 'exchangeShortName': 'NYSE'}, {'symbol': 'BGC', 'companyName': 'General Cable Corporation', 'marketCap': 1500000000, 'sector': 'Technology', 'industry': 'Computer Hardware', 'beta': 2.535664, 'price': 30, 'lastAnnualDividend': 0.72, 'volume': 995939, 'exchange': 'New York Stock Exchange', 'exchangeShortName': 'NYSE'}, {'symbol': 'KN', 'companyName': 'Knowles Corporation', 'marketCap': 1436932480, 'sector': 'Technology', 'industry': 'Communication Equipment', 'beta': 1.250421, 'price': 15.68, 'lastAnnualDividend': 0, 'volume': 718667, 'exchange': 'New York Stock Exchange', 'exchangeShortName': 'NYSE'}, {'symbol': 'MFGP', 'companyName': 'Micro Focus Intl PLC ADS each representing One Ord Sh', 'marketCap': 1375706240, 'sector': 'Technology', 'industry': 'Software Infrastructure', 'beta': 1.098149, 'price': 4.135, 'lastAnnualDividend': 6.399886, 'volume': 1505337, 'exchange': 'New York Stock Exchange', 'exchangeShortName': 'NYSE'}, {'symbol': 'AVYA', 'companyName': 'Avaya Holdings Corp.', 'marketCap': 1341754240, 'sector': 'Technology', 'industry': 'Software Application', 'beta': 1.706681, 'price': 16.17, 'lastAnnualDividend': 0, 'volume': 1800615, 'exchange': 'New York Stock Exchange', 'exchangeShortName': 'NYSE'}, {'symbol': 'MEI', 'companyName': 'Methode Electronics Inc.', 'marketCap': 1193069180, 'sector': 'Technology', 'industry': 'Electronic Components', 'beta': 1.472175, 'price': 31.79, 'lastAnnualDividend': 0.44, 'volume': 244693, 'exchange': 'New York Stock Exchange', 'exchangeShortName': 'NYSE'}]\n"
     ]
    }
   ],
   "source": [
    "print(screener)"
   ]
  },
  {
   "cell_type": "code",
   "execution_count": 3,
   "metadata": {},
   "outputs": [
    {
     "name": "stdout",
     "output_type": "stream",
     "text": [
      "{'SAP': {'ROE': None, 'ROA': 0.0, 'Debt_Ratio': 0.4391835466392185, 'Interest_Coverage': None, 'Payout_Ratio': None, 'Dividend_Payout_Ratio': None, 'PB': None, 'PS': None, 'PE': None, 'Dividend_Yield': None, 'Gross_Profit_Margin': 0.697992553019265, 'Revenue_Growth': -0.12398510902322284, 'NetIncome_Growth': 0.0, 'EPS_Growth': -0.15136476426799014, 'RD_Growth': -0.10074441687344914}, 'CRM': {'ROE': 0.0037184594953519256, 'ROA': 0.0022856728222617278, 'Debt_Ratio': 0.38531727315604253, 'Interest_Coverage': None, 'Payout_Ratio': 0.0, 'Dividend_Payout_Ratio': None, 'PB': 4.274457724656927, 'PS': 8.471166218271142, 'PE': 1149.5238095238096, 'Dividend_Yield': None, 'Gross_Profit_Margin': 0.752310211720669, 'Revenue_Growth': 0.20787531998193043, 'NetIncome_Growth': -0.8864864864864865, 'EPS_Growth': -0.8986486486486487, 'RD_Growth': 0.46659597030752914}, 'ORCL': {'ROE': 0.8394069902269339, 'ROA': 0.08779604636254959, 'Debt_Ratio': 0.895407058334344, 'Interest_Coverage': 6.046616541353384, 'Payout_Ratio': 0.302910705476073, 'Dividend_Payout_Ratio': 0.302910705476073, 'PB': 15.07863011429518, 'PS': 4.660063990990069, 'PE': 17.9634316724223, 'Dividend_Yield': 0.01686263020339847, 'Gross_Profit_Margin': 0.7968158083341865, 'Revenue_Growth': -0.011086923505290336, 'NetIncome_Growth': -0.08553640710998828, 'EPS_Growth': 0.03606557377049191, 'RD_Growth': 0.006803849983405244}, 'ACN': {'ROE': 0.3316752964534408, 'ROA': 0.1604273666090632, 'Debt_Ratio': 0.5163119824584724, 'Interest_Coverage': 272.25523668510215, 'Payout_Ratio': 0.3895545867098323, 'Dividend_Payout_Ratio': 0.3895545867098323, 'PB': 8.679772177550321, 'PS': 2.8940615323776484, 'PE': 26.169486453654986, 'Dividend_Yield': 0.014885832299373408, 'Gross_Profit_Margin': 0.30810329734252306, 'Revenue_Growth': 0.03873683197451902, 'NetIncome_Growth': 0.17714814649695176, 'EPS_Growth': 0.15944272445820437, 'RD_Growth': 0.011324276441331901}, 'SHOP': {'ROE': -0.041396887125986576, 'ROA': -0.03577668758000836, 'Debt_Ratio': 0.13576382032962514, 'Interest_Coverage': None, 'Payout_Ratio': 0.0, 'Dividend_Payout_Ratio': None, 'PB': 17.872942099535305, 'PS': 34.153441460220144, 'PE': -431.7460403518047, 'Dividend_Yield': None, 'Gross_Profit_Margin': 0.548509574045431, 'Revenue_Growth': 0.47049045450691324, 'NetIncome_Growth': 0.9339457500038728, 'EPS_Growth': 0.8081046599257583, 'RD_Growth': 0.5390334411333744}, 'IBM': {'ROE': 0.4525214720982678, 'ROA': 0.06197022065104543, 'Debt_Ratio': 0.8630557344302366, 'Interest_Coverage': 7.563988095238095, 'Payout_Ratio': 0.6051320114515958, 'Dividend_Payout_Ratio': 0.6051320114515958, 'PB': 5.859127968072549, 'PS': 1.5828235185114135, 'PE': 12.947734702852296, 'Dividend_Yield': 0.04673651610410966, 'Gross_Profit_Margin': 0.47296719250262487, 'Revenue_Growth': -0.030706989483735597, 'NetIncome_Growth': 0.08054537121906508, 'EPS_Growth': 0.11076280041797289, 'RD_Growth': 0.11340397843465329}, 'SNE': {'ROE': None, 'ROA': 0.008241618672815419, 'Debt_Ratio': 0.8800725459720318, 'Interest_Coverage': None, 'Payout_Ratio': 0.2237635136872969, 'Dividend_Payout_Ratio': None, 'PB': None, 'PS': None, 'PE': None, 'Dividend_Yield': None, 'Gross_Profit_Margin': 0.30232500914972027, 'Revenue_Growth': 0.009092527649287049, 'NetIncome_Growth': -0.08244835669671655, 'EPS_Growth': 0.0, 'RD_Growth': 0.0}, 'NOW': {'ROE': 0.29450910528064456, 'ROA': 0.1040606532579042, 'Debt_Ratio': 0.6466640542106757, 'Interest_Coverage': 2.0185980831054895, 'Payout_Ratio': 0.0, 'Dividend_Payout_Ratio': None, 'PB': 31.662213031282356, 'PS': 19.470177107689, 'PE': 107.50843509952162, 'Dividend_Yield': None, 'Gross_Profit_Margin': 0.769784856652498, 'Revenue_Growth': 0.32643965691716087, 'NetIncome_Growth': -24.468319352905933, 'EPS_Growth': -23.4, 'RD_Growth': 0.41334766128864725}, 'SQ': {'ROE': 0.21891256814670126, 'ROA': 0.0824927964971443, 'Debt_Ratio': 0.6231701213159087, 'Interest_Coverage': None, 'Payout_Ratio': 0.0, 'Dividend_Payout_Ratio': None, 'PB': 20.6806703011574, 'PS': 7.5248506629892855, 'PE': 94.46999994673001, 'Dividend_Yield': None, 'Gross_Profit_Margin': 0.4009090909090909, 'Revenue_Growth': -0.6872648132589609, 'NetIncome_Growth': -10.763763555509323, 'EPS_Growth': -10.777777777777779, 'RD_Growth': 0.3480086596620159}, 'VMW': {'ROE': 0.9148237979740333, 'ROA': 0.24385791435308435, 'Debt_Ratio': 0.7334372860728683, 'Interest_Coverage': 9.651006711409396, 'Payout_Ratio': 0.0, 'Dividend_Payout_Ratio': None, 'PB': 7.311930689113996, 'PS': 4.740479345111461, 'PE': 7.992720243293824, 'Dividend_Yield': None, 'Gross_Profit_Margin': 0.8335954120802886, 'Revenue_Growth': 0.20470247381323825, 'NetIncome_Growth': 1.6473988439306357, 'EPS_Growth': 1.5875420875420874, 'RD_Growth': 0.2769620253164557}, 'ABB': {'ROE': 0.11296761792104096, 'ROA': 0.03313958532141928, 'Debt_Ratio': 0.6967988201613603, 'Interest_Coverage': 8.66046511627907, 'Payout_Ratio': 1.0962041884816753, 'Dividend_Payout_Ratio': 1.0962041884816753, 'PB': 3.721632411651634, 'PS': 1.799227964829509, 'PE': 32.94424083769634, 'Dividend_Yield': 0.03327453177270813, 'Gross_Profit_Margin': 0.31832153835156196, 'Revenue_Growth': 0.011423613621574723, 'NetIncome_Growth': -0.33507397737162753, 'EPS_Growth': -0.3353857101529835, 'RD_Growth': 0.044463818657367045}, 'APH': {'ROE': 0.254950003311039, 'ROA': 0.10679117932596736, 'Debt_Ratio': 0.5811289353243031, 'Interest_Coverage': 12.720238095238095, 'Payout_Ratio': 0.24199134199134198, 'Dividend_Payout_Ratio': 0.24199134199134198, 'PB': 6.678451758161712, 'PS': 3.6782879859946025, 'PE': 26.19514285714286, 'Dividend_Yield': 0.009238023373686474, 'Gross_Profit_Margin': 0.3180392442920709, 'Revenue_Growth': 0.0028529626920263352, 'NetIncome_Growth': -0.04149377593360996, 'EPS_Growth': -0.030000000000000027, 'RD_Growth': 0.06020823902218198}, 'TEL': {'ROE': 0.17445600756859034, 'ROA': 0.09363257845028942, 'Debt_Ratio': 0.46328831116075964, 'Interest_Coverage': 28.397058823529413, 'Payout_Ratio': 0.3297180043383948, 'Dividend_Payout_Ratio': 0.32971800433839477, 'PB': 3.0268684957426677, 'PS': 2.3790898274836403, 'PE': 17.350325379609544, 'Dividend_Yield': 0.01900356316809402, 'Gross_Profit_Margin': 0.32674003569303983, 'Revenue_Growth': -0.0386045181584215, 'NetIncome_Growth': -0.28109161793372317, 'EPS_Growth': -0.2551159618008186, 'RD_Growth': -0.056105610561056105}, 'STM': {'ROE': 0.14667045293198921, 'ROA': 0.08704078193461409, 'Debt_Ratio': 0.4008257499157398, 'Interest_Coverage': -1189.0, 'Payout_Ratio': 0.20716360116166505, 'Dividend_Payout_Ratio': 0.20716360116166505, 'PB': 3.7611405689067157, 'PS': 2.7720503376737127, 'PE': 25.64347824473378, 'Dividend_Yield': 0.008078607713998733, 'Gross_Profit_Margin': 0.3867727082461281, 'Revenue_Growth': -0.011175496688741722, 'NetIncome_Growth': -0.20108275328692962, 'EPS_Growth': -0.19580419580419584, 'RD_Growth': 0.0715307582260372}, 'HPQ': {'ROE': -2.642078792958927, 'ROA': 0.09418232886126632, 'Debt_Ratio': 1.035647055308214, 'Interest_Coverage': None, 'Payout_Ratio': 0.30774111675126903, 'Dividend_Payout_Ratio': 0.3077411167512691, 'PB': -25.651232187761945, 'PS': 0.5208305534753896, 'PE': 9.708730964467005, 'Dividend_Yield': 0.03169735755142161, 'Gross_Profit_Margin': 0.19010824426441555, 'Revenue_Growth': 0.0048570255848953345, 'NetIncome_Growth': -0.40829735310681436, 'EPS_Growth': -0.36969696969696964, 'RD_Growth': 0.06766381766381767}, 'FTV': {'ROE': 0.10002707459049683, 'ROA': 0.04237054876999828, 'Debt_Ratio': 0.5764091977751018, 'Interest_Coverage': 5.325822168087698, 'Payout_Ratio': 0.22032751387197186, 'Dividend_Payout_Ratio': 0.22032751387197183, 'PB': 3.507242452957899, 'PS': 3.539344262295082, 'PE': 35.06293138449046, 'Dividend_Yield': 0.006283773351860429, 'Gross_Profit_Margin': 0.5027732240437158, 'Revenue_Growth': 0.13440885210841974, 'NetIncome_Growth': -0.7673069575184966, 'EPS_Growth': -0.7611044417767107, 'RD_Growth': 0.10234129857591118}, 'GLW': {'ROE': 0.07437824436352367, 'ROA': 0.03322029206173437, 'Debt_Ratio': 0.5533600941241609, 'Interest_Coverage': 5.502262443438914, 'Payout_Ratio': 0.7729166666666667, 'Dividend_Payout_Ratio': 0.7729166666666667, 'PB': 1.928667389788487, 'PS': 2.1640711118838563, 'PE': 25.93053125, 'Dividend_Yield': 0.02980720522903543, 'Gross_Profit_Margin': 0.35077805789793964, 'Revenue_Growth': 0.01886625332152347, 'NetIncome_Growth': 0.3808630393996248, 'EPS_Growth': -0.0672268907563024, 'RD_Growth': 0.27757125154894674}, 'HRS': {'ROE': 0.0, 'ROA': 0.0, 'Debt_Ratio': 0.6672419043751904, 'Interest_Coverage': 6.429411764705883, 'Payout_Ratio': None, 'Dividend_Payout_Ratio': None, 'PB': None, 'PS': None, 'PE': None, 'Dividend_Yield': None, 'Gross_Profit_Margin': None}, 'TSS': {'ROE': 0.22299959859329768, 'ROA': 0.07720959539326007, 'Debt_Ratio': 0.6537680072955044, 'Interest_Coverage': 4.0377233782129744, 'Payout_Ratio': 0.16397470935878583, 'Dividend_Payout_Ratio': 0.16397470935878583, 'PB': 6.352507662691529, 'PS': 4.077985904909152, 'PE': 28.48663272384229, 'Dividend_Yield': 0.0057561983877983895, 'Gross_Profit_Margin': 0.3812434353612559, 'Revenue_Growth': -0.18258124804051976, 'NetIncome_Growth': -0.016255960149099687, 'EPS_Growth': -0.006269592476489034, 'RD_Growth': 0.0}, 'FLT': {'ROE': 0.2411545267613891, 'ROA': 0.0730758871607647, 'Debt_Ratio': 0.6969748478614718, 'Interest_Coverage': None, 'Payout_Ratio': 0.0, 'Dividend_Payout_Ratio': None, 'PB': 7.79409362390937, 'PS': 10.921231644850893, 'PE': 32.319914241631686, 'Dividend_Yield': None, 'Gross_Profit_Margin': 1.0, 'Revenue_Growth': 0.08849669528397874, 'NetIncome_Growth': 0.10300893549217914, 'EPS_Growth': 0.1334792122538292, 'RD_Growth': 0.0}, 'KEYS': {'ROE': 0.20672436750998668, 'ROA': 0.09376415521666918, 'Debt_Ratio': 0.5464291106749207, 'Interest_Coverage': 8.9375, 'Payout_Ratio': 0.0, 'Dividend_Payout_Ratio': None, 'PB': 6.698282290279627, 'PS': 4.676188705554265, 'PE': 32.401996779388085, 'Dividend_Yield': None, 'Gross_Profit_Margin': 0.5888914710666977, 'Revenue_Growth': 0.10959257349149046, 'NetIncome_Growth': 2.7636363636363637, 'EPS_Growth': 2.7613636363636367, 'RD_Growth': 0.13344316309719934}, 'PAYC': {'ROE': 0.3428909970605437, 'ROA': 0.07261038466502903, 'Debt_Ratio': 0.7882406208168588, 'Interest_Coverage': 240.51808510638298, 'Payout_Ratio': 0.0, 'Dividend_Payout_Ratio': None, 'PB': 36.106283562590676, 'PS': 25.77650456639884, 'PE': 105.29959629186604, 'Dividend_Yield': None, 'Gross_Profit_Margin': 0.8512250041007441, 'Revenue_Growth': 0.3025324189173918, 'NetIncome_Growth': 0.31744792616641737, 'EPS_Growth': 0.32489451476793246, 'RD_Growth': 0.5802106082556706}, 'EPAM': {'ROE': 0.1635546895802073, 'ROA': 0.11632477916485459, 'Debt_Ratio': 0.28877136165631706, 'Interest_Coverage': None, 'Payout_Ratio': 0.0, 'Dividend_Payout_Ratio': None, 'PB': 7.950735362313575, 'PS': 5.532538826383143, 'PE': 48.612090443389754, 'Dividend_Yield': None, 'Gross_Profit_Margin': 0.35120790932767404, 'Revenue_Growth': 0.24465953881682903, 'NetIncome_Growth': 0.08657848295151838, 'EPS_Growth': 0.06473214285714265, 'RD_Growth': 0.0}, 'ANET': {'ROE': 0.297050180917723, 'ROA': 0.2054498015669165, 'Debt_Ratio': 0.30836668426799574, 'Interest_Coverage': None, 'Payout_Ratio': 0.0, 'Dividend_Payout_Ratio': None, 'PB': 6.4749335368326655, 'PS': 7.774859091071247, 'PE': 21.797440138998244, 'Dividend_Yield': None, 'Gross_Profit_Margin': 0.6406164833040612, 'Revenue_Growth': 0.12054510407094274, 'NetIncome_Growth': 1.6206269143440561, 'EPS_Growth': 1.5649202733485195, 'RD_Growth': 0.04585868356581719}, 'DVMT': {}, 'LDOS': {'ROE': 0.19542924113682977, 'ROA': 0.07120743034055728, 'Debt_Ratio': 0.6356357425002669, 'Interest_Coverage': 5.891156462585034, 'Payout_Ratio': 0.29685157421289354, 'Dividend_Payout_Ratio': 0.2968515742128936, 'PB': 4.268429534134192, 'PS': 1.3131557598702, 'PE': 21.84130434782609, 'Dividend_Yield': 0.013591293335118049, 'Gross_Profit_Margin': 0.13953488372093023, 'Revenue_Growth': 0.08828722778104768, 'NetIncome_Growth': 0.14802065404475043, 'EPS_Growth': 0.2103896103896104, 'RD_Growth': 0.06521739130434782}, 'PAGS': {'ROE': 0.17085843791804484, 'ROA': 0.09364790668763828, 'Debt_Ratio': 0.45189767723056146, 'Interest_Coverage': None, 'Payout_Ratio': 0.0, 'Dividend_Payout_Ratio': None, 'PB': 1.4093065715332402, 'PS': 1.973639473970552, 'PE': 8.248387312362285, 'Dividend_Yield': None, 'Gross_Profit_Margin': 0.5160354211664581, 'Revenue_Growth': 0.26565295169946335, 'NetIncome_Growth': -2.5095541401273884, 'EPS_Growth': 0.3974011911207363, 'RD_Growth': 0.0}, 'HUBS': {'ROE': -0.08269149698903622, 'ROA': -0.0342490893843499, 'Debt_Ratio': 0.5858209050334297, 'Interest_Coverage': -2.2251292838986765, 'Payout_Ratio': 0.0, 'Dividend_Payout_Ratio': None, 'PB': 11.891257204311662, 'PS': 11.452475698663426, 'PE': -143.80265973281735, 'Dividend_Yield': None, 'Gross_Profit_Margin': 0.8074296891207066, 'Revenue_Growth': 0.31556785839603885, 'NetIncome_Growth': -0.157955756094504, 'EPS_Growth': 0.0, 'RD_Growth': 0.3455183966395415}, 'FICO': {'ROE': 0.6630292614410889, 'ROA': 0.13402927765778738, 'Debt_Ratio': 0.7978531484923067, 'Interest_Coverage': 5.435500100623868, 'Payout_Ratio': 0.0, 'Dividend_Payout_Ratio': None, 'PB': 30.22744204826637, 'PS': 7.550248732202783, 'PE': 45.58990651870667, 'Dividend_Yield': None, 'Gross_Profit_Margin': 0.7096371552725107, 'Revenue_Growth': 0.12359427589045739, 'NetIncome_Growth': 0.34904328897939124, 'EPS_Growth': 0.38413361169102295, 'RD_Growth': 0.16431303209926548}, 'HPE': {'ROE': 0.061352204936249856, 'ROA': 0.020249792483060827, 'Debt_Ratio': 0.6699418952570314, 'Interest_Coverage': 2.554276315789474, 'Payout_Ratio': 0.5795996186844614, 'Dividend_Payout_Ratio': 0.5795996186844614, 'PB': 1.2646964557258158, 'PS': 0.7421925519135061, 'PE': 20.613708293612966, 'Dividend_Yield': 0.028117193201188693, 'Gross_Profit_Margin': 0.3258280418740347, 'Revenue_Growth': -0.05565279398418255, 'NetIncome_Growth': -0.45020964360587, 'EPS_Growth': -0.376, 'RD_Growth': 0.10763680096211665}}\n"
     ]
    }
   ],
   "source": [
    "#add selected companies to a list\n",
    "for item in screener:\n",
    "    companies.append(item['symbol'])\n",
    "\n",
    "#print(companies)\n",
    "\n",
    "value_ratios ={}\n",
    "#get the financial ratios\n",
    "count = 0\n",
    "for company in companies:\n",
    "    try:\n",
    "        if count <30:\n",
    "            count = count + 1\n",
    "            fin_ratios = requests.get(f'https://financialmodelingprep.com/api/v3/ratios/{company}?apikey={demo}').json()\n",
    "            value_ratios[company] = {}\n",
    "            value_ratios[company]['ROE'] = fin_ratios[0]['returnOnEquity']\n",
    "            value_ratios[company]['ROA'] = fin_ratios[0]['returnOnAssets']\n",
    "            value_ratios[company]['Debt_Ratio'] = fin_ratios[0]['debtRatio']\n",
    "            value_ratios[company]['Interest_Coverage'] = fin_ratios[0]['interestCoverage']\n",
    "            value_ratios[company]['Payout_Ratio'] = fin_ratios[0]['payoutRatio']\n",
    "            value_ratios[company]['Dividend_Payout_Ratio'] = fin_ratios[0]['dividendPayoutRatio']\n",
    "            value_ratios[company]['PB'] = fin_ratios[0]['priceToBookRatio']\n",
    "            value_ratios[company]['PS'] = fin_ratios[0]['priceToSalesRatio']\n",
    "            value_ratios[company]['PE'] = fin_ratios[0]['priceEarningsRatio']\n",
    "            value_ratios[company]['Dividend_Yield'] = fin_ratios[0]['dividendYield']\n",
    "            value_ratios[company]['Gross_Profit_Margin'] = fin_ratios[0]['grossProfitMargin']\n",
    "            #more financials on growth:https://financialmodelingprep.com/api/v3/financial-growth/AAPL?apikey=demo\n",
    "            growth_ratios = requests.get(f'https://financialmodelingprep.com/api/v3/financial-growth/{company}?apikey={demo}').json()\n",
    "            value_ratios[company]['Revenue_Growth'] = growth_ratios[0]['revenueGrowth']\n",
    "            value_ratios[company]['NetIncome_Growth'] = growth_ratios[0]['netIncomeGrowth']\n",
    "            value_ratios[company]['EPS_Growth'] = growth_ratios[0]['epsgrowth']\n",
    "            value_ratios[company]['RD_Growth'] = growth_ratios[0]['rdexpenseGrowth']\n",
    "\n",
    "    except:\n",
    "        pass\n",
    "print(value_ratios)"
   ]
  },
  {
   "cell_type": "code",
   "execution_count": 4,
   "metadata": {},
   "outputs": [
    {
     "name": "stdout",
     "output_type": "stream",
     "text": [
      "           ROE       ROA  Debt_Ratio  Interest_Coverage  Payout_Ratio  \\\n",
      "SAP        NaN  0.000000    0.439184                NaN           NaN   \n",
      "CRM   0.003718  0.002286    0.385317                NaN      0.000000   \n",
      "ORCL  0.839407  0.087796    0.895407           6.046617      0.302911   \n",
      "ACN   0.331675  0.160427    0.516312         272.255237      0.389555   \n",
      "\n",
      "      Dividend_Payout_Ratio         PB        PS           PE  Dividend_Yield  \\\n",
      "SAP                     NaN        NaN       NaN          NaN             NaN   \n",
      "CRM                     NaN   4.274458  8.471166  1149.523810             NaN   \n",
      "ORCL               0.302911  15.078630  4.660064    17.963432        0.016863   \n",
      "ACN                0.389555   8.679772  2.894062    26.169486        0.014886   \n",
      "\n",
      "      Gross_Profit_Margin  Revenue_Growth  NetIncome_Growth  EPS_Growth  \\\n",
      "SAP              0.697993       -0.123985          0.000000   -0.151365   \n",
      "CRM              0.752310        0.207875         -0.886486   -0.898649   \n",
      "ORCL             0.796816       -0.011087         -0.085536    0.036066   \n",
      "ACN              0.308103        0.038737          0.177148    0.159443   \n",
      "\n",
      "      RD_Growth  \n",
      "SAP   -0.100744  \n",
      "CRM    0.466596  \n",
      "ORCL   0.006804  \n",
      "ACN    0.011324  \n"
     ]
    }
   ],
   "source": [
    "DF = pd.DataFrame.from_dict(value_ratios,orient='index')\n",
    "print(DF.head(4))"
   ]
  },
  {
   "cell_type": "code",
   "execution_count": 5,
   "metadata": {},
   "outputs": [],
   "source": [
    "#criteria ranking\n",
    "ROE = 1.2\n",
    "ROA = 1.1\n",
    "Debt_Ratio = -1.1\n",
    "Interest_Coverage = 1.05\n",
    "Dividend_Payout_Ratio = 1.01\n",
    "PB = -1.10\n",
    "PS = -1.05\n",
    "Revenue_Growth = 1.25\n",
    "Net_Income_Growth = 1.10"
   ]
  },
  {
   "cell_type": "code",
   "execution_count": 6,
   "metadata": {},
   "outputs": [],
   "source": [
    "#mean to enable comparison across ratios\n",
    "ratios_mean = []\n",
    "for item in DF.columns:\n",
    "\tratios_mean.append(DF[item].mean())\n",
    "\n",
    "#divide each value in dataframe by mean to normalize values\n",
    "DF = DF / ratios_mean"
   ]
  },
  {
   "cell_type": "code",
   "execution_count": 7,
   "metadata": {},
   "outputs": [],
   "source": [
    "DF['ranking'] = DF['NetIncome_Growth']*Net_Income_Growth + DF['Revenue_Growth']*Revenue_Growth  + DF['ROE']*ROE + DF['ROA']*ROA + DF['Debt_Ratio'] * Debt_Ratio + DF['Interest_Coverage'] * Interest_Coverage + DF['Dividend_Payout_Ratio'] * Dividend_Payout_Ratio + DF['PB']*PB + DF['PS']*PS "
   ]
  },
  {
   "cell_type": "code",
   "execution_count": 8,
   "metadata": {},
   "outputs": [
    {
     "name": "stdout",
     "output_type": "stream",
     "text": [
      "            ROE       ROA  Debt_Ratio  Interest_Coverage  Payout_Ratio  \\\n",
      "STM    1.065147  1.185590    0.663589          40.392992      0.974828   \n",
      "ORCL   6.095922  1.195877    1.482396          -0.205417      1.425375   \n",
      "FTV    0.726414  0.577133    0.954277          -0.180930      1.036772   \n",
      "IBM    3.286291  0.844101    1.428836          -0.256966      2.847507   \n",
      "LDOS   1.419242  0.969922    1.052330          -0.200136      1.396864   \n",
      "ABB    0.820391  0.451397    1.153589          -0.294215      5.158294   \n",
      "APH    1.851492  1.454611    0.962091          -0.432135      1.138713   \n",
      "GLW    0.540148  0.452496    0.916118          -0.186924      3.637034   \n",
      "TEL    1.266930  1.275377    0.766999          -0.964712      1.551520   \n",
      "HPE    0.445551  0.275824    1.109126          -0.086774      2.727362   \n",
      "TSS    1.619463  1.051678    1.082349          -0.137171      0.771599   \n",
      "ACN    2.408685  2.185194    0.854783          -9.249120      1.833087   \n",
      "SAP         NaN  0.000000    0.727093                NaN           NaN   \n",
      "CRM    0.027004  0.031133    0.637914                NaN      0.000000   \n",
      "SHOP  -0.300632 -0.487317    0.224764                NaN      0.000000   \n",
      "SNE         NaN  0.112260    1.457009                NaN      1.052941   \n",
      "NOW    2.138777  1.417419    1.070588          -0.068576      0.000000   \n",
      "SQ     1.589782  1.123641    1.031692                NaN      0.000000   \n",
      "VMW    6.643612  3.321608    1.214246          -0.327866      0.000000   \n",
      "HPQ  -19.187244  1.282865    1.714571                NaN      1.448105   \n",
      "HRS    0.000000  0.000000    1.104656          -0.218422           NaN   \n",
      "FLT    1.751307  0.995373    1.153880                NaN      0.000000   \n",
      "KEYS   1.501269  1.277169    0.904643          -0.303627      0.000000   \n",
      "PAYC   2.490135  0.989032    1.304976          -8.170938      0.000000   \n",
      "EPAM   1.187763  1.584469    0.478077                NaN      0.000000   \n",
      "ANET   2.157231  2.798448    0.510518                NaN      0.000000   \n",
      "PAGS   1.240804  1.275586    0.748141                NaN      0.000000   \n",
      "HUBS  -0.600520 -0.466510    0.969859           0.075593      0.000000   \n",
      "FICO   4.815036  1.825624    1.320890          -0.184656      0.000000   \n",
      "\n",
      "      Dividend_Payout_Ratio        PB        PS         PE  Dividend_Yield  \\\n",
      "STM                0.488409  0.427345  0.395701   0.483463        0.398818   \n",
      "ORCL               0.714142  1.713252  0.665208   0.338669        0.832461   \n",
      "FTV                0.519444  0.398497  0.505229   0.661050        0.310212   \n",
      "IBM                1.426658  0.665721  0.225943   0.244107        2.307251   \n",
      "LDOS               0.699857  0.484984  0.187448   0.411779        0.670964   \n",
      "ABB                2.584409  0.422856  0.256834   0.621106        1.642671   \n",
      "APH                0.570518  0.758814  0.525063   0.493863        0.456055   \n",
      "GLW                1.822227  0.219138  0.308914   0.488875        1.471498   \n",
      "TEL                0.777343  0.343917  0.339607   0.327110        0.938153   \n",
      "HPE                1.366463  0.143696  0.105945   0.388635        1.388067   \n",
      "TSS                0.386587  0.721780  0.582118   0.537065        0.284167   \n",
      "ACN                0.918413  0.986206  0.413117   0.493380        0.734872   \n",
      "SAP                     NaN       NaN       NaN        NaN             NaN   \n",
      "CRM                     NaN  0.485669  1.209230  21.672249             NaN   \n",
      "SHOP                    NaN  2.030746  4.875286  -8.139812             NaN   \n",
      "SNE                     NaN       NaN       NaN        NaN             NaN   \n",
      "NOW                     NaN  3.597499  2.779301   2.026882             NaN   \n",
      "SQ                      NaN  2.349763  1.074147   1.781066             NaN   \n",
      "VMW                     NaN  0.830791  0.676687   0.150689             NaN   \n",
      "HPQ                0.725530 -2.914524  0.074347   0.183041        1.564810   \n",
      "HRS                     NaN       NaN       NaN        NaN             NaN   \n",
      "FLT                     NaN  0.885574  1.558968   0.609335             NaN   \n",
      "KEYS                    NaN  0.761067  0.667510   0.610883             NaN   \n",
      "PAYC                    NaN  4.102440  3.679507   1.985239             NaN   \n",
      "EPAM                    NaN  0.903372  0.789751   0.916495             NaN   \n",
      "ANET                    NaN  0.735690  1.109834   0.410952             NaN   \n",
      "PAGS                    NaN  0.160127  0.281730   0.155509             NaN   \n",
      "HUBS                    NaN  1.351099  1.634802  -2.711146             NaN   \n",
      "FICO                    NaN  3.434479  1.077772   0.859517             NaN   \n",
      "\n",
      "      Gross_Profit_Margin  Revenue_Growth  NetIncome_Growth  EPS_Growth  \\\n",
      "STM              0.742341       -0.160665          0.171412    0.188525   \n",
      "ORCL             1.529345       -0.159392          0.072915   -0.034725   \n",
      "FTV              0.964983        1.932335          0.654089    0.732809   \n",
      "IBM              0.907776       -0.441460         -0.068661   -0.106645   \n",
      "LDOS             0.267812        1.269265         -0.126180   -0.202568   \n",
      "ABB              0.610961        0.164232          0.285633    0.322917   \n",
      "APH              0.610419        0.041016          0.035371    0.028885   \n",
      "GLW              0.673256        0.271232         -0.324666    0.064728   \n",
      "TEL              0.627119       -0.555000          0.239616    0.245631   \n",
      "HPE              0.625368       -0.800095          0.383780    0.362021   \n",
      "TSS              0.731728       -2.624888          0.013857    0.006037   \n",
      "ACN              0.591349        0.556902         -0.151009   -0.153515   \n",
      "SAP              1.339671       -1.782478         -0.000000    0.145737   \n",
      "CRM              1.443924        2.988529          0.755683    0.865239   \n",
      "SHOP             1.052766        6.764027         -0.796139   -0.778061   \n",
      "SNE              0.580259        0.130719          0.070283   -0.000000   \n",
      "NOW              1.477464        4.693075         20.857948   22.530048   \n",
      "SQ               0.769473       -9.880494          9.175539   10.377088   \n",
      "VMW              1.599937        2.942914         -1.404320   -1.528521   \n",
      "HPQ              0.364879        0.069827          0.348052    0.355953   \n",
      "HRS                   NaN             NaN               NaN         NaN   \n",
      "FLT              1.919321        1.272277         -0.087810   -0.128517   \n",
      "KEYS             1.130272        1.575563         -2.355854   -2.658703   \n",
      "PAYC             1.633774        4.349371         -0.270608   -0.312816   \n",
      "EPAM             0.674081        3.517359         -0.073804   -0.062326   \n",
      "ANET             1.229548        1.733022         -1.381499   -1.506741   \n",
      "PAGS             0.990437        3.819172          2.139262   -0.382627   \n",
      "HUBS             1.549716        4.536776          0.134649   -0.000000   \n",
      "FICO             1.362021        1.776859         -0.297541   -0.369853   \n",
      "\n",
      "      RD_Growth    ranking  \n",
      "STM    0.490344  43.860468  \n",
      "ORCL   0.046640   4.803452  \n",
      "FTV    0.701550   2.957578  \n",
      "IBM    0.777385   2.874566  \n",
      "LDOS   0.447066   2.826635  \n",
      "ABB    0.304800   2.298054  \n",
      "APH    0.412728   1.590211  \n",
      "GLW    1.902752   1.198869  \n",
      "TEL   -0.384604   0.686633  \n",
      "HPE    0.737851   0.059774  \n",
      "TSS    0.000000  -2.515008  \n",
      "ACN    0.077628  -5.418688  \n",
      "SAP   -0.690603        NaN  \n",
      "CRM    3.198517        NaN  \n",
      "SHOP   3.695077        NaN  \n",
      "SNE    0.000000        NaN  \n",
      "NOW    2.833500        NaN  \n",
      "SQ     2.385601        NaN  \n",
      "VMW    1.898576        NaN  \n",
      "HPQ    0.463836        NaN  \n",
      "HRS         NaN        NaN  \n",
      "FLT    0.000000        NaN  \n",
      "KEYS   0.914753        NaN  \n",
      "PAYC   3.977346        NaN  \n",
      "EPAM   0.000000        NaN  \n",
      "ANET   0.314361        NaN  \n",
      "PAGS   0.000000        NaN  \n",
      "HUBS   2.368530        NaN  \n",
      "FICO   1.126367        NaN  \n"
     ]
    }
   ],
   "source": [
    "print(DF.sort_values(by=['ranking'],ascending=False))"
   ]
  },
  {
   "cell_type": "code",
   "execution_count": null,
   "metadata": {},
   "outputs": [],
   "source": []
  }
 ],
 "metadata": {
  "kernelspec": {
   "display_name": "Python 3",
   "language": "python",
   "name": "python3"
  },
  "language_info": {
   "codemirror_mode": {
    "name": "ipython",
    "version": 3
   },
   "file_extension": ".py",
   "mimetype": "text/x-python",
   "name": "python",
   "nbconvert_exporter": "python",
   "pygments_lexer": "ipython3",
   "version": "3.7.7"
  }
 },
 "nbformat": 4,
 "nbformat_minor": 4
}
