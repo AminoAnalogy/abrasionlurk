{
 "cells": [
  {
   "cell_type": "code",
   "execution_count": null,
   "metadata": {},
   "outputs": [],
   "source": [
    "#https://www.youtube.com/watch?v=1Idq74JZQts&t=780s\n",
    "import pandas as pd\n",
    "import plotly.express as px\n",
    "import plotly.graph_objects as go\n",
    "import requests\n",
    "import json"
   ]
  },
  {
   "cell_type": "code",
   "execution_count": null,
   "metadata": {},
   "outputs": [],
   "source": [
    "#used the old url that includes /financials/\n",
    "quote = 'AAPL'\n",
    "period = ''\n",
    "def getfinancials(quote):\n",
    "    r= requests.get(f\"https://financialmodelingprep.com/api/v3/financials/income-statement/{quote}?period=quarter&apikey=31fa1a9122c9b0d18024b5eb2d9ef148\")\n",
    "    r = r.json()\n",
    "    d = r['financials']\n",
    "    count = 0\n",
    "    for item in d:\n",
    "        if count == 0:\n",
    "            d = r['financials']\n",
    "            d = d[0]\n",
    "            incomeinitial = pd.DataFrame(list(d.items()),columns=['item','value'])\n",
    "        count = count + 1\n",
    "        if count > 5:  \n",
    "            continue\n",
    "        d = r['financials']\n",
    "        d = d[count]   \n",
    "\n",
    "        incomeinitial2 = pd.DataFrame(list(d.items()),columns=['item','value'])\n",
    "        incomeinitial = incomeinitial.merge(incomeinitial2, on=\"item\", how= 'left')\n",
    "\n",
    "    incomeinitial.columns = incomeinitial.iloc[0]\n",
    "    incomeinitial= incomeinitial[1:]\n",
    "    incomeinitial\n",
    "    cols = incomeinitial.columns\n",
    "    cols = cols[1:]\n",
    "\n",
    "    incomeinitial[cols]=incomeinitial[cols].apply(pd.to_numeric, errors='coerce')\n",
    "    return incomeinitial\n",
    "    \n",
    "incomeinitial = getfinancials(quote)"
   ]
  },
  {
   "cell_type": "code",
   "execution_count": null,
   "metadata": {},
   "outputs": [],
   "source": [
    "incomeinitial"
   ]
  },
  {
   "cell_type": "code",
   "execution_count": null,
   "metadata": {},
   "outputs": [],
   "source": [
    "incomeinitial.info"
   ]
  },
  {
   "cell_type": "code",
   "execution_count": null,
   "metadata": {},
   "outputs": [],
   "source": []
  },
  {
   "cell_type": "code",
   "execution_count": null,
   "metadata": {},
   "outputs": [],
   "source": [
    "REV = incomeinitial[incomeinitial['date'] == 'Revenue'].iloc[0][1]\n",
    "COGs = incomeinitial[incomeinitial['date'] == 'Cost of Revenue'].iloc[0][1]*-1\n",
    "GrossProfit = incomeinitial[incomeinitial['date'] == 'Gross Profit'].iloc[0][1]\n",
    "RD = incomeinitial[incomeinitial['date'] == 'R&D Expenses'].iloc[0][1]*-1\n",
    "GA = incomeinitial[incomeinitial['date'] == 'SG&A Expense'].iloc[0][1]*-1\n",
    "OperExp = incomeinitial[incomeinitial['date'] == 'Operating Expenses'].iloc[0][1]*-1\n",
    "INT = incomeinitial[incomeinitial['date'] == 'Interest Expense'].iloc[0][1]*-1\n",
    "EBT = incomeinitial[incomeinitial['date'] == 'Earnings before Tax'].iloc[0][1]\n",
    "IncTax = incomeinitial[incomeinitial['date'] == 'Income Tax Expense'].iloc[0][1]*-1\n",
    "NetInc = incomeinitial[incomeinitial['date'] == 'Net Income Com'].iloc[0][1]"
   ]
  },
  {
   "cell_type": "code",
   "execution_count": null,
   "metadata": {},
   "outputs": [],
   "source": [
    "import plotly.graph_objects as go\n",
    "\n",
    "fig = go.Figure(go.Waterfall(\n",
    "    name = \"20\", orientation = \"v\",\n",
    "    measure = [\"relative\", \"relative\", \"total\", \"relative\", \"relative\", \"total\", \"relative\", \"total\"],\n",
    "    x = [\"Revenue\", \"Cost of Revenue\", \"Gross Profit\", \"R&D Expenses\", \"SG&A Expense\", \"Operating Expenses\", \"Interest Expense\", \"Earnings before Tax\", \"Income Tax Expense\", \"Net Income Com\"],\n",
    "    textposition = \"outside\",\n",
    "    text = [REV/1000, COGs/1000, GrossProfit/1000, RD/1000, GA/1000, OperExp/1000, INT/1000, EBT/1000, IncTax/1000, NetInc/1000],\n",
    "    y = [REV, COGs, GrossProfit, RD, GA, OperExp, INT, EBT, IncTax, NetInc],\n",
    "    connector = {\"line\":{\"color\":\"rgba(63, 63, 63, 0.7)\"}},\n",
    "    decreasing = {\"marker\":{\"color\":\"rgba(219, 64, 82, 0.7)\"}},\n",
    "    increasing = {\"marker\":{\"color\":\"rgba(50, 171, 96, 0.7)\"}},\n",
    "    totals = {\"marker\":{\"color\":\"rgba(55, 128, 192, 0.7)\"}},\n",
    "            \n",
    "      \n",
    "))\n",
    "\n",
    "fig.update_layout(\n",
    "        title = \"Income Statement – Last Quarter\",\n",
    "        showlegend = False\n",
    ")\n",
    "\n",
    "fig.show()\n",
    "\n",
    "    "
   ]
  },
  {
   "cell_type": "code",
   "execution_count": null,
   "metadata": {
    "slideshow": {
     "slide_type": "slide"
    }
   },
   "outputs": [],
   "source": [
    "Just Playing After this"
   ]
  },
  {
   "cell_type": "code",
   "execution_count": null,
   "metadata": {},
   "outputs": [],
   "source": [
    "import plotly.io as pio\n",
    "pio.renderers"
   ]
  },
  {
   "cell_type": "code",
   "execution_count": null,
   "metadata": {},
   "outputs": [],
   "source": [
    "import plotly.graph_objects as go\n",
    "fig = go.Figure(\n",
    "    data=[go.Bar(y=[2, 1, 3])],\n",
    "    layout_title_text=\"A Figure Displayed with the 'svg' Renderer\"\n",
    ")\n",
    "fig.show(renderer=\"svg\")"
   ]
  },
  {
   "cell_type": "code",
   "execution_count": null,
   "metadata": {},
   "outputs": [],
   "source": [
    "\n",
    "import plotly.graph_objects as go\n",
    "import numpy as np\n",
    "np.random.seed(1)\n",
    "\n",
    "N = 100\n",
    "x = np.random.rand(N)\n",
    "y = np.random.rand(N)\n",
    "colors = np.random.rand(N)\n",
    "sz = np.random.rand(N) * 30\n",
    "\n",
    "fig = go.Figure()\n",
    "fig.add_trace(go.Scatter(\n",
    "    x=x,\n",
    "    y=y,\n",
    "    mode=\"markers\",\n",
    "    marker=go.scatter.Marker(\n",
    "        size=sz,\n",
    "        color=colors,\n",
    "        opacity=0.6,\n",
    "        colorscale=\"Viridis\"\n",
    "    )\n",
    "))\n",
    "\n",
    "fig.show(renderer=\"svg\")"
   ]
  },
  {
   "cell_type": "code",
   "execution_count": null,
   "metadata": {},
   "outputs": [],
   "source": []
  }
 ],
 "metadata": {
  "kernelspec": {
   "display_name": "Python 3",
   "language": "python",
   "name": "python3"
  },
  "language_info": {
   "codemirror_mode": {
    "name": "ipython",
    "version": 3
   },
   "file_extension": ".py",
   "mimetype": "text/x-python",
   "name": "python",
   "nbconvert_exporter": "python",
   "pygments_lexer": "ipython3",
   "version": "3.7.7"
  },
  "widgets": {
   "application/vnd.jupyter.widget-state+json": {
    "state": {},
    "version_major": 2,
    "version_minor": 0
   }
  }
 },
 "nbformat": 4,
 "nbformat_minor": 4
}
