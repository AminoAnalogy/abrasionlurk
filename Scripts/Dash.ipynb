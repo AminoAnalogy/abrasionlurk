{
 "cells": [
  {
   "cell_type": "code",
   "execution_count": null,
   "metadata": {},
   "outputs": [],
   "source": [
    "import dash\n",
    "import dash_core_components as dcc\n",
    "import dash_html_components as html\n",
    "from dash.dependencies import Input, Output"
   ]
  },
  {
   "cell_type": "code",
   "execution_count": null,
   "metadata": {},
   "outputs": [],
   "source": [
    "import requests\n",
    "import plotly.graph_objects as go"
   ]
  },
  {
   "cell_type": "code",
   "execution_count": null,
   "metadata": {},
   "outputs": [],
   "source": [
    "app = dash.Dash()"
   ]
  },
  {
   "cell_type": "code",
   "execution_count": null,
   "metadata": {},
   "outputs": [],
   "source": [
    "app.layout = html.Div([\n",
    "  html.H1('Financial Dashboard'),\n",
    "\n",
    "  html.Div([\n",
    "  dcc.Input(id='company_selection',value='AAPL'),\n",
    "  html.H3(id='text'),\n",
    "  dcc.Graph(id ='revenue'),\n",
    "  dcc.Graph(id ='netincome'),\n",
    "  ],style= {'padding':10})\n",
    "])"
   ]
  },
  {
   "cell_type": "code",
   "execution_count": null,
   "metadata": {},
   "outputs": [],
   "source": [
    "@app.callback(Output('revenue','figure'),\n",
    "              [Input('company_selection','value')])\n",
    "def retrieve_revenue(company):\n",
    "  demo = '31fa1a9122c9b0d18024b5eb2d9ef148'\n",
    "  stock = company\n",
    "  print(stock)\n",
    "  IS = requests.get(f'https://financialmodelingprep.com/api/v3/financials/income-statement/{company}?apikey={demo}')\n",
    "  IS = IS.json()\n",
    "  IS = IS['financials']\n",
    "  Revenues = []\n",
    "  Dates = []\n",
    "  count = 0\n",
    "  for item in IS:\n",
    "    Revenues.append(float(IS[count]['Revenue']))\n",
    "    Dates.append(IS[count]['date'])\n",
    "    count += 1\n",
    "  print(Revenues)\n",
    "\n",
    "  datapoints = {'data': [go.Bar(x=Dates, y=Revenues)],'layout': dict(xaxis={'title':'Date'},\n",
    "                                                                      yaxis={'title':'Revenue'},\n",
    "                                                                            )}\n",
    "\n",
    "  return datapoints"
   ]
  },
  {
   "cell_type": "code",
   "execution_count": null,
   "metadata": {},
   "outputs": [],
   "source": [
    "@app.callback(Output('netincome','figure'),\n",
    "              [Input('company_selection','value')])\n",
    "def retrieve_revenue(company):\n",
    "  demo = 'your api key'\n",
    "  stock = company\n",
    "  IS = requests.get(f'https://financialmodelingprep.com/api/v3/financials/income-statement/{company}?apikey={demo}')\n",
    "  IS = IS.json()\n",
    "  IS = IS['financials']\n",
    "  Revenues = []\n",
    "  Dates = []\n",
    "  count = 0\n",
    "  for item in IS:\n",
    "    Revenues.append(float(IS[count]['Net Income']))\n",
    "    Dates.append(IS[count]['date'])\n",
    "    count += 1\n",
    " \n",
    "  datapoints = {'data': [go.Bar(x=Dates, y=Revenues,marker_color='lightsalmon',name='Net Income')],\n",
    "  'layout': dict(xaxis={'title':'Date'},\n",
    "                yaxis={'title':'Net Income'},\n",
    "                  )}\n",
    "\n",
    "\n",
    "  return datapoints"
   ]
  },
  {
   "cell_type": "code",
   "execution_count": null,
   "metadata": {},
   "outputs": [],
   "source": [
    "@app.callback(\n",
    "    Output(component_id='text', component_property='children'),\n",
    "    [Input(component_id='company_selection', component_property='value')]\n",
    ")\n",
    "def update_output_div(input_value):\n",
    "    return 'Displaying Data for \"{}\"'.format(input_value)"
   ]
  },
  {
   "cell_type": "code",
   "execution_count": null,
   "metadata": {},
   "outputs": [],
   "source": [
    "if __name__ == '__main__':\n",
    "    app.run_server()"
   ]
  },
  {
   "cell_type": "code",
   "execution_count": null,
   "metadata": {},
   "outputs": [],
   "source": []
  }
 ],
 "metadata": {
  "kernelspec": {
   "display_name": "Python 3",
   "language": "python",
   "name": "python3"
  },
  "language_info": {
   "codemirror_mode": {
    "name": "ipython",
    "version": 3
   },
   "file_extension": ".py",
   "mimetype": "text/x-python",
   "name": "python",
   "nbconvert_exporter": "python",
   "pygments_lexer": "ipython3",
   "version": "3.7.7"
  },
  "widgets": {
   "application/vnd.jupyter.widget-state+json": {
    "state": {},
    "version_major": 2,
    "version_minor": 0
   }
  }
 },
 "nbformat": 4,
 "nbformat_minor": 4
}
